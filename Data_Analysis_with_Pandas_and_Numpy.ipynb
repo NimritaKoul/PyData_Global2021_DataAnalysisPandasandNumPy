{
 "cells": [
  {
   "cell_type": "markdown",
   "metadata": {},
   "source": [
    "# PyData Global 2021 : Data Analysis with Pandas and NumPy\n",
    "\n",
    "### Instructor : Nimrita Koul\n",
    "                  Assistant Professor, Computer Science and Engineering. \n",
    "                  From Bangalore, India\n",
    "### Webpage: nimritakoul.github.io \n",
    "\n",
    "### Github Repository URL  for this Notebook: \n",
    "### https://github.com/NimritaKoul/PyData_Global2021_DataAnalysisPandasandNumPy\n",
    "\n"
   ]
  },
  {
   "cell_type": "markdown",
   "metadata": {},
   "source": [
    "## Contents\n",
    "1. Introduction to NumPy \n",
    "2. Very Brief Introduction to Matplotlib.pyplot\n",
    "3. Introduction to pandas \n",
    "4. Examples"
   ]
  },
  {
   "cell_type": "markdown",
   "metadata": {},
   "source": [
    "### Sources and References\n",
    "\n",
    "[1] https://numpy.org/doc/stable/user/basics.html\n",
    "\n",
    "[2] https://pandas.pydata.org/docs/getting_started/intro_tutorials/\n",
    "\n",
    "[3] https://matplotlib.org/stable/gallery/index.html\n",
    "\n",
    "[4] https://pandas.pydata.org/docs/pandas.pdf\n",
    "\n",
    "[5] Python for Data Analysis by Wes McKinney (O'Reilly). Copyright 2017 Wes McKinney, 978-1-491-95766-0\n",
    "\n",
    "[6] Guide to NumPy , Travis E. Oliphant https://web.mit.edu/dvp/Public/numpybook.pdf\n",
    "\n",
    "[7] https://cs231n.github.io/python-numpy-tutorial/#numpy\n",
    "\n",
    "[8] https://www.kaggle.com/lavanyashukla01/pandas-numpy-python-cheatsheet\n",
    "\n",
    "[9] https://cs231n.github.io/python-numpy-tutorial/#numpy\n",
    "\n",
    "[10] https://www.geeksforgeeks.org/how-to-set-the-spacing-between-subplots-in-matplotlib-in-python/\n",
    "\n",
    "[11] https://blog.jovian.ai/5-numpy-functions-you-didnt-know-you-needed-8e68624e1d69\n",
    "\n",
    "[12] https://nbviewer.org/github/justmarkham/pandas-videos/blob/master/pandas.ipynb\n",
    "\n",
    "[13] https://github.com/rougier/numpy-100/blob/master/100_Numpy_exercises.ipynb\n",
    "\n",
    "[14] https://www.hackerearth.com/practice/machine-learning/data-manipulation-visualisation-r-python/tutorial-data-manipulation-numpy-pandas-python/tutorial/\n",
    "\n",
    "[15] https://github.com/datasciencedojo/datasets/blob/master/titanic.csv\n",
    "\n",
    "[16] https://towardsdatascience.com/all-pandas-groupby-you-should-know-for-grouping-data-and-performing-operations-2a8ec1327b5\n",
    "\n",
    "[17] **Case Study -This case study is heavily inspired by the data analysis case study from NVIDIA Deep Learning Institute's Course \"Fundamentals of Accelerated Data Science with Rapids\". https://www.nvidia.com/en-in/training/instructor-led-workshops/**\n",
    "\n"
   ]
  },
  {
   "cell_type": "markdown",
   "metadata": {
    "id": "-hPR4jtYQ2K2"
   },
   "source": [
    "# NumPy \n",
    "###  Numpy is the fundamental Python library for high performance numerical computing. \n",
    "\n",
    "1. NumPy provides a multi-dimensional (ndarray) array object as a data structure and comprehensive numerical computing tools for fast manipulation of these arrays. ndarray elements are stored in contiguous memory locations, making it faster to operate on. Its core is written in optimized C.\n",
    "\n",
    "2. The operations include mathematical, statistical, logical, reshaping, sorting and selection, I/O, linear algebra, random simulations etc. It has functionality for performing linear algebra, Fourier transform, and random number related operations.\n",
    "\n",
    "3. ndarray is a multidimensional array of homogeneous datatypes. The size of the array is fixed during creation. Operations are implemented in compiled C code for speed and performance.\n",
    " \n",
    "4. NumPy is fast due to vectorization. i.e., there is no need for explicit looping and indexing. It provides implicit element-by-element behaviour for efficiency in all the operations. This behaviour is called as broadcasting. \n",
    "\n",
    "5. NumPy supports a wide range of hardware platforms including distributed and GPU based platforms. \n",
    "\n",
    "6. NumPy code can be integrated with C, C++ and Fortran Code."
   ]
  },
  {
   "cell_type": "markdown",
   "metadata": {},
   "source": [
    "## Speed comparison array vs list from Wes McKinney Book"
   ]
  },
  {
   "cell_type": "code",
   "execution_count": 21,
   "metadata": {},
   "outputs": [
    {
     "name": "stdout",
     "output_type": "stream",
     "text": [
      "Wall time: 401 ms\n",
      "Wall time: 23.2 s\n"
     ]
    }
   ],
   "source": [
    "# Source Credit - Python for Data Analysis by Wes McKinney (O'Reilly). Copyright 2017 Wes McKinney, 978-1-491-95766-0\n",
    "import numpy as np\n",
    "\n",
    "# creating an ndarray of 10 million integers\n",
    "arr1 = np.arange(10000000) # from 0 to 9,999,999\n",
    "\n",
    "#creating a list of same 10 million integers\n",
    "list1 = list(range(10000000))\n",
    "\n",
    "#time requied to multiply each of the elements by 2 in ndarray , repeated 10 times ( 1 billion million multiplications)\n",
    "%time for _ in range(10): arr1 = arr1 * 2\n",
    "    \n",
    "#time requied to multiply each of the elements by 2 in list, repeated 10 times ( 1 billion multiplications)\n",
    "%time for _ in range(10): list1 = [x * 2 for x in list1]\n",
    "\n",
    "#57.8 times faster"
   ]
  },
  {
   "cell_type": "markdown",
   "metadata": {
    "id": "gEE4nGCuMkiJ"
   },
   "source": [
    "### Creating N-D array \n",
    "In NumPy, we can create an N-dimensional (ND) array using array() function. There are many other built-in functions to create ND array. ND array has some attributes and builtin functions."
   ]
  },
  {
   "cell_type": "code",
   "execution_count": 22,
   "metadata": {
    "colab": {
     "base_uri": "https://localhost:8080/"
    },
    "id": "A0GxxckZlgcL",
    "outputId": "d920dcfb-ad58-45ac-dc13-c6fa21b497ec"
   },
   "outputs": [
    {
     "data": {
      "text/plain": [
       "array([1, 2, 3, 4, 5])"
      ]
     },
     "execution_count": 22,
     "metadata": {},
     "output_type": "execute_result"
    }
   ],
   "source": [
    "import numpy as np\n",
    "arr1 = np.array([1,2,3,4,5])\n",
    "arr1"
   ]
  },
  {
   "cell_type": "code",
   "execution_count": 23,
   "metadata": {},
   "outputs": [
    {
     "data": {
      "text/plain": [
       "numpy.ndarray"
      ]
     },
     "execution_count": 23,
     "metadata": {},
     "output_type": "execute_result"
    }
   ],
   "source": [
    "type(arr1)"
   ]
  },
  {
   "cell_type": "code",
   "execution_count": 24,
   "metadata": {
    "colab": {
     "base_uri": "https://localhost:8080/"
    },
    "id": "JPhI2XPDgtSJ",
    "outputId": "eeef43bf-90b4-4c4b-a770-9a09bf139a7d"
   },
   "outputs": [
    {
     "name": "stdout",
     "output_type": "stream",
     "text": [
      "\n",
      "Array created using np.zeros(): \n",
      " [[0. 0. 0. 0. 0.]\n",
      " [0. 0. 0. 0. 0.]\n",
      " [0. 0. 0. 0. 0.]]\n",
      "\n",
      "Array created using np.ones(): \n",
      " [[1. 1. 1. 1.]\n",
      " [1. 1. 1. 1.]\n",
      " [1. 1. 1. 1.]\n",
      " [1. 1. 1. 1.]\n",
      " [1. 1. 1. 1.]]\n",
      "\n",
      "Array created using np.full(): \n",
      " [[3 3 3 3]\n",
      " [3 3 3 3]\n",
      " [3 3 3 3]\n",
      " [3 3 3 3]\n",
      " [3 3 3 3]\n",
      " [3 3 3 3]]\n",
      "\n",
      "Array created using np.eye(): \n",
      " [[1. 0. 0. 0.]\n",
      " [0. 1. 0. 0.]\n",
      " [0. 0. 1. 0.]\n",
      " [0. 0. 0. 1.]]\n",
      "\n",
      "Array created using np.diag(): \n",
      " [[1 0 0 0 0 0]\n",
      " [0 2 0 0 0 0]\n",
      " [0 0 3 0 0 0]\n",
      " [0 0 0 4 0 0]\n",
      " [0 0 0 0 5 0]\n",
      " [0 0 0 0 0 6]]\n",
      "\n",
      "Array created using np.arange(): \n",
      " [0 1 2 3 4 5 6 7 8 9]\n",
      "\n",
      "Array created using np.linspace(): \n",
      " [ 1.          3.05263158  5.10526316  7.15789474  9.21052632 11.26315789\n",
      " 13.31578947 15.36842105 17.42105263 19.47368421 21.52631579 23.57894737\n",
      " 25.63157895 27.68421053 29.73684211 31.78947368 33.84210526 35.89473684\n",
      " 37.94736842 40.        ]\n",
      "\n",
      "Array created using np.arange(): \n",
      " [ 0  1  2  3  4  5  6  7  8  9 10 11 12 13 14]\n",
      "\n",
      "Array reshaped into a 3x5 matrix using np.reshape(): \n",
      " [[ 0  1  2  3  4]\n",
      " [ 5  6  7  8  9]\n",
      " [10 11 12 13 14]]\n",
      "\n",
      "Array created using np.random.random(): \n",
      " [[0.52777988 0.64591985 0.15783217]\n",
      " [0.97102495 0.89100027 0.36457393]\n",
      " [0.99634737 0.79778417 0.24116177]]\n",
      "\n",
      "Array created using np.random.randint(): \n",
      " [[ 4  6]\n",
      " [13 10]\n",
      " [18 12]]\n",
      "\n",
      "Array created using np.random.normal(), mean 0, sd=0.1: \n",
      " [[-0.01183062 -0.10486019  0.06710506  0.08734172  0.01129673]\n",
      " [-0.05499249  0.1998238  -0.02701191  0.03328722  0.06936844]\n",
      " [ 0.1176453  -0.11019566 -0.04350208 -0.19733461 -0.14227196]\n",
      " [-0.08058268  0.12879554  0.0544927   0.0618522  -0.08556055]\n",
      " [-0.04841946  0.19219804 -0.03194427  0.04541208 -0.02765047]]\n"
     ]
    }
   ],
   "source": [
    "# Other methods for creating nd arrays\n",
    "import numpy as np\n",
    "arr = np.zeros((3,5))\n",
    "print(\"\\nArray created using np.zeros(): \\n\", arr)\n",
    "\n",
    "arr = np.ones((5,4))\n",
    "print(\"\\nArray created using np.ones(): \\n\", arr)\n",
    "\n",
    "arr = np.full((6,4), 3)\n",
    "print(\"\\nArray created using np.full(): \\n\", arr)\n",
    "\n",
    "arr = np.eye(4)\n",
    "print(\"\\nArray created using np.eye(): \\n\", arr)\n",
    "\n",
    "arr = np.diag([1,2,3,4,5,6])\n",
    "print(\"\\nArray created using np.diag(): \\n\", arr)\n",
    "\n",
    "arr = np.arange(10)\n",
    "print(\"\\nArray created using np.arange(): \\n\", arr)\n",
    "\n",
    "arr = np.linspace(1, 40, 20)\n",
    "print(\"\\nArray created using np.linspace(): \\n\", arr)\n",
    "\n",
    "# Reshaping an array\n",
    "arr = np.arange(15)\n",
    "print(\"\\nArray created using np.arange(): \\n\", arr)\n",
    "\n",
    "arr = np.reshape(arr, (3,5))\n",
    "print(\"\\nArray reshaped into a 3x5 matrix using np.reshape(): \\n\", arr)\n",
    "\n",
    "arr = np.random.random((3,3))\n",
    "print(\"\\nArray created using np.random.random(): \\n\", arr)\n",
    "\n",
    "arr = np.random.randint(3,25, size=(3,2))\n",
    "print(\"\\nArray created using np.random.randint(): \\n\", arr)\n",
    "\n",
    "arr = np.random.normal(0, 0.1, size=(5,5))\n",
    "print(\"\\nArray created using np.random.normal(), mean 0, sd=0.1: \\n\", arr)\n"
   ]
  },
  {
   "cell_type": "markdown",
   "metadata": {
    "id": "kJADqGQYeIE9"
   },
   "source": [
    "# Array Datatypes\n",
    "- numpy.bool_           \n",
    "- numpy.byte\n",
    "- numpy.ubyte\n",
    "- numpy.short\n",
    "- numpy.ushort\n",
    "- numpy.intc\n",
    "- numpy.uintc\n",
    "- numpy.int_\n",
    "- numpy.uint\n",
    "- numpy.longlong\n",
    "- numpy.ulonglong\n",
    "- numpy.half / numpy.float16\n",
    "- numpy.single\n",
    "- numpy.double\n",
    "- numpy.longdouble\n",
    "- numpy.csingle\n",
    "- numpy.cdouble\n",
    "- numpy.clongdouble"
   ]
  },
  {
   "cell_type": "markdown",
   "metadata": {
    "id": "_Fxw_ZYfd9T9"
   },
   "source": [
    "# Array Attributes\n",
    "- shape\n",
    "- ndim\n",
    "- dtype\n",
    "- itemsize\n",
    "- size"
   ]
  },
  {
   "cell_type": "code",
   "execution_count": 10,
   "metadata": {
    "colab": {
     "base_uri": "https://localhost:8080/"
    },
    "id": "m01eNeACl8H5",
    "outputId": "fc8b2674-e184-44f0-bd76-8b6c58a16f42"
   },
   "outputs": [
    {
     "name": "stdout",
     "output_type": "stream",
     "text": [
      "The array is: \n",
      " [[ 1  2  3  4  5]\n",
      " [ 6  7  8  9 10]]\n",
      "\n",
      "Datatype of the array :  <class 'numpy.ndarray'>\n",
      "\n",
      "Shape / size in each dimension of the array :  (2, 5)\n",
      "\n",
      "Number of Dimensions/Axes of the array :  2\n",
      "\n",
      "Datatype of the array elements :  int32\n",
      "\n",
      "Size of the array :  10\n",
      "\n",
      "Size of each element of the array :  4\n",
      "\n",
      "Element at index 1,2 :  8\n",
      "\n",
      "\n",
      "After reassignment at index 1,2\n",
      " [[ 1  2  3  4  5]\n",
      " [ 6  7 20  9 10]]\n"
     ]
    }
   ],
   "source": [
    "import numpy as np\n",
    "arr1 = np.array([[1,2,3,4,5],[6,7,8,9,10]])\n",
    "print(\"The array is: \\n\", arr1)\n",
    "\n",
    "print(\"\\nDatatype of the array : \", type(arr1))\n",
    "print(\"\\nShape / size in each dimension of the array : \",arr1.shape)\n",
    "print(\"\\nNumber of Dimensions/Axes of the array : \",arr1.ndim)\n",
    "print(\"\\nDatatype of the array elements : \",arr1.dtype)\n",
    "print(\"\\nSize of the array : \", arr1.size)\n",
    "print(\"\\nSize of each element of the array : \", arr1.itemsize)\n",
    "\n",
    "# Reassign value at some index\n",
    "print(\"\\nElement at index 1,2 : \",arr1[1,2])\n",
    "arr1[1,2] = 20\n",
    "print(\"\\n\\nAfter reassignment at index 1,2\\n\",arr1)"
   ]
  },
  {
   "cell_type": "markdown",
   "metadata": {},
   "source": [
    "### Saving and loading ND array "
   ]
  },
  {
   "cell_type": "code",
   "execution_count": 1,
   "metadata": {
    "colab": {
     "base_uri": "https://localhost:8080/"
    },
    "id": "4O5uebXugyMG",
    "outputId": "e5953ddf-72b7-4b1d-d6c9-d6218e7a94f8"
   },
   "outputs": [
    {
     "data": {
      "text/plain": [
       "array([1, 2, 3, 4, 5])"
      ]
     },
     "execution_count": 1,
     "metadata": {},
     "output_type": "execute_result"
    }
   ],
   "source": [
    "# Saving an nd array and loading \n",
    "import numpy as np\n",
    "arr1 = np.array([1,2,3,4,5])\n",
    "np.save('saved_arr1', arr1)\n",
    "loaded_arr1=np.load('saved_arr1.npy')\n",
    "loaded_arr1"
   ]
  },
  {
   "cell_type": "markdown",
   "metadata": {},
   "source": [
    "### Deleting"
   ]
  },
  {
   "cell_type": "code",
   "execution_count": 35,
   "metadata": {
    "id": "Kmb16RXXpeou"
   },
   "outputs": [
    {
     "name": "stdout",
     "output_type": "stream",
     "text": [
      "[1 2 3 4 5]\n"
     ]
    },
    {
     "ename": "NameError",
     "evalue": "name 'x' is not defined",
     "output_type": "error",
     "traceback": [
      "\u001b[1;31m-------------------------------\u001b[0m",
      "\u001b[1;31mNameError\u001b[0mTraceback (most recent call last)",
      "\u001b[1;32m<ipython-input-35-73f5d2182fc6>\u001b[0m in \u001b[0;36m<module>\u001b[1;34m\u001b[0m\n\u001b[0;32m      3\u001b[0m \u001b[0mprint\u001b[0m\u001b[1;33m(\u001b[0m\u001b[0mx\u001b[0m\u001b[1;33m)\u001b[0m\u001b[1;33m\u001b[0m\u001b[1;33m\u001b[0m\u001b[0m\n\u001b[0;32m      4\u001b[0m \u001b[1;32mdel\u001b[0m \u001b[0mx\u001b[0m\u001b[1;33m\u001b[0m\u001b[1;33m\u001b[0m\u001b[0m\n\u001b[1;32m----> 5\u001b[1;33m \u001b[0mprint\u001b[0m\u001b[1;33m(\u001b[0m\u001b[0mx\u001b[0m\u001b[1;33m)\u001b[0m\u001b[1;33m\u001b[0m\u001b[1;33m\u001b[0m\u001b[0m\n\u001b[0m",
      "\u001b[1;31mNameError\u001b[0m: name 'x' is not defined"
     ]
    }
   ],
   "source": [
    "# Deleting\n",
    "x = np.array([1, 2, 3, 4, 5])\n",
    "print(x)\n",
    "del x\n",
    "print(x)"
   ]
  },
  {
   "cell_type": "code",
   "execution_count": 36,
   "metadata": {},
   "outputs": [
    {
     "name": "stdout",
     "output_type": "stream",
     "text": [
      "x: \n",
      " [1 2 3 4 5]\n",
      "x now: \n",
      " [2 3 4]\n",
      "y: \n",
      " [[1 2 3]\n",
      " [4 5 6]\n",
      " [7 8 9]]\n",
      "y now : \n",
      " [[4 5 6]\n",
      " [7 8 9]]\n",
      "y now :\n",
      " [[2 3]\n",
      " [5 6]\n",
      " [8 9]]\n"
     ]
    }
   ],
   "source": [
    "import numpy as np\n",
    "x = np.array([1, 2, 3, 4, 5])\n",
    "print(\"x: \\n\", x)\n",
    "# delete the first and fifth element of x\n",
    "x = np.delete(x, [0,4])\n",
    "print(\"x now: \\n\", x)\n",
    "\n",
    "y = np.array([[1,2,3],[4,5,6],[7,8,9]])\n",
    "print(\"y: \\n\", y)\n",
    "# delete the first row of Y\n",
    "w = np.delete(y, 0, axis=0)\n",
    "print(\"y now : \\n\", w)\n",
    "\n",
    "# delete the first column of y\n",
    "v = np.delete(y, 0, axis=1)\n",
    "print(\"y now :\\n\", v)"
   ]
  },
  {
   "cell_type": "markdown",
   "metadata": {},
   "source": [
    "### Append, insert, copy , diagonal elements, unique elements, set operations, math functions, statistical operations"
   ]
  },
  {
   "cell_type": "code",
   "execution_count": 42,
   "metadata": {
    "colab": {
     "base_uri": "https://localhost:8080/"
    },
    "id": "9QEuOvfuptrE",
    "outputId": "f9adaa2c-7fea-4d59-b71d-a3391472ae8f"
   },
   "outputs": [
    {
     "name": "stdout",
     "output_type": "stream",
     "text": [
      "original x: \n",
      " [1 2 3 4 5]\n",
      "original y: \n",
      " [[1 2]\n",
      " [3 4]]\n",
      "x with appended values: \n",
      " [1 2 3 4 5 6 7 8]\n",
      "y with appended values on axis = 0 : \n",
      " [[ 1  2]\n",
      " [ 3  4]\n",
      " [ 9 10]]\n",
      "y with appended values on axis = 1 : \n",
      " [[ 1  2 11]\n",
      " [ 3  4 12]\n",
      " [ 9 10 13]]\n"
     ]
    }
   ],
   "source": [
    "# Append, insert, copy , diagonal elements, unique elements, set operations, math functions, statistical operations\n",
    "import numpy as np\n",
    "x=np.array([1,2,3,4,5])\n",
    "y=np.array([[1,2],[3,4]])\n",
    "print(\"original x: \\n\",  x)\n",
    "print(\"original y: \\n\" , y)\n",
    "\n",
    "#np.append(ndarray, elements, axis)\n",
    "x = np.append(x, [6,7,8]) # default axis is 0\n",
    "print(\"x with appended values: \\n\", x)\n",
    "\n",
    "\n",
    "y = np.append(y, [[9,10]], axis=0) # default axis is 0\n",
    "print(\"y with appended values on axis = 0 : \\n\", y)\n",
    "\n",
    "\n",
    "y = np.append(y, [[11],[12], [13]], axis=1) # default axis is 0\n",
    "print(\"y with appended values on axis = 1 : \\n\", y)"
   ]
  },
  {
   "cell_type": "code",
   "execution_count": 1,
   "metadata": {},
   "outputs": [
    {
     "name": "stdout",
     "output_type": "stream",
     "text": [
      "original x: \n",
      " [1 2 3 4 5]\n",
      "original y: \n",
      " [[1 2]\n",
      " [3 4]]\n",
      "x after inserting :\n",
      " [ 1  2  3 89 90  4  5]\n",
      "y after inserting :\n",
      " [[1 5 2]\n",
      " [3 5 4]]\n"
     ]
    }
   ],
   "source": [
    "# np.insert(ndarray, index, elements, axis) - The insert method inserts the given list of elements just before\n",
    "# the index specified in the method\n",
    "import numpy as np\n",
    "x=np.array([1,2,3,4,5])\n",
    "y=np.array([[1,2],[3,4]])\n",
    "print(\"original x: \\n\",  x)\n",
    "print(\"original y: \\n\" , y)\n",
    "\n",
    "x=np.insert(x, 3, [89,90])\n",
    "print(\"x after inserting :\\n\", x)\n",
    "\n",
    "y = np.insert(y,1,5, axis=1)# This will insert 5 in both rows in column 1\n",
    "print(\"y after inserting :\\n\", y)"
   ]
  },
  {
   "cell_type": "markdown",
   "metadata": {},
   "source": [
    "### Stacking"
   ]
  },
  {
   "cell_type": "code",
   "execution_count": 44,
   "metadata": {},
   "outputs": [
    {
     "name": "stdout",
     "output_type": "stream",
     "text": [
      "Horizontal and vertical stacking\n",
      "\n",
      "original x: \n",
      " [1 2] \n",
      "\n",
      "original y: \n",
      " [[3 4]\n",
      " [5 6]] \n",
      "\n",
      "Vertical stacking of x and y in z: \n",
      " [[1 2]\n",
      " [3 4]\n",
      " [5 6]] \n",
      "\n",
      "Horizontal stacking of x and y in w: \n",
      " [[3 4 1]\n",
      " [5 6 2]] \n",
      "\n"
     ]
    }
   ],
   "source": [
    "# Horizontal and vertical stacking of the arrays of compatible dimensions\n",
    "import numpy as np\n",
    "print(\"Horizontal and vertical stacking\\n\")\n",
    "x = np.array([1,2])\n",
    "print(\"original x: \\n\",x,  \"\\n\")\n",
    "y = np.array([[3,4],[5,6]])\n",
    "print(\"original y: \\n\",y, \"\\n\")\n",
    "\n",
    "z = np.vstack((x,y)) \n",
    "print(\"Vertical stacking of x and y in z: \\n\", z, \"\\n\")\n",
    "w = np.hstack((y,x.reshape(2,1))) \n",
    "print(\"Horizontal stacking of x and y in w: \\n\",w, \"\\n\")"
   ]
  },
  {
   "cell_type": "markdown",
   "metadata": {},
   "source": [
    "### Copying"
   ]
  },
  {
   "cell_type": "code",
   "execution_count": 16,
   "metadata": {},
   "outputs": [
    {
     "name": "stdout",
     "output_type": "stream",
     "text": [
      " original x: [1 2] \n",
      "\n",
      "p is the copy of x:\n",
      " [1 2]\n",
      "p1 is the copy of x:\n",
      " [1 2]\n"
     ]
    }
   ],
   "source": [
    "# Copying\n",
    "x = np.array([1,2])\n",
    "print(\" original x:\",x,  \"\\n\")\n",
    "\n",
    "p=x.copy()\n",
    "print(\"p is the copy of x:\\n\", p)\n",
    "p1=np.copy(x)\n",
    "print(\"p1 is the copy of x:\\n\", p1)"
   ]
  },
  {
   "cell_type": "markdown",
   "metadata": {},
   "source": [
    "### Diagonal Elements"
   ]
  },
  {
   "cell_type": "code",
   "execution_count": 28,
   "metadata": {},
   "outputs": [
    {
     "name": "stdout",
     "output_type": "stream",
     "text": [
      "original y: \n",
      " [[  3   2   1]\n",
      " [124  35  16]\n",
      " [ 37  81  94]]\n",
      "Diagonal d1:\n",
      " [ 3 35 94]\n",
      "Diagonal d2:\n",
      " [ 2 16]\n",
      "Diagonal d3:\n",
      " [124  81]\n",
      "Diagonal d3:\n",
      " [1]\n",
      "Diagonal d3:\n",
      " [37]\n",
      "Diagonal d3:\n",
      " []\n",
      "Unique elements in y: \n",
      " [  1   2   3  16  35  37  81  94 124]\n",
      "y sorted row wise: \n",
      " [[  3   2   1]\n",
      " [ 37  35  16]\n",
      " [124  81  94]]\n",
      "y sorted column wise: \n",
      " [[  1   2   3]\n",
      " [ 16  35  37]\n",
      " [ 81  94 124]]\n"
     ]
    }
   ],
   "source": [
    "# Diagnol Elements\n",
    "y = np.array([[3,2,1],[124,35,16],[37,81,94]])\n",
    "print(\"original y: \\n\" , y)\n",
    "\n",
    "d1=np.diag(y)\n",
    "print(\"Diagonal d1:\\n\", d1)\n",
    "d2=np.diag(y, k=1)\n",
    "print(\"Diagonal d2:\\n\", d2)\n",
    "d3=np.diag(y, k=-1)\n",
    "print(\"Diagonal d3:\\n\", d3)\n",
    "d4=np.diag(y, k=2)\n",
    "print(\"Diagonal d3:\\n\", d4)\n",
    "d5=np.diag(y, k=-2)\n",
    "print(\"Diagonal d3:\\n\", d5)\n",
    "d6=np.diag(y, k=3)\n",
    "print(\"Diagonal d3:\\n\", d6)\n",
    "\n",
    "# Identify unique elements in an array\n",
    "el= np.unique(y)\n",
    "print(\"Unique elements in y: \\n\", el)\n",
    "\n",
    "# Sorting\n",
    "y.sort(axis=0)\n",
    "print('y sorted row wise: \\n',y )\n",
    "y.sort(axis=1)\n",
    "print('y sorted column wise: \\n',y )"
   ]
  },
  {
   "cell_type": "markdown",
   "metadata": {
    "id": "wKRvwTA6Oc4Y"
   },
   "source": [
    "### Accessing Elements : Indexing and slicing"
   ]
  },
  {
   "cell_type": "code",
   "execution_count": 47,
   "metadata": {
    "colab": {
     "base_uri": "https://localhost:8080/"
    },
    "id": "H2wrVxClmNxh",
    "outputId": "763f67d2-554d-4583-e096-1b195572366e"
   },
   "outputs": [
    {
     "name": "stdout",
     "output_type": "stream",
     "text": [
      "Array arr2\n",
      " [[1 2 3 4 5 6]\n",
      " [4 5 6 7 8 9]\n",
      " [2 3 4 5 7 9]\n",
      " [1 4 7 9 2 3]]\n",
      "Shape \n",
      " (4, 6)\n",
      "Element at [1,0]\n",
      " 4\n",
      "Slice of the array, rows 2 ro 4, and columns 3 onwards\n",
      " [[5 7 9]\n",
      " [9 2 3]]\n"
     ]
    }
   ],
   "source": [
    "import numpy as np\n",
    "arr2 = np.array([[1,2,3,4,5,6], [4,5,6,7,8,9], [2,3,4,5,7,9] , [1,4,7,9,2,3]],  dtype= \"object\")\n",
    "print(\"Array arr2\\n\",arr2)\n",
    "print(\"Shape \\n\",arr2.shape)\n",
    "print(\"Element at [1,0]\\n\", arr2 [1,0])\n",
    "print(\"Slice of the array, rows 2 ro 4, and columns 3 onwards\\n\", arr2[2:5,3:])\n"
   ]
  },
  {
   "cell_type": "code",
   "execution_count": 49,
   "metadata": {
    "colab": {
     "base_uri": "https://localhost:8080/"
    },
    "id": "ZMoyVhafpYaX",
    "outputId": "82609c2f-33f0-4bcf-c993-5c9f12db9192"
   },
   "outputs": [
    {
     "name": "stdout",
     "output_type": "stream",
     "text": [
      "Rank x :  [5 6 7 8]  Shape of x:  (4,)  ndim of x:  1\n",
      "Rank y :  [[5 6 7 8]] Shape of y:  (1, 4)  ndim of y:  2\n"
     ]
    }
   ],
   "source": [
    "#Extracting a single row, resulting in different ranked results\n",
    "import numpy as np\n",
    "arr3 = np.array([[1,2,3,4], [5,6,7,8], [9,10,11,12]])\n",
    "x = arr3[1, :]    \n",
    "y = arr3[1:2, :]  \n",
    "print(\"Rank x : \", x, \" Shape of x: \" , x.shape , \" ndim of x: \" , x.ndim)  \n",
    "print(\"Rank y : \", y, \"Shape of y: \",  y.shape , \" ndim of y: \" , y.ndim)  "
   ]
  },
  {
   "cell_type": "code",
   "execution_count": 50,
   "metadata": {
    "colab": {
     "base_uri": "https://localhost:8080/"
    },
    "id": "VSiyONDmoJg6",
    "outputId": "aa378105-c1b3-4a24-f436-d8234a4de814"
   },
   "outputs": [
    {
     "name": "stdout",
     "output_type": "stream",
     "text": [
      "[[1 2 3 4]]\n",
      "   0  1  2  3\n",
      "0  1  2  3  4\n"
     ]
    }
   ],
   "source": [
    "# Specifying ndim parameter to array() function\n",
    "import numpy as np\n",
    "import pandas as pd\n",
    "arr4 = np.array([1, 2, 3, 4], ndmin=2)\n",
    "print(arr4)\n",
    "df_arr4 = pd.DataFrame(arr4)\n",
    "print(df_arr4)"
   ]
  },
  {
   "cell_type": "code",
   "execution_count": 51,
   "metadata": {
    "colab": {
     "base_uri": "https://localhost:8080/"
    },
    "id": "zeerUYFFoBJp",
    "outputId": "5878bddc-8435-47ea-ace3-0142b12f923c"
   },
   "outputs": [
    {
     "name": "stdout",
     "output_type": "stream",
     "text": [
      "Array a : \n",
      " [[1 2 3]\n",
      " [3 4 5]\n",
      " [5 6 7]]\n",
      "Using Integer Indexing Form 1: \n",
      " [1 4 5]\n",
      "Using Integer Indexing Form 2: \n",
      " [1 4 5]\n",
      "Select one element from each row of a using the indices in b: \n",
      " [1 5 6]\n",
      "Changed elements in a: \n",
      " [[ 3  2  3]\n",
      " [ 3  4 15]\n",
      " [ 5 18  7]]\n"
     ]
    }
   ],
   "source": [
    "# Fancy Indexing - Different ways of accessing elements using integer indexing\n",
    "import numpy as np\n",
    "#A 3x3 array.\n",
    "a = np.array([[1, 2, 3], [3, 4, 5], [5, 6, 7]])\n",
    "print(\"Array a : \\n\", a)\n",
    "\n",
    "# Accessing 3 elements at a[0,0], a[1,1] and a[2,0], The returned array will have shape (3,) \n",
    "print(\"Using Integer Indexing Form 1: \\n\", a[[0, 1, 2], [0, 1, 0]])  \n",
    "\n",
    "# This line also accesses the same elements\n",
    "print(\"Using Integer Indexing Form 2: \\n\",np.array([a[0, 0], a[1, 1], a[2, 0]])) \n",
    "\n",
    "# Create an array of indices\n",
    "b = np.array([0, 2, 1])\n",
    "\n",
    "# Select one element from each row of a using the indices in b\n",
    "print(\"Select one element from each row of a using the indices in b: \\n\", a[[0,1,2], b])  #Row 0,1,2 ,Columns 0,2,1\n",
    "\n",
    "# Mutate one element from each row of a using the indices in b\n",
    "a[[0,1,2], b] *= 3\n",
    "\n",
    "print(\"Changed elements in a: \\n\", a) "
   ]
  },
  {
   "cell_type": "code",
   "execution_count": 53,
   "metadata": {
    "colab": {
     "base_uri": "https://localhost:8080/"
    },
    "id": "74_dNiPvqxHF",
    "outputId": "68d521db-52bd-4976-8ede-b1ba1fd4462f"
   },
   "outputs": [
    {
     "name": "stdout",
     "output_type": "stream",
     "text": [
      "Array a: \n",
      " [[1 2 3 4]\n",
      " [3 4 6 7]\n",
      " [5 6 8 9]]\n",
      "Elements of a that are greater than 4 : \n",
      " [6 7 5 6 8 9]\n"
     ]
    }
   ],
   "source": [
    "#Boolean array indexing: Boolean array indexing lets you pick out arbitrary elements of an array. Frequently this type of indexing is used to select the elements of an array that satisfy some condition. Here is an example:\n",
    "import numpy as np\n",
    "\n",
    "a = np.array([[1,2,3,4], [3, 4 ,6, 7], [5, 6 , 8, 9]])\n",
    "\n",
    "print(\"Array a: \\n\", a)\n",
    "\n",
    "print(\"Elements of a that are greater than 4 : \\n\", a[a > 4])     "
   ]
  },
  {
   "cell_type": "code",
   "execution_count": 8,
   "metadata": {},
   "outputs": [
    {
     "name": "stdout",
     "output_type": "stream",
     "text": [
      "Original arr1:  [1.2 3.5 0.  2.2]\n",
      "32 bytes\n",
      "Reversed : [2.2 0.  3.5 1.2]\n",
      "Index of non zero elements in arr1: (array([0, 1, 3], dtype=int64),)\n",
      "0.0 3.5\n"
     ]
    }
   ],
   "source": [
    "#Finding Size of an array\n",
    "import numpy as np\n",
    "\n",
    "arr1 = np.array([1.2, 3.5, 0.0, 2.2])\n",
    "print(\"Original arr1: \", arr1)\n",
    "print(\"%d bytes\" % (arr1.size * arr1.itemsize))\n",
    "\n",
    "# reversing an array\n",
    "print(\"Reversed :\", arr1[::-1])\n",
    "\n",
    "#index of non-zero elements\n",
    "nz_idx = np.nonzero(arr1)\n",
    "print('Index of non zero elements in arr1:', nz_idx)\n",
    "\n",
    "#min and max\n",
    "print(arr1.min(), arr1.max())"
   ]
  },
  {
   "cell_type": "code",
   "execution_count": 56,
   "metadata": {},
   "outputs": [
    {
     "name": "stdout",
     "output_type": "stream",
     "text": [
      "[[2 3 4 5]\n",
      " [3 6 7 8]]\n",
      "[[0 0 0 0 0 0]\n",
      " [0 2 3 4 5 0]\n",
      " [0 3 6 7 8 0]\n",
      " [0 0 0 0 0 0]]\n"
     ]
    }
   ],
   "source": [
    "# padding an array with zeros\n",
    "import numpy as np\n",
    "arr1 = np.array([[2,3,4,5], [3,6,7,8]])\n",
    "print(arr1)\n",
    "arr1 = np.pad(arr1, pad_width=1) #, mode='constant', constant_values=0)\n",
    "print(arr1)"
   ]
  },
  {
   "cell_type": "code",
   "execution_count": 55,
   "metadata": {},
   "outputs": [
    {
     "name": "stdout",
     "output_type": "stream",
     "text": [
      "Index of 50th element in a 6x7x8 array is (0, 6, 1)\n"
     ]
    }
   ],
   "source": [
    "#Find the index of a specific element in an array - print the index of 50th element in a 6x7x8 array\n",
    "import numpy as np\n",
    "print(\"Index of 50th element in a 6x7x8 array is\", np.unravel_index(49,(6,7,8)))"
   ]
  },
  {
   "cell_type": "code",
   "execution_count": 57,
   "metadata": {},
   "outputs": [
    {
     "name": "stdout",
     "output_type": "stream",
     "text": [
      "Arr1 : \n",
      " [[ 9  4  4  8]\n",
      " [11  3  5  2]\n",
      " [ 5  3  3 10]]\n",
      "Arr2 : \n",
      " [[15  2]\n",
      " [ 3 18]\n",
      " [10  6]\n",
      " [11 18]]\n",
      "Product Arr : \n",
      " [[275 258]\n",
      " [246 142]\n",
      " [224 262]]\n"
     ]
    }
   ],
   "source": [
    "# matrix multiplication\n",
    "arr1 = np.random.randint(1,12,(3,4))\n",
    "print(\"Arr1 : \\n\", arr1)\n",
    "\n",
    "arr2 = np.random.randint(2,21, (4,2))\n",
    "print(\"Arr2 : \\n\", arr2)\n",
    "\n",
    "prod_arr = arr1 @ arr2\n",
    "print(\"Product Arr : \\n\",prod_arr)"
   ]
  },
  {
   "cell_type": "markdown",
   "metadata": {
    "id": "o38HR5_WVNNk"
   },
   "source": [
    "### Arithmetic Operations"
   ]
  },
  {
   "cell_type": "code",
   "execution_count": 6,
   "metadata": {
    "colab": {
     "base_uri": "https://localhost:8080/"
    },
    "id": "CsuhId1Aq-8k",
    "outputId": "2a5004c2-2960-43fe-c463-6d0915ea58d5"
   },
   "outputs": [
    {
     "name": "stdout",
     "output_type": "stream",
     "text": [
      "Dot Product : \n",
      "\n",
      "[[19 22]\n",
      " [43 50]]\n",
      "[[19 22]\n",
      " [43 50]]\n",
      "Sum of all elements in a: \n",
      " 10\n",
      "Sum of all elements column wise: \n",
      " [4 6]\n",
      "Sum of all elements row wise: \n",
      " [3 7]\n",
      "Elementwise Difference of all elements in a and b: \n",
      " [[-4 -4]\n",
      " [-4 -4]]\n",
      "Elementwise Product of all elements in a and b: \n",
      " [[ 5 12]\n",
      " [21 32]]\n"
     ]
    }
   ],
   "source": [
    "import numpy as np\n",
    "a = np.array([[1,2],[3,4]])\n",
    "b = np.array([[5,6],[7,8]])\n",
    "print(\"Dot Product : \\n\")\n",
    "print(a.dot(b))\n",
    "print(np.dot(a, b))\n",
    "\n",
    "print(\"Sum of all elements in a: \\n\", np.sum(a))  \n",
    "print(\"Sum of all elements column wise: \\n\", np.sum(a, axis=0))  \n",
    "print(\"Sum of all elements row wise: \\n\", np.sum(a, axis=1))  \n",
    "\n",
    "print(\"Elementwise Difference of all elements in a and b: \\n\", np.subtract(a,b))\n",
    "print(\"Elementwise Product of all elements in a and b: \\n\", np.multiply(a,b))  "
   ]
  },
  {
   "cell_type": "markdown",
   "metadata": {},
   "source": [
    "### Product of a vector with an array"
   ]
  },
  {
   "cell_type": "code",
   "execution_count": 63,
   "metadata": {
    "colab": {
     "base_uri": "https://localhost:8080/"
    },
    "id": "fv8PhPl0YNRd",
    "outputId": "4c348eeb-34d2-4421-be66-f3dceda2f135"
   },
   "outputs": [
    {
     "name": "stdout",
     "output_type": "stream",
     "text": [
      "Original v: \n",
      " [1 2 3] Shape of v : (3,)\n",
      "Original w: \n",
      " [4 5] Shape of w : (2,)\n",
      "Now the Shape of v : (3, 1)\n",
      "Outer product v x w (After reshaping v): \n",
      " [[ 4  5]\n",
      " [ 8 10]\n",
      " [12 15]] Shape of product :  (3, 2)\n"
     ]
    }
   ],
   "source": [
    "import numpy as np\n",
    "# Compute outer product of vectors\n",
    "v = np.array([1,2,3])  # v has shape (3,)\n",
    "w = np.array([4,5])    # w has shape (2,)\n",
    "\n",
    "print(\"Original v: \\n\" , v , \"Shape of v :\", v.shape)\n",
    "print(\"Original w: \\n\" , w , \"Shape of w :\", w.shape)\n",
    "\n",
    "# To compute an outer product, we first reshape v to be a column vector of shape (3, 1); we can then broadcast it against w to yield an output of shape (3, 2), which is the outer product of v and w:\n",
    "v1=np.reshape(v,(3,1))\n",
    "print(\"Now the Shape of v :\", v1.shape)\n",
    "print(\"Outer product v x w (After reshaping v): \\n\" , v1 * w, \"Shape of product : \", (v1*w).shape)\n",
    "\n"
   ]
  },
  {
   "cell_type": "code",
   "execution_count": 65,
   "metadata": {},
   "outputs": [
    {
     "name": "stdout",
     "output_type": "stream",
     "text": [
      "Original x: \n",
      " [1 2 3]\n",
      "Original y: \n",
      " [4 5] \n",
      " Shape of y:  (2,) \n",
      " Dimensions of y: 1\n",
      "Original z : \n",
      " [[1 2 3]\n",
      " [4 5 6]]\n",
      "Sum of z and x: \n",
      " [[2 4 6]\n",
      " [5 7 9]]\n",
      "Sum of y and z by reshaping y to a column vector : \n",
      " [[ 5  6  7]\n",
      " [ 9 10 11]]\n"
     ]
    }
   ],
   "source": [
    "# Add a vector to each row of a matrix\n",
    "import numpy as np\n",
    "\n",
    "# Compute outer product of vectors\n",
    "x = np.array([1,2,3])  # v has shape (3,)\n",
    "y = np.array([4,5])    # w has shape (2,)\n",
    "z = np.array([[1,2,3], [4,5,6]])\n",
    "\n",
    "print(\"Original x: \\n\" , x)\n",
    "print(\"Original y: \\n\" , y , \"\\n Shape of y: \", y.shape, '\\n Dimensions of y:' , y.ndim)\n",
    "print('Original z : \\n', z)\n",
    "# z has shape (2, 3) and x has shape (3,) so they broadcast to (2, 3),\n",
    "# Add a vector to each row of a matrix\n",
    "print(\"Sum of z and x: \\n\" , z + x)\n",
    "print('Sum of y and z by reshaping y to a column vector : \\n', z + np.reshape(y, (2, 1)))\n"
   ]
  },
  {
   "cell_type": "code",
   "execution_count": 70,
   "metadata": {
    "colab": {
     "base_uri": "https://localhost:8080/"
    },
    "id": "r-K8zXUDrJDk",
    "outputId": "7d1e8bd2-cc10-48ae-e901-c5d68d41cd8e"
   },
   "outputs": [
    {
     "name": "stdout",
     "output_type": "stream",
     "text": [
      "Original x: \n",
      " [[ 1  2  3]\n",
      " [ 4  5  6]\n",
      " [ 7  8  9]\n",
      " [10 11 12]]\n",
      "Original y: \n",
      " [1 0 1]\n",
      "Original z: \n",
      " [[ 1  2  3]\n",
      " [ 4  5  6]\n",
      " [ 7  8  9]\n",
      " [10 11 12]]\n",
      "\n",
      "Adding vector y to array x using a loop: \n",
      " [[ 2  2  4]\n",
      " [ 5  5  7]\n",
      " [ 8  8 10]\n",
      " [11 11 13]]\n",
      "\n",
      "Adding v to x using broadcasting: \n",
      " [[ 2  2  4]\n",
      " [ 5  5  7]\n",
      " [ 8  8 10]\n",
      " [11 11 13]]\n"
     ]
    }
   ],
   "source": [
    "# Broadcasting\n",
    "import numpy as np\n",
    "\n",
    "# We will add the vector v to each row of the matrix x,\n",
    "x = np.array([[1,2,3], [4,5,6], [7,8,9], [10, 11, 12]])\n",
    "y = np.array([1, 0, 1])\n",
    "z = np.empty_like(x)   # Create an empty matrix with the same shape as x\n",
    "\n",
    "print(\"Original x: \\n\", x)\n",
    "print(\"Original y: \\n\", y)\n",
    "print(\"Original z: \\n\", z)\n",
    "\n",
    "# Add the vector y to each row of the matrix x with an explicit loop\n",
    "for i in range(4):\n",
    "    z[i, :] = x[i, :] + y\n",
    "print(\"\\nAdding vector y to array x using a loop: \\n\", z)\n",
    "\n",
    "z=x+y\n",
    "print(\"\\nAdding v to x using broadcasting: \\n\", z)"
   ]
  },
  {
   "cell_type": "markdown",
   "metadata": {},
   "source": [
    "## Reshaping"
   ]
  },
  {
   "cell_type": "code",
   "execution_count": 75,
   "metadata": {},
   "outputs": [
    {
     "name": "stdout",
     "output_type": "stream",
     "text": [
      "Original arr1: \n",
      " [43  9  8 29 10 34 15 22 36 42 39 32]\n",
      "Reshaping arr1 to (6x2): \n",
      " [[43  9]\n",
      " [ 8 29]\n",
      " [10 34]\n",
      " [15 22]\n",
      " [36 42]\n",
      " [39 32]]\n",
      "Reshaping arr1 to (3x2x2): \n",
      " [[[43  9]\n",
      "  [ 8 29]]\n",
      "\n",
      " [[10 34]\n",
      "  [15 22]]\n",
      "\n",
      " [[36 42]\n",
      "  [39 32]]]\n",
      "\n",
      "Original arr2: \n",
      " [[30 19 31  8 42 32 33 31 39]\n",
      " [15 10 20 20 15 17 28  4 42]\n",
      " [ 7 15  2 43 31  7 29 22 43]]\n",
      "Reshaping arr2 to (3x3x3): \n",
      " [[[30 19 31]\n",
      "  [ 8 42 32]\n",
      "  [33 31 39]]\n",
      "\n",
      " [[15 10 20]\n",
      "  [20 15 17]\n",
      "  [28  4 42]]\n",
      "\n",
      " [[ 7 15  2]\n",
      "  [43 31  7]\n",
      "  [29 22 43]]]\n",
      "Reshaping arr2 to (3x3x3x1): \n",
      " [[[[30]\n",
      "   [19]\n",
      "   [31]]\n",
      "\n",
      "  [[ 8]\n",
      "   [42]\n",
      "   [32]]\n",
      "\n",
      "  [[33]\n",
      "   [31]\n",
      "   [39]]]\n",
      "\n",
      "\n",
      " [[[15]\n",
      "   [10]\n",
      "   [20]]\n",
      "\n",
      "  [[20]\n",
      "   [15]\n",
      "   [17]]\n",
      "\n",
      "  [[28]\n",
      "   [ 4]\n",
      "   [42]]]\n",
      "\n",
      "\n",
      " [[[ 7]\n",
      "   [15]\n",
      "   [ 2]]\n",
      "\n",
      "  [[43]\n",
      "   [31]\n",
      "   [ 7]]\n",
      "\n",
      "  [[29]\n",
      "   [22]\n",
      "   [43]]]]\n"
     ]
    }
   ],
   "source": [
    "# Reshaping\n",
    "import numpy as np\n",
    "#random.randint(low, high=None, size=None, dtype=int)\n",
    "arr1 = np.random.randint(2,44,size = 12)\n",
    "print(\"Original arr1: \\n\", arr1)\n",
    "print('Reshaping arr1 to (6x2): \\n' , arr1.reshape(6,2))\n",
    "print('Reshaping arr1 to (3x2x2): \\n' , arr1.reshape(3,2,2))\n",
    "\n",
    "arr2 = np.random.randint(2,44,size = (3,9))\n",
    "print(\"\\nOriginal arr2: \\n\", arr2)\n",
    "print('Reshaping arr2 to (3x3x3): \\n' , arr2.reshape(3,3,3))\n",
    "print('Reshaping arr2 to (3x3x3x1): \\n' , arr2.reshape(3,3,3,1) )\n"
   ]
  },
  {
   "cell_type": "code",
   "execution_count": 74,
   "metadata": {},
   "outputs": [
    {
     "name": "stdout",
     "output_type": "stream",
     "text": [
      "Original arr1 : \n",
      " [[1 2]\n",
      " [3 4]\n",
      " [5 6]]\n",
      "Shape of arr1 : \n",
      " (3, 2)\n",
      "Reshaped to flat vector :  [1 2 3 4 5 6]  \n",
      "New shape of arr1:  (6,)\n",
      "   0\n",
      "0  1\n",
      "1  2\n",
      "2  3\n",
      "3  4\n",
      "4  5\n",
      "5  6\n"
     ]
    }
   ],
   "source": [
    "import numpy as np\n",
    "arr1 = np.array([[1 , 2], [3, 4], [5, 6]])\n",
    "print(\"Original arr1 : \\n\", arr1)\n",
    "print(\"Shape of arr1 : \\n\", arr1.shape)\n",
    "# Reshape to flat array\n",
    "print(\"Reshaped to flat vector : \", arr1.reshape(-1), \" \\nNew shape of arr1: \", arr1.reshape(-1).shape)\n"
   ]
  },
  {
   "cell_type": "markdown",
   "metadata": {},
   "source": [
    "### Special functions in NumPy"
   ]
  },
  {
   "cell_type": "code",
   "execution_count": 82,
   "metadata": {},
   "outputs": [
    {
     "name": "stdout",
     "output_type": "stream",
     "text": [
      "[1 2 3 4 5 6]\n",
      "[ 2  4  6  7  8 10]\n",
      "True\n",
      "False\n"
     ]
    }
   ],
   "source": [
    "# Checking elementwise similarity within a tolerance limit\n",
    "arr1 = np.arange(1, 7)\n",
    "print(arr1)\n",
    "arr2 = np.array([2, 4, 6, 7, 8, 10])\n",
    "print(arr2)\n",
    "\n",
    "tol = 0.5\n",
    "print(np.allclose(arr1, arr2, tol))\n",
    "\n",
    "tol = 0.1\n",
    "print(np.allclose(arr1, arr2, tol))"
   ]
  },
  {
   "cell_type": "code",
   "execution_count": 88,
   "metadata": {},
   "outputs": [
    {
     "name": "stdout",
     "output_type": "stream",
     "text": [
      "Original arr :\n",
      " [[ 0  1  2  3]\n",
      " [ 4  5  6  7]\n",
      " [ 8  9 10 11]\n",
      " [12 13 14 15]\n",
      " [16 17 18 19]]\n",
      "Indexes where the elements in arr are greated than 15:  (array([4, 4, 4, 4], dtype=int64), array([0, 1, 2, 3], dtype=int64)) \n",
      "\n",
      "Find the elements less than 3, replace them by five times their value, retain the remaining values: \n",
      " [[ 0  5 10  3]\n",
      " [ 4  5  6  7]\n",
      " [ 8  9 10 11]\n",
      " [12 13 14 15]\n",
      " [16 17 18 19]]\n"
     ]
    }
   ],
   "source": [
    "import numpy as np\n",
    "arr = np.arange(20).reshape(5, 4)\n",
    "print(\"Original arr :\\n\", arr)\n",
    "print(\"Indexes where the elements in arr are greated than 15: \", np.where(arr > 15), \"\\n\")\n",
    "print(\"Find the elements less than 3, replace them by five times their value, retain the remaining values: \\n\", np.where(arr<3,arr*5,arr))"
   ]
  },
  {
   "cell_type": "code",
   "execution_count": 91,
   "metadata": {},
   "outputs": [
    {
     "name": "stdout",
     "output_type": "stream",
     "text": [
      "Original arr  :\n",
      " [0 1 2 3 4 5 6 7 8 9]\n",
      "Values from arr clipped between range 4 and 5 : [4 4 4 4 4 5 5 5 5 5]\n"
     ]
    }
   ],
   "source": [
    "# Clipping values to keep the values of an array within an interval between a defined upper and lower range.\n",
    "arr = np.arange(10)\n",
    "print(\"Original arr  :\\n\", arr)\n",
    "print(\"Values from arr clipped between range 4 and 5 :\" , arr.clip(4, 5))"
   ]
  },
  {
   "cell_type": "code",
   "execution_count": 95,
   "metadata": {},
   "outputs": [
    {
     "name": "stdout",
     "output_type": "stream",
     "text": [
      "[0 2 4]\n"
     ]
    },
    {
     "data": {
      "text/plain": [
       "array([23, 29, 32])"
      ]
     },
     "execution_count": 95,
     "metadata": {},
     "output_type": "execute_result"
    }
   ],
   "source": [
    "# argpartition() - Returns the indices of 'n' largest elements in an array \n",
    "arr = np.array([23, 1, 32, 4, 29])\n",
    "indexes = np.argpartition (arr, -3)[-3:]\n",
    "print(indexes)\n",
    "np.sort(arr[indexes])"
   ]
  },
  {
   "cell_type": "code",
   "execution_count": 95,
   "metadata": {},
   "outputs": [
    {
     "name": "stdout",
     "output_type": "stream",
     "text": [
      "[ True False  True False  True False  True False  True False]\n"
     ]
    },
    {
     "data": {
      "text/plain": [
       "array([0, 2, 4, 6, 8])"
      ]
     },
     "execution_count": 95,
     "metadata": {},
     "output_type": "execute_result"
    }
   ],
   "source": [
    "# extract() - To extract particular members of an array.\n",
    "arr1 = np.arange(10)\n",
    "mask1 = np.mod(arr1, 2) == 0\n",
    "print(mask1)\n",
    "np.extract(mask1, arr1)"
   ]
  },
  {
   "cell_type": "code",
   "execution_count": 96,
   "metadata": {},
   "outputs": [
    {
     "name": "stdout",
     "output_type": "stream",
     "text": [
      "[12  1]\n",
      "1110\n",
      "[ 2  4 16]\n",
      "[0 0 2]\n"
     ]
    }
   ],
   "source": [
    "# Bitwise Operations\n",
    "import numpy as np\n",
    "print(np.bitwise_and([14 , 3], 13))\n",
    "print(np.binary_repr(14))\n",
    "print(np.bitwise_and(np.array([2,5,255]), np.array([3,14,16])))\n",
    "\n",
    "arr1 = np.array([1,2,3])\n",
    "arr2 = np.array([4,5,6])\n",
    "print(arr1 & arr2)"
   ]
  },
  {
   "cell_type": "code",
   "execution_count": 104,
   "metadata": {},
   "outputs": [
    {
     "name": "stdout",
     "output_type": "stream",
     "text": [
      " d: ['2002-10-27T04:30' '2002-10-27T05:00' '2002-10-27T05:30'\n",
      " '2002-10-27T06:00']\n",
      "\n",
      " with UTC:  ['2002-10-27T04:30Z' '2002-10-27T05:00Z' '2002-10-27T05:30Z'\n",
      " '2002-10-27T06:00Z']\n",
      "\n",
      " with US\\Eastern Timezone ['2002-10-27T00:30-0400' '2002-10-27T01:00-0400' '2002-10-27T01:30-0400'\n",
      " '2002-10-27T01:00-0500']\n"
     ]
    }
   ],
   "source": [
    "# Datatime support functions\n",
    "import pytz\n",
    "d = np.arange('2002-10-27T04:30', 2*60, 30, dtype='M8[m]')\n",
    "print(\" d:\", d)\n",
    "print(\"\\n with UTC: \", np.datetime_as_string(d, timezone='UTC'))\n",
    "print(\"\\n with US\\Eastern Timezone\", np.datetime_as_string(d, timezone=pytz.timezone('US/Eastern')))"
   ]
  },
  {
   "cell_type": "code",
   "execution_count": 106,
   "metadata": {},
   "outputs": [
    {
     "name": "stdout",
     "output_type": "stream",
     "text": [
      "[ True  True  True  True  True False False]\n"
     ]
    },
    {
     "data": {
      "text/plain": [
       "array([ True])"
      ]
     },
     "execution_count": 106,
     "metadata": {},
     "output_type": "execute_result"
    }
   ],
   "source": [
    "#Business days in calendar\n",
    "import numpy as np\n",
    "busdays = np.busdaycalendar(holidays = ['2021-10-30', '2021-10-29', '20-10-28'])\n",
    "print(busdays.weekmask)\n",
    "np.is_busday(['2021-10-27'])"
   ]
  },
  {
   "cell_type": "code",
   "execution_count": 148,
   "metadata": {},
   "outputs": [
    {
     "name": "stdout",
     "output_type": "stream",
     "text": [
      "[[ 2  3  4]\n",
      " [ 6  7  8]\n",
      " [ 9 10 11]]\n",
      "determinant: \n",
      " -2.467162276944798e-15\n",
      "determinant: \n",
      " -2.0000000000000004\n",
      "determinant: \n",
      " [-2. -3. -8.]\n",
      "rank: \n",
      " [2 2 2]\n"
     ]
    }
   ],
   "source": [
    "# Linear Algebra \n",
    "import numpy as np\n",
    "arr1 = np.array([[2,3,4],[6,7,8],[9,10,11]])\n",
    "print(arr1)\n",
    "print('determinant: \\n', np.linalg.det(arr1))\n",
    "\n",
    "a = np.array([[1, 2], [3, 4]])\n",
    "print('determinant: \\n', np.linalg.det(a))\n",
    "\n",
    "\n",
    "a = np.array([ [[1, 2], [3, 4]], [[1, 2], [2, 1]], [[1, 3], [3, 1]] ])\n",
    "print('determinant: \\n', np.linalg.det(a))\n",
    "#Rank of the array is the number of singular values of the array that are greater than tolerance parameter.\n",
    "print('rank: \\n', np.linalg.matrix_rank(a))\n",
    "\n",
    "\n"
   ]
  },
  {
   "cell_type": "code",
   "execution_count": 107,
   "metadata": {},
   "outputs": [
    {
     "name": "stdout",
     "output_type": "stream",
     "text": [
      "[['abid' '70' 'F' 'Delhi' '28.679079' '77.06971']\n",
      " ['Aabida' '54' 'M' 'Delhi' '28.679079' '77.06971']\n",
      " ['Achal' '65' 'M' 'Delhi' '28.679079' '77.06971']\n",
      " ['aadesh' '76' 'M' 'Delhi' '28.679079' '77.06971']\n",
      " ['aadil' '34' 'M' 'Delhi' '28.679079' '77.06971']\n",
      " ['aadish' '23' 'M' 'Delhi' '28.679079' '77.06971']\n",
      " ['aaditya' '65' 'M' 'Delhi' '28.679079' '77.06971']\n",
      " ['aaenab' '74' 'M' 'Delhi' '28.679079' '77.06971']\n",
      " ['aafreen' '13' 'M' 'Delhi' '28.679079' '77.06971']]\n"
     ]
    }
   ],
   "source": [
    "# Reading the contents of a csv file into an ndarray\n",
    "import numpy as np\n",
    "import pandas as pd\n",
    "import csv\n",
    "f = open('population.csv')\n",
    "population_data = list(csv.reader(f))\n",
    "arr_pop = np.array(population_data[1:10])\n",
    "print(arr_pop)\n",
    "\n"
   ]
  },
  {
   "cell_type": "markdown",
   "metadata": {},
   "source": [
    "## Universal Functions\n",
    "Functions that operate on ndarrays element by element. They are vectorized wrappers for functions with specific number of inputs and outputs.\n",
    "\n",
    "\n",
    "### Partial list of important numpy functions\n",
    "### Source credit - https://numpy.org/doc/stable/reference/generated/numpy.linalg.eigvals.html#numpy.linalg.eigvals\n",
    "\n",
    "### Linear Algebra\n",
    "- np.dot\n",
    "- np.linalg.multi_dot\n",
    "- np.inner\n",
    "- np.outer\n",
    "- np.matmul\n",
    "- np.tensordot\n",
    "- np.linalg.svd\n",
    "- np.linalg.eigvals\n",
    "- np.linalg.norm\n",
    "- np.linale.det\n",
    "\n",
    "### Polynomials\n",
    "- np.polynomial.polynomial\n",
    "### Sorting\n",
    "- np.sort\n",
    "- np.lexsort\n",
    "- np.argsort\n",
    "- np.ndarray.sort\n",
    "- np.partition\n",
    "- np.argwhere\n",
    "- np.nonzero\n",
    "- np.count_nonzero\n",
    "\n",
    "### Statistical Functions\n",
    "- np.amin\n",
    "- np.amax\n",
    "- np.nanmin\n",
    "- np.percentile\n",
    "- np.quantile\n",
    "- np.histogram\n",
    "- np.digitize\n"
   ]
  },
  {
   "cell_type": "markdown",
   "metadata": {
    "id": "-k2TmGY-rlFP"
   },
   "source": [
    "# Matplotlib\n",
    "Matplotlib is a plotting library for 2D and 3D plots in Python. Here we will see the brief introduction to matpotlib.pyplot module that provides MATLAB like plotting functionality in Python.\n",
    "\n",
    "### Some 2D plot types in Matplotlib\n",
    "- Line Plot\n",
    "- Multiple subplots in one figure\n",
    "- Images\n",
    "- Contouring and pseudocolor\n",
    "- Histograms\n",
    "- Paths\n",
    "- Streamplot\n",
    "- Ellipses\n",
    "- Bar charts\n",
    "- Pie charts\n",
    "- Tables\n",
    "- Scatter plots\n",
    "\n",
    "Additional Features of Matplotlib plots\n",
    "- GUI widgets\n",
    "- Filled curves\n",
    "- Date handling\n",
    "- Log plots\n",
    "- Polar plots\n",
    "- Legends\n",
    "- TeX-notation for text objects\n",
    "- Native TeX rendering\n",
    "- EEG GUI\n",
    "- XKCD-style sketch plots\n"
   ]
  },
  {
   "cell_type": "code",
   "execution_count": 4,
   "metadata": {},
   "outputs": [
    {
     "data": {
      "image/png": "[encoded data removed]",
      "text/plain": [
       "<Figure size 432x288 with 1 Axes>"
      ]
     },
     "metadata": {
      "needs_background": "light"
     },
     "output_type": "display_data"
    }
   ],
   "source": [
    "import numpy as np\n",
    "import matplotlib.pyplot as plt\n",
    "\n",
    "x = np.arange(16, 626)\n",
    "y = np.sqrt(x)\n",
    "\n",
    "plt.plot(x, y)\n",
    "plt.xlabel('X')\n",
    "plt.ylabel('Square Root X')\n",
    "plt.title(\"Square Root Curve\")\n",
    "plt.show()"
   ]
  },
  {
   "cell_type": "code",
   "execution_count": 61,
   "metadata": {
    "colab": {
     "base_uri": "https://localhost:8080/",
     "height": 251
    },
    "id": "tZObzt2vJR-V",
    "outputId": "c4a25318-0664-4ba0-8509-28407ff666c0"
   },
   "outputs": [
    {
     "data": {
      "image/png": "[encoded data removed]",
      "text/plain": [
       "<Figure size 432x288 with 9 Axes>"
      ]
     },
     "metadata": {
      "needs_background": "light"
     },
     "output_type": "display_data"
    }
   ],
   "source": [
    "# Source Credit: https://www.geeksforgeeks.org/how-to-set-the-spacing-between-subplots-in-matplotlib-in-python/\n",
    "import numpy as np\n",
    "import matplotlib.pyplot as plt\n",
    "# create data\n",
    "x=np.array([1, 2, 3, 4, 5])\n",
    "# making subplots\n",
    "fig, ax = plt.subplots(3, 3)\n",
    "# set data with subplots and plot\n",
    "ax[0, 0].plot(x, x)\n",
    "ax[0, 1].plot(x, x*x)\n",
    "ax[0, 2].plot(x, x*x*x)\n",
    "ax[1, 0].plot(x, x*x*x*x)\n",
    "ax[1, 1].plot(x, x*x*x*x*x)\n",
    "ax[1, 2].plot(x, x*x*x*x*x)\n",
    "ax[2, 0].plot(x, x*x*x*x*x*x)\n",
    "ax[2, 1].plot(x, x*x*x*x*x*x*x)\n",
    "ax[2, 2].plot(x, x*x*x*x*x*x*x*x)\n",
    "# set the spacing between subplots\n",
    "plt.subplots_adjust(left=0.2,bottom=0.2,right=0.9,top=0.9,wspace=0.7,hspace=0.7)\n",
    "plt.show()"
   ]
  },
  {
   "cell_type": "code",
   "execution_count": 108,
   "metadata": {},
   "outputs": [
    {
     "data": {
      "image/png": "[encoded data removed]",
      "text/plain": [
       "<Figure size 432x288 with 1 Axes>"
      ]
     },
     "metadata": {
      "needs_background": "light"
     },
     "output_type": "display_data"
    }
   ],
   "source": [
    "# Source Credit - https://matplotlib.org/stable/gallery/shapes_and_collections/scatter.html\n",
    "import numpy as np\n",
    "import matplotlib.pyplot as plt\n",
    "N = 10\n",
    "x = np.arange(1, 11)\n",
    "y = np.arange(40, 50)\n",
    "plt.scatter(x, y, alpha=0.8)\n",
    "plt.show()"
   ]
  },
  {
   "cell_type": "code",
   "execution_count": 16,
   "metadata": {},
   "outputs": [
    {
     "data": {
      "image/png": "[encoded data removed]",
      "text/plain": [
       "<Figure size 432x288 with 1 Axes>"
      ]
     },
     "metadata": {
      "needs_background": "light"
     },
     "output_type": "display_data"
    }
   ],
   "source": [
    "import matplotlib.pyplot as plt\n",
    "import matplotlib.image as mpimg\n",
    "img = mpimg.imread('wallhanging.jpg')\n",
    "imgplot = plt.imshow(img)\n",
    "plt.show()"
   ]
  },
  {
   "cell_type": "code",
   "execution_count": 18,
   "metadata": {},
   "outputs": [
    {
     "data": {
      "image/png": "[encoded data removed]",
      "text/plain": [
       "<Figure size 432x288 with 1 Axes>"
      ]
     },
     "metadata": {
      "needs_background": "light"
     },
     "output_type": "display_data"
    }
   ],
   "source": [
    "\n",
    "\n",
    "plt.figure()\n",
    "plt.imshow(img) \n",
    "plt.show()"
   ]
  },
  {
   "cell_type": "markdown",
   "metadata": {
    "id": "Ghc-7PWgdYg9"
   },
   "source": [
    "# Pandas \n",
    "### pandas is the python library for easy working with tabular data. For example the data in database tables, spreadsheets. It provides two data structures - dataframe and series and many functions to explore, clean and process your data.\n",
    "\n",
    "\n",
    "## Installation\n",
    "\n",
    "- conda install pandas\n",
    "- pip install pandas\n",
    "\n",
    "## Features\n",
    "\n",
    "1. pandas is the python library for easy working with tabular data. For example the data in database tables, spreadsheets. \n",
    "\n",
    "2. supports many file formats as data sources  like csv, excel, sql, json, parquet, HDF5.\n",
    "\n",
    "3. efficient slicing, selecting, and extracting of the data\n",
    "\n",
    "4. builtin plotting functionality using Matplotlib. \n",
    "\n",
    "5. Vectorization of operations.\n",
    "\n",
    "6. built in functions for basic statistics (mean, median, min, max, counts. . . ), data aggregation and transformation\n",
    "\n",
    "7. alows change in shape of data tables using melt and pivot.  melt() your data table from wide to long form or pivot() from long to wide format. \n",
    "\n",
    "8. supports database-like join/merge operations to concatenate multiple tables both column wise and row wise.\n",
    "\n",
    "9. great support for time series data, dates, times, and time-indexed data.\n",
    "\n",
    "10. works well with text data as well\n",
    "11. pandas works well with\n",
    "\n",
    "    - Tabular data \n",
    "    - Ordered and unordered  time series data.\n",
    "    - Arbitrary matrix data \n",
    "    - observational / statistical data \n",
    "    - labelled or unlabelled data\n",
    "      \n",
    "12. built on top of NumPy \n",
    "13. The two primary data structures of pandas, Series (1-dimensional) and DataFrame (2-dimensional)\n",
    "14. easy conversion of data in other python data structures into dataframe objects\n",
    "15. intelligent data alignment, slicing, indexing, subsetting. Multilevel and hierarchical labeling of axes. \n",
    "16. pandas is fast, many low-level algorithmic functions are in Cython code."
   ]
  },
  {
   "cell_type": "code",
   "execution_count": 9,
   "metadata": {},
   "outputs": [
    {
     "data": {
      "text/html": [
       "<div>\n",
       "<style scoped>\n",
       "    .dataframe tbody tr th:only-of-type {\n",
       "        vertical-align: middle;\n",
       "    }\n",
       "\n",
       "    .dataframe tbody tr th {\n",
       "        vertical-align: top;\n",
       "    }\n",
       "\n",
       "    .dataframe thead th {\n",
       "        text-align: right;\n",
       "    }\n",
       "</style>\n",
       "<table border=\"1\" class=\"dataframe\">\n",
       "  <thead>\n",
       "    <tr style=\"text-align: right;\">\n",
       "      <th></th>\n",
       "      <th>Name</th>\n",
       "      <th>Age</th>\n",
       "      <th>Sex</th>\n",
       "    </tr>\n",
       "  </thead>\n",
       "  <tbody>\n",
       "    <tr>\n",
       "      <th>0</th>\n",
       "      <td>Sam Desilva</td>\n",
       "      <td>25</td>\n",
       "      <td>M</td>\n",
       "    </tr>\n",
       "    <tr>\n",
       "      <th>1</th>\n",
       "      <td>Joseph Allen</td>\n",
       "      <td>35</td>\n",
       "      <td>M</td>\n",
       "    </tr>\n",
       "    <tr>\n",
       "      <th>2</th>\n",
       "      <td>Liza James</td>\n",
       "      <td>19</td>\n",
       "      <td>F</td>\n",
       "    </tr>\n",
       "  </tbody>\n",
       "</table>\n",
       "</div>"
      ],
      "text/plain": [
       "           Name  Age Sex\n",
       "0   Sam Desilva   25   M\n",
       "1  Joseph Allen   35   M\n",
       "2    Liza James   19   F"
      ]
     },
     "execution_count": 9,
     "metadata": {},
     "output_type": "execute_result"
    }
   ],
   "source": [
    "# pandas sample code - Data items from titanic.csv dataset\n",
    "import pandas as pd\n",
    "df = pd.DataFrame( \n",
    "    { \"Name\": [ \"Sam Desilva\", \"Joseph Allen\", \"Liza James\",],\n",
    "      \"Age\": [25, 35, 19], \n",
    "      \"Sex\": [\"M\", \"M\", \"F\"],\n",
    "     } )\n",
    "df"
   ]
  },
  {
   "cell_type": "code",
   "execution_count": 10,
   "metadata": {},
   "outputs": [
    {
     "data": {
      "text/plain": [
       "35"
      ]
     },
     "execution_count": 10,
     "metadata": {},
     "output_type": "execute_result"
    }
   ],
   "source": [
    "df['Age'].max()"
   ]
  },
  {
   "cell_type": "code",
   "execution_count": 11,
   "metadata": {},
   "outputs": [
    {
     "data": {
      "text/plain": [
       "58000"
      ]
     },
     "execution_count": 11,
     "metadata": {},
     "output_type": "execute_result"
    }
   ],
   "source": [
    "salary = pd.Series([22000, 35000, 58000], name=\"Salary\")\n",
    "salary.max()"
   ]
  },
  {
   "cell_type": "code",
   "execution_count": 12,
   "metadata": {},
   "outputs": [
    {
     "data": {
      "text/html": [
       "<div>\n",
       "<style scoped>\n",
       "    .dataframe tbody tr th:only-of-type {\n",
       "        vertical-align: middle;\n",
       "    }\n",
       "\n",
       "    .dataframe tbody tr th {\n",
       "        vertical-align: top;\n",
       "    }\n",
       "\n",
       "    .dataframe thead th {\n",
       "        text-align: right;\n",
       "    }\n",
       "</style>\n",
       "<table border=\"1\" class=\"dataframe\">\n",
       "  <thead>\n",
       "    <tr style=\"text-align: right;\">\n",
       "      <th></th>\n",
       "      <th>Name</th>\n",
       "      <th>Age</th>\n",
       "      <th>Sex</th>\n",
       "      <th>Salary</th>\n",
       "    </tr>\n",
       "  </thead>\n",
       "  <tbody>\n",
       "    <tr>\n",
       "      <th>0</th>\n",
       "      <td>Sam Desilva</td>\n",
       "      <td>25</td>\n",
       "      <td>M</td>\n",
       "      <td>22000</td>\n",
       "    </tr>\n",
       "    <tr>\n",
       "      <th>1</th>\n",
       "      <td>Joseph Allen</td>\n",
       "      <td>35</td>\n",
       "      <td>M</td>\n",
       "      <td>35000</td>\n",
       "    </tr>\n",
       "    <tr>\n",
       "      <th>2</th>\n",
       "      <td>Liza James</td>\n",
       "      <td>19</td>\n",
       "      <td>F</td>\n",
       "      <td>58000</td>\n",
       "    </tr>\n",
       "  </tbody>\n",
       "</table>\n",
       "</div>"
      ],
      "text/plain": [
       "           Name  Age Sex  Salary\n",
       "0   Sam Desilva   25   M   22000\n",
       "1  Joseph Allen   35   M   35000\n",
       "2    Liza James   19   F   58000"
      ]
     },
     "execution_count": 12,
     "metadata": {},
     "output_type": "execute_result"
    }
   ],
   "source": [
    "df['Salary'] = salary\n",
    "df"
   ]
  },
  {
   "cell_type": "markdown",
   "metadata": {},
   "source": [
    "## Titanic Passengers data set"
   ]
  },
  {
   "cell_type": "code",
   "execution_count": 109,
   "metadata": {},
   "outputs": [
    {
     "data": {
      "text/html": [
       "<div>\n",
       "<style scoped>\n",
       "    .dataframe tbody tr th:only-of-type {\n",
       "        vertical-align: middle;\n",
       "    }\n",
       "\n",
       "    .dataframe tbody tr th {\n",
       "        vertical-align: top;\n",
       "    }\n",
       "\n",
       "    .dataframe thead th {\n",
       "        text-align: right;\n",
       "    }\n",
       "</style>\n",
       "<table border=\"1\" class=\"dataframe\">\n",
       "  <thead>\n",
       "    <tr style=\"text-align: right;\">\n",
       "      <th></th>\n",
       "      <th>PassengerId</th>\n",
       "      <th>Survived</th>\n",
       "      <th>Pclass</th>\n",
       "      <th>Name</th>\n",
       "      <th>Sex</th>\n",
       "      <th>Age</th>\n",
       "      <th>SibSp</th>\n",
       "      <th>Parch</th>\n",
       "      <th>Ticket</th>\n",
       "      <th>Fare</th>\n",
       "      <th>Cabin</th>\n",
       "      <th>Embarked</th>\n",
       "    </tr>\n",
       "  </thead>\n",
       "  <tbody>\n",
       "    <tr>\n",
       "      <th>0</th>\n",
       "      <td>1</td>\n",
       "      <td>0</td>\n",
       "      <td>3</td>\n",
       "      <td>Braund, Mr. Owen Harris</td>\n",
       "      <td>male</td>\n",
       "      <td>22.0</td>\n",
       "      <td>1</td>\n",
       "      <td>0</td>\n",
       "      <td>A/5 21171</td>\n",
       "      <td>7.2500</td>\n",
       "      <td>NaN</td>\n",
       "      <td>S</td>\n",
       "    </tr>\n",
       "    <tr>\n",
       "      <th>1</th>\n",
       "      <td>2</td>\n",
       "      <td>1</td>\n",
       "      <td>1</td>\n",
       "      <td>Cumings, Mrs. John Bradley (Florence Briggs Th...</td>\n",
       "      <td>female</td>\n",
       "      <td>38.0</td>\n",
       "      <td>1</td>\n",
       "      <td>0</td>\n",
       "      <td>PC 17599</td>\n",
       "      <td>71.2833</td>\n",
       "      <td>C85</td>\n",
       "      <td>C</td>\n",
       "    </tr>\n",
       "    <tr>\n",
       "      <th>2</th>\n",
       "      <td>3</td>\n",
       "      <td>1</td>\n",
       "      <td>3</td>\n",
       "      <td>Heikkinen, Miss. Laina</td>\n",
       "      <td>female</td>\n",
       "      <td>26.0</td>\n",
       "      <td>0</td>\n",
       "      <td>0</td>\n",
       "      <td>STON/O2. 3101282</td>\n",
       "      <td>7.9250</td>\n",
       "      <td>NaN</td>\n",
       "      <td>S</td>\n",
       "    </tr>\n",
       "    <tr>\n",
       "      <th>3</th>\n",
       "      <td>4</td>\n",
       "      <td>1</td>\n",
       "      <td>1</td>\n",
       "      <td>Futrelle, Mrs. Jacques Heath (Lily May Peel)</td>\n",
       "      <td>female</td>\n",
       "      <td>35.0</td>\n",
       "      <td>1</td>\n",
       "      <td>0</td>\n",
       "      <td>113803</td>\n",
       "      <td>53.1000</td>\n",
       "      <td>C123</td>\n",
       "      <td>S</td>\n",
       "    </tr>\n",
       "    <tr>\n",
       "      <th>4</th>\n",
       "      <td>5</td>\n",
       "      <td>0</td>\n",
       "      <td>3</td>\n",
       "      <td>Allen, Mr. William Henry</td>\n",
       "      <td>male</td>\n",
       "      <td>35.0</td>\n",
       "      <td>0</td>\n",
       "      <td>0</td>\n",
       "      <td>373450</td>\n",
       "      <td>8.0500</td>\n",
       "      <td>NaN</td>\n",
       "      <td>S</td>\n",
       "    </tr>\n",
       "  </tbody>\n",
       "</table>\n",
       "</div>"
      ],
      "text/plain": [
       "   PassengerId  Survived  Pclass  \\\n",
       "0            1         0       3   \n",
       "1            2         1       1   \n",
       "2            3         1       3   \n",
       "3            4         1       1   \n",
       "4            5         0       3   \n",
       "\n",
       "                                                Name     Sex   Age  SibSp  \\\n",
       "0                            Braund, Mr. Owen Harris    male  22.0      1   \n",
       "1  Cumings, Mrs. John Bradley (Florence Briggs Th...  female  38.0      1   \n",
       "2                             Heikkinen, Miss. Laina  female  26.0      0   \n",
       "3       Futrelle, Mrs. Jacques Heath (Lily May Peel)  female  35.0      1   \n",
       "4                           Allen, Mr. William Henry    male  35.0      0   \n",
       "\n",
       "   Parch            Ticket     Fare Cabin Embarked  \n",
       "0      0         A/5 21171   7.2500   NaN        S  \n",
       "1      0          PC 17599  71.2833   C85        C  \n",
       "2      0  STON/O2. 3101282   7.9250   NaN        S  \n",
       "3      0            113803  53.1000  C123        S  \n",
       "4      0            373450   8.0500   NaN        S  "
      ]
     },
     "execution_count": 109,
     "metadata": {},
     "output_type": "execute_result"
    }
   ],
   "source": [
    "titanic_df = pd.read_csv('titanic.csv')\n",
    "titanic_df.head()"
   ]
  },
  {
   "cell_type": "code",
   "execution_count": 14,
   "metadata": {},
   "outputs": [
    {
     "data": {
      "text/html": [
       "<div>\n",
       "<style scoped>\n",
       "    .dataframe tbody tr th:only-of-type {\n",
       "        vertical-align: middle;\n",
       "    }\n",
       "\n",
       "    .dataframe tbody tr th {\n",
       "        vertical-align: top;\n",
       "    }\n",
       "\n",
       "    .dataframe thead th {\n",
       "        text-align: right;\n",
       "    }\n",
       "</style>\n",
       "<table border=\"1\" class=\"dataframe\">\n",
       "  <thead>\n",
       "    <tr style=\"text-align: right;\">\n",
       "      <th></th>\n",
       "      <th>PassengerId</th>\n",
       "      <th>Survived</th>\n",
       "      <th>Pclass</th>\n",
       "      <th>Age</th>\n",
       "      <th>SibSp</th>\n",
       "      <th>Parch</th>\n",
       "      <th>Fare</th>\n",
       "    </tr>\n",
       "  </thead>\n",
       "  <tbody>\n",
       "    <tr>\n",
       "      <th>count</th>\n",
       "      <td>891.000000</td>\n",
       "      <td>891.000000</td>\n",
       "      <td>891.000000</td>\n",
       "      <td>714.000000</td>\n",
       "      <td>891.000000</td>\n",
       "      <td>891.000000</td>\n",
       "      <td>891.000000</td>\n",
       "    </tr>\n",
       "    <tr>\n",
       "      <th>mean</th>\n",
       "      <td>446.000000</td>\n",
       "      <td>0.383838</td>\n",
       "      <td>2.308642</td>\n",
       "      <td>29.699118</td>\n",
       "      <td>0.523008</td>\n",
       "      <td>0.381594</td>\n",
       "      <td>32.204208</td>\n",
       "    </tr>\n",
       "    <tr>\n",
       "      <th>std</th>\n",
       "      <td>257.353842</td>\n",
       "      <td>0.486592</td>\n",
       "      <td>0.836071</td>\n",
       "      <td>14.526497</td>\n",
       "      <td>1.102743</td>\n",
       "      <td>0.806057</td>\n",
       "      <td>49.693429</td>\n",
       "    </tr>\n",
       "    <tr>\n",
       "      <th>min</th>\n",
       "      <td>1.000000</td>\n",
       "      <td>0.000000</td>\n",
       "      <td>1.000000</td>\n",
       "      <td>0.420000</td>\n",
       "      <td>0.000000</td>\n",
       "      <td>0.000000</td>\n",
       "      <td>0.000000</td>\n",
       "    </tr>\n",
       "    <tr>\n",
       "      <th>25%</th>\n",
       "      <td>223.500000</td>\n",
       "      <td>0.000000</td>\n",
       "      <td>2.000000</td>\n",
       "      <td>20.125000</td>\n",
       "      <td>0.000000</td>\n",
       "      <td>0.000000</td>\n",
       "      <td>7.910400</td>\n",
       "    </tr>\n",
       "    <tr>\n",
       "      <th>50%</th>\n",
       "      <td>446.000000</td>\n",
       "      <td>0.000000</td>\n",
       "      <td>3.000000</td>\n",
       "      <td>28.000000</td>\n",
       "      <td>0.000000</td>\n",
       "      <td>0.000000</td>\n",
       "      <td>14.454200</td>\n",
       "    </tr>\n",
       "    <tr>\n",
       "      <th>75%</th>\n",
       "      <td>668.500000</td>\n",
       "      <td>1.000000</td>\n",
       "      <td>3.000000</td>\n",
       "      <td>38.000000</td>\n",
       "      <td>1.000000</td>\n",
       "      <td>0.000000</td>\n",
       "      <td>31.000000</td>\n",
       "    </tr>\n",
       "    <tr>\n",
       "      <th>max</th>\n",
       "      <td>891.000000</td>\n",
       "      <td>1.000000</td>\n",
       "      <td>3.000000</td>\n",
       "      <td>80.000000</td>\n",
       "      <td>8.000000</td>\n",
       "      <td>6.000000</td>\n",
       "      <td>512.329200</td>\n",
       "    </tr>\n",
       "  </tbody>\n",
       "</table>\n",
       "</div>"
      ],
      "text/plain": [
       "       PassengerId    Survived      Pclass         Age       SibSp  \\\n",
       "count   891.000000  891.000000  891.000000  714.000000  891.000000   \n",
       "mean    446.000000    0.383838    2.308642   29.699118    0.523008   \n",
       "std     257.353842    0.486592    0.836071   14.526497    1.102743   \n",
       "min       1.000000    0.000000    1.000000    0.420000    0.000000   \n",
       "25%     223.500000    0.000000    2.000000   20.125000    0.000000   \n",
       "50%     446.000000    0.000000    3.000000   28.000000    0.000000   \n",
       "75%     668.500000    1.000000    3.000000   38.000000    1.000000   \n",
       "max     891.000000    1.000000    3.000000   80.000000    8.000000   \n",
       "\n",
       "            Parch        Fare  \n",
       "count  891.000000  891.000000  \n",
       "mean     0.381594   32.204208  \n",
       "std      0.806057   49.693429  \n",
       "min      0.000000    0.000000  \n",
       "25%      0.000000    7.910400  \n",
       "50%      0.000000   14.454200  \n",
       "75%      0.000000   31.000000  \n",
       "max      6.000000  512.329200  "
      ]
     },
     "execution_count": 14,
     "metadata": {},
     "output_type": "execute_result"
    }
   ],
   "source": [
    "titanic_df.describe()"
   ]
  },
  {
   "cell_type": "code",
   "execution_count": 129,
   "metadata": {},
   "outputs": [
    {
     "name": "stdout",
     "output_type": "stream",
     "text": [
      "<class 'pandas.core.frame.DataFrame'>\n",
      "RangeIndex: 891 entries, 0 to 890\n",
      "Data columns (total 12 columns):\n",
      " #   Column       Non-Null Count  Dtype  \n",
      "---  ------       --------------  -----  \n",
      " 0   PassengerId  891 non-null    int64  \n",
      " 1   Survived     891 non-null    int64  \n",
      " 2   Pclass       891 non-null    int64  \n",
      " 3   Name         891 non-null    object \n",
      " 4   Sex          891 non-null    object \n",
      " 5   Age          714 non-null    float64\n",
      " 6   SibSp        891 non-null    int64  \n",
      " 7   Parch        891 non-null    int64  \n",
      " 8   Ticket       891 non-null    object \n",
      " 9   Fare         891 non-null    float64\n",
      " 10  Cabin        204 non-null    object \n",
      " 11  Embarked     889 non-null    object \n",
      "dtypes: float64(2), int64(5), object(5)\n",
      "memory usage: 83.7+ KB\n"
     ]
    }
   ],
   "source": [
    "titanic_df.info()"
   ]
  },
  {
   "cell_type": "code",
   "execution_count": 133,
   "metadata": {},
   "outputs": [
    {
     "data": {
      "text/plain": [
       "Index(['PassengerId', 'Survived', 'Pclass', 'Name', 'Sex', 'Age', 'SibSp',\n",
       "       'Parch', 'Ticket', 'Fare', 'Cabin', 'Embarked'],\n",
       "      dtype='object')"
      ]
     },
     "execution_count": 133,
     "metadata": {},
     "output_type": "execute_result"
    }
   ],
   "source": [
    "titanic_df.columns"
   ]
  },
  {
   "cell_type": "markdown",
   "metadata": {},
   "source": [
    "### Let me know the Name, age and survival status of passengers above the age of 50"
   ]
  },
  {
   "cell_type": "code",
   "execution_count": 112,
   "metadata": {},
   "outputs": [
    {
     "name": "stdout",
     "output_type": "stream",
     "text": [
      "<class 'pandas.core.frame.DataFrame'>\n"
     ]
    },
    {
     "data": {
      "text/html": [
       "<div>\n",
       "<style scoped>\n",
       "    .dataframe tbody tr th:only-of-type {\n",
       "        vertical-align: middle;\n",
       "    }\n",
       "\n",
       "    .dataframe tbody tr th {\n",
       "        vertical-align: top;\n",
       "    }\n",
       "\n",
       "    .dataframe thead th {\n",
       "        text-align: right;\n",
       "    }\n",
       "</style>\n",
       "<table border=\"1\" class=\"dataframe\">\n",
       "  <thead>\n",
       "    <tr style=\"text-align: right;\">\n",
       "      <th></th>\n",
       "      <th>Name</th>\n",
       "      <th>Age</th>\n",
       "      <th>Survived</th>\n",
       "    </tr>\n",
       "  </thead>\n",
       "  <tbody>\n",
       "    <tr>\n",
       "      <th>6</th>\n",
       "      <td>McCarthy, Mr. Timothy J</td>\n",
       "      <td>54.0</td>\n",
       "      <td>0</td>\n",
       "    </tr>\n",
       "    <tr>\n",
       "      <th>11</th>\n",
       "      <td>Bonnell, Miss. Elizabeth</td>\n",
       "      <td>58.0</td>\n",
       "      <td>1</td>\n",
       "    </tr>\n",
       "    <tr>\n",
       "      <th>15</th>\n",
       "      <td>Hewlett, Mrs. (Mary D Kingcome)</td>\n",
       "      <td>55.0</td>\n",
       "      <td>1</td>\n",
       "    </tr>\n",
       "    <tr>\n",
       "      <th>33</th>\n",
       "      <td>Wheadon, Mr. Edward H</td>\n",
       "      <td>66.0</td>\n",
       "      <td>0</td>\n",
       "    </tr>\n",
       "    <tr>\n",
       "      <th>54</th>\n",
       "      <td>Ostby, Mr. Engelhart Cornelius</td>\n",
       "      <td>65.0</td>\n",
       "      <td>0</td>\n",
       "    </tr>\n",
       "    <tr>\n",
       "      <th>...</th>\n",
       "      <td>...</td>\n",
       "      <td>...</td>\n",
       "      <td>...</td>\n",
       "    </tr>\n",
       "    <tr>\n",
       "      <th>820</th>\n",
       "      <td>Hays, Mrs. Charles Melville (Clara Jennings Gr...</td>\n",
       "      <td>52.0</td>\n",
       "      <td>1</td>\n",
       "    </tr>\n",
       "    <tr>\n",
       "      <th>829</th>\n",
       "      <td>Stone, Mrs. George Nelson (Martha Evelyn)</td>\n",
       "      <td>62.0</td>\n",
       "      <td>1</td>\n",
       "    </tr>\n",
       "    <tr>\n",
       "      <th>851</th>\n",
       "      <td>Svensson, Mr. Johan</td>\n",
       "      <td>74.0</td>\n",
       "      <td>0</td>\n",
       "    </tr>\n",
       "    <tr>\n",
       "      <th>857</th>\n",
       "      <td>Daly, Mr. Peter Denis</td>\n",
       "      <td>51.0</td>\n",
       "      <td>1</td>\n",
       "    </tr>\n",
       "    <tr>\n",
       "      <th>879</th>\n",
       "      <td>Potter, Mrs. Thomas Jr (Lily Alexenia Wilson)</td>\n",
       "      <td>56.0</td>\n",
       "      <td>1</td>\n",
       "    </tr>\n",
       "  </tbody>\n",
       "</table>\n",
       "<p>64 rows × 3 columns</p>\n",
       "</div>"
      ],
      "text/plain": [
       "                                                  Name   Age  Survived\n",
       "6                              McCarthy, Mr. Timothy J  54.0         0\n",
       "11                            Bonnell, Miss. Elizabeth  58.0         1\n",
       "15                    Hewlett, Mrs. (Mary D Kingcome)   55.0         1\n",
       "33                               Wheadon, Mr. Edward H  66.0         0\n",
       "54                      Ostby, Mr. Engelhart Cornelius  65.0         0\n",
       "..                                                 ...   ...       ...\n",
       "820  Hays, Mrs. Charles Melville (Clara Jennings Gr...  52.0         1\n",
       "829          Stone, Mrs. George Nelson (Martha Evelyn)  62.0         1\n",
       "851                                Svensson, Mr. Johan  74.0         0\n",
       "857                             Daly, Mr. Peter Denis   51.0         1\n",
       "879      Potter, Mrs. Thomas Jr (Lily Alexenia Wilson)  56.0         1\n",
       "\n",
       "[64 rows x 3 columns]"
      ]
     },
     "execution_count": 112,
     "metadata": {},
     "output_type": "execute_result"
    }
   ],
   "source": [
    "passengers_above_50 = titanic_df[titanic_df['Age'] > 50]\n",
    "print(type(passengers_above_50))\n",
    "passengers_above_50[['Name', 'Age', 'Survived']]"
   ]
  },
  {
   "cell_type": "markdown",
   "metadata": {},
   "source": [
    "### Passengers whose age is not available"
   ]
  },
  {
   "cell_type": "code",
   "execution_count": 143,
   "metadata": {},
   "outputs": [
    {
     "data": {
      "text/html": [
       "<div>\n",
       "<style scoped>\n",
       "    .dataframe tbody tr th:only-of-type {\n",
       "        vertical-align: middle;\n",
       "    }\n",
       "\n",
       "    .dataframe tbody tr th {\n",
       "        vertical-align: top;\n",
       "    }\n",
       "\n",
       "    .dataframe thead th {\n",
       "        text-align: right;\n",
       "    }\n",
       "</style>\n",
       "<table border=\"1\" class=\"dataframe\">\n",
       "  <thead>\n",
       "    <tr style=\"text-align: right;\">\n",
       "      <th></th>\n",
       "      <th>Name</th>\n",
       "      <th>Age</th>\n",
       "    </tr>\n",
       "  </thead>\n",
       "  <tbody>\n",
       "    <tr>\n",
       "      <th>5</th>\n",
       "      <td>Moran, Mr. James</td>\n",
       "      <td>NaN</td>\n",
       "    </tr>\n",
       "    <tr>\n",
       "      <th>17</th>\n",
       "      <td>Williams, Mr. Charles Eugene</td>\n",
       "      <td>NaN</td>\n",
       "    </tr>\n",
       "    <tr>\n",
       "      <th>19</th>\n",
       "      <td>Masselmani, Mrs. Fatima</td>\n",
       "      <td>NaN</td>\n",
       "    </tr>\n",
       "    <tr>\n",
       "      <th>26</th>\n",
       "      <td>Emir, Mr. Farred Chehab</td>\n",
       "      <td>NaN</td>\n",
       "    </tr>\n",
       "    <tr>\n",
       "      <th>28</th>\n",
       "      <td>O'Dwyer, Miss. Ellen \"Nellie\"</td>\n",
       "      <td>NaN</td>\n",
       "    </tr>\n",
       "    <tr>\n",
       "      <th>...</th>\n",
       "      <td>...</td>\n",
       "      <td>...</td>\n",
       "    </tr>\n",
       "    <tr>\n",
       "      <th>859</th>\n",
       "      <td>Razi, Mr. Raihed</td>\n",
       "      <td>NaN</td>\n",
       "    </tr>\n",
       "    <tr>\n",
       "      <th>863</th>\n",
       "      <td>Sage, Miss. Dorothy Edith \"Dolly\"</td>\n",
       "      <td>NaN</td>\n",
       "    </tr>\n",
       "    <tr>\n",
       "      <th>868</th>\n",
       "      <td>van Melkebeke, Mr. Philemon</td>\n",
       "      <td>NaN</td>\n",
       "    </tr>\n",
       "    <tr>\n",
       "      <th>878</th>\n",
       "      <td>Laleff, Mr. Kristo</td>\n",
       "      <td>NaN</td>\n",
       "    </tr>\n",
       "    <tr>\n",
       "      <th>888</th>\n",
       "      <td>Johnston, Miss. Catherine Helen \"Carrie\"</td>\n",
       "      <td>NaN</td>\n",
       "    </tr>\n",
       "  </tbody>\n",
       "</table>\n",
       "<p>177 rows × 2 columns</p>\n",
       "</div>"
      ],
      "text/plain": [
       "                                         Name  Age\n",
       "5                            Moran, Mr. James  NaN\n",
       "17               Williams, Mr. Charles Eugene  NaN\n",
       "19                    Masselmani, Mrs. Fatima  NaN\n",
       "26                    Emir, Mr. Farred Chehab  NaN\n",
       "28              O'Dwyer, Miss. Ellen \"Nellie\"  NaN\n",
       "..                                        ...  ...\n",
       "859                          Razi, Mr. Raihed  NaN\n",
       "863         Sage, Miss. Dorothy Edith \"Dolly\"  NaN\n",
       "868               van Melkebeke, Mr. Philemon  NaN\n",
       "878                        Laleff, Mr. Kristo  NaN\n",
       "888  Johnston, Miss. Catherine Helen \"Carrie\"  NaN\n",
       "\n",
       "[177 rows x 2 columns]"
      ]
     },
     "execution_count": 143,
     "metadata": {},
     "output_type": "execute_result"
    }
   ],
   "source": [
    "passengers_age_na = titanic_df[~titanic_df['Age'].notna()]\n",
    "passengers_age_na[['Name', 'Age']]"
   ]
  },
  {
   "cell_type": "code",
   "execution_count": null,
   "metadata": {},
   "outputs": [],
   "source": [
    "# All Passengers above 60 "
   ]
  },
  {
   "cell_type": "code",
   "execution_count": 116,
   "metadata": {},
   "outputs": [
    {
     "data": {
      "text/html": [
       "<div>\n",
       "<style scoped>\n",
       "    .dataframe tbody tr th:only-of-type {\n",
       "        vertical-align: middle;\n",
       "    }\n",
       "\n",
       "    .dataframe tbody tr th {\n",
       "        vertical-align: top;\n",
       "    }\n",
       "\n",
       "    .dataframe thead th {\n",
       "        text-align: right;\n",
       "    }\n",
       "</style>\n",
       "<table border=\"1\" class=\"dataframe\">\n",
       "  <thead>\n",
       "    <tr style=\"text-align: right;\">\n",
       "      <th></th>\n",
       "      <th>Name</th>\n",
       "      <th>Age</th>\n",
       "      <th>Survived</th>\n",
       "    </tr>\n",
       "  </thead>\n",
       "  <tbody>\n",
       "    <tr>\n",
       "      <th>33</th>\n",
       "      <td>Wheadon, Mr. Edward H</td>\n",
       "      <td>66.0</td>\n",
       "      <td>0</td>\n",
       "    </tr>\n",
       "    <tr>\n",
       "      <th>54</th>\n",
       "      <td>Ostby, Mr. Engelhart Cornelius</td>\n",
       "      <td>65.0</td>\n",
       "      <td>0</td>\n",
       "    </tr>\n",
       "    <tr>\n",
       "      <th>96</th>\n",
       "      <td>Goldschmidt, Mr. George B</td>\n",
       "      <td>71.0</td>\n",
       "      <td>0</td>\n",
       "    </tr>\n",
       "    <tr>\n",
       "      <th>116</th>\n",
       "      <td>Connors, Mr. Patrick</td>\n",
       "      <td>70.5</td>\n",
       "      <td>0</td>\n",
       "    </tr>\n",
       "    <tr>\n",
       "      <th>170</th>\n",
       "      <td>Van der hoef, Mr. Wyckoff</td>\n",
       "      <td>61.0</td>\n",
       "      <td>0</td>\n",
       "    </tr>\n",
       "    <tr>\n",
       "      <th>252</th>\n",
       "      <td>Stead, Mr. William Thomas</td>\n",
       "      <td>62.0</td>\n",
       "      <td>0</td>\n",
       "    </tr>\n",
       "    <tr>\n",
       "      <th>275</th>\n",
       "      <td>Andrews, Miss. Kornelia Theodosia</td>\n",
       "      <td>63.0</td>\n",
       "      <td>1</td>\n",
       "    </tr>\n",
       "    <tr>\n",
       "      <th>280</th>\n",
       "      <td>Duane, Mr. Frank</td>\n",
       "      <td>65.0</td>\n",
       "      <td>0</td>\n",
       "    </tr>\n",
       "    <tr>\n",
       "      <th>326</th>\n",
       "      <td>Nysveen, Mr. Johan Hansen</td>\n",
       "      <td>61.0</td>\n",
       "      <td>0</td>\n",
       "    </tr>\n",
       "    <tr>\n",
       "      <th>438</th>\n",
       "      <td>Fortune, Mr. Mark</td>\n",
       "      <td>64.0</td>\n",
       "      <td>0</td>\n",
       "    </tr>\n",
       "    <tr>\n",
       "      <th>456</th>\n",
       "      <td>Millet, Mr. Francis Davis</td>\n",
       "      <td>65.0</td>\n",
       "      <td>0</td>\n",
       "    </tr>\n",
       "    <tr>\n",
       "      <th>483</th>\n",
       "      <td>Turkula, Mrs. (Hedwig)</td>\n",
       "      <td>63.0</td>\n",
       "      <td>1</td>\n",
       "    </tr>\n",
       "    <tr>\n",
       "      <th>493</th>\n",
       "      <td>Artagaveytia, Mr. Ramon</td>\n",
       "      <td>71.0</td>\n",
       "      <td>0</td>\n",
       "    </tr>\n",
       "    <tr>\n",
       "      <th>545</th>\n",
       "      <td>Nicholson, Mr. Arthur Ernest</td>\n",
       "      <td>64.0</td>\n",
       "      <td>0</td>\n",
       "    </tr>\n",
       "    <tr>\n",
       "      <th>555</th>\n",
       "      <td>Wright, Mr. George</td>\n",
       "      <td>62.0</td>\n",
       "      <td>0</td>\n",
       "    </tr>\n",
       "    <tr>\n",
       "      <th>570</th>\n",
       "      <td>Harris, Mr. George</td>\n",
       "      <td>62.0</td>\n",
       "      <td>1</td>\n",
       "    </tr>\n",
       "    <tr>\n",
       "      <th>625</th>\n",
       "      <td>Sutton, Mr. Frederick</td>\n",
       "      <td>61.0</td>\n",
       "      <td>0</td>\n",
       "    </tr>\n",
       "    <tr>\n",
       "      <th>630</th>\n",
       "      <td>Barkworth, Mr. Algernon Henry Wilson</td>\n",
       "      <td>80.0</td>\n",
       "      <td>1</td>\n",
       "    </tr>\n",
       "    <tr>\n",
       "      <th>672</th>\n",
       "      <td>Mitchell, Mr. Henry Michael</td>\n",
       "      <td>70.0</td>\n",
       "      <td>0</td>\n",
       "    </tr>\n",
       "    <tr>\n",
       "      <th>745</th>\n",
       "      <td>Crosby, Capt. Edward Gifford</td>\n",
       "      <td>70.0</td>\n",
       "      <td>0</td>\n",
       "    </tr>\n",
       "    <tr>\n",
       "      <th>829</th>\n",
       "      <td>Stone, Mrs. George Nelson (Martha Evelyn)</td>\n",
       "      <td>62.0</td>\n",
       "      <td>1</td>\n",
       "    </tr>\n",
       "    <tr>\n",
       "      <th>851</th>\n",
       "      <td>Svensson, Mr. Johan</td>\n",
       "      <td>74.0</td>\n",
       "      <td>0</td>\n",
       "    </tr>\n",
       "  </tbody>\n",
       "</table>\n",
       "</div>"
      ],
      "text/plain": [
       "                                          Name   Age  Survived\n",
       "33                       Wheadon, Mr. Edward H  66.0         0\n",
       "54              Ostby, Mr. Engelhart Cornelius  65.0         0\n",
       "96                   Goldschmidt, Mr. George B  71.0         0\n",
       "116                       Connors, Mr. Patrick  70.5         0\n",
       "170                  Van der hoef, Mr. Wyckoff  61.0         0\n",
       "252                  Stead, Mr. William Thomas  62.0         0\n",
       "275          Andrews, Miss. Kornelia Theodosia  63.0         1\n",
       "280                           Duane, Mr. Frank  65.0         0\n",
       "326                  Nysveen, Mr. Johan Hansen  61.0         0\n",
       "438                          Fortune, Mr. Mark  64.0         0\n",
       "456                  Millet, Mr. Francis Davis  65.0         0\n",
       "483                     Turkula, Mrs. (Hedwig)  63.0         1\n",
       "493                    Artagaveytia, Mr. Ramon  71.0         0\n",
       "545               Nicholson, Mr. Arthur Ernest  64.0         0\n",
       "555                         Wright, Mr. George  62.0         0\n",
       "570                         Harris, Mr. George  62.0         1\n",
       "625                      Sutton, Mr. Frederick  61.0         0\n",
       "630       Barkworth, Mr. Algernon Henry Wilson  80.0         1\n",
       "672                Mitchell, Mr. Henry Michael  70.0         0\n",
       "745               Crosby, Capt. Edward Gifford  70.0         0\n",
       "829  Stone, Mrs. George Nelson (Martha Evelyn)  62.0         1\n",
       "851                        Svensson, Mr. Johan  74.0         0"
      ]
     },
     "execution_count": 116,
     "metadata": {},
     "output_type": "execute_result"
    }
   ],
   "source": [
    "above_75_names = titanic_df.loc[titanic_df[\"Age\"] > 60, [\"Name\",\"Age\",\"Survived\"]]\n",
    "above_75_names"
   ]
  },
  {
   "cell_type": "code",
   "execution_count": 117,
   "metadata": {},
   "outputs": [],
   "source": [
    "### Patients above 75 who survived"
   ]
  },
  {
   "cell_type": "code",
   "execution_count": 115,
   "metadata": {},
   "outputs": [
    {
     "data": {
      "text/html": [
       "<div>\n",
       "<style scoped>\n",
       "    .dataframe tbody tr th:only-of-type {\n",
       "        vertical-align: middle;\n",
       "    }\n",
       "\n",
       "    .dataframe tbody tr th {\n",
       "        vertical-align: top;\n",
       "    }\n",
       "\n",
       "    .dataframe thead th {\n",
       "        text-align: right;\n",
       "    }\n",
       "</style>\n",
       "<table border=\"1\" class=\"dataframe\">\n",
       "  <thead>\n",
       "    <tr style=\"text-align: right;\">\n",
       "      <th></th>\n",
       "      <th>Name</th>\n",
       "      <th>Age</th>\n",
       "      <th>Survived</th>\n",
       "    </tr>\n",
       "  </thead>\n",
       "  <tbody>\n",
       "    <tr>\n",
       "      <th>630</th>\n",
       "      <td>Barkworth, Mr. Algernon Henry Wilson</td>\n",
       "      <td>80.0</td>\n",
       "      <td>1</td>\n",
       "    </tr>\n",
       "  </tbody>\n",
       "</table>\n",
       "</div>"
      ],
      "text/plain": [
       "                                     Name   Age  Survived\n",
       "630  Barkworth, Mr. Algernon Henry Wilson  80.0         1"
      ]
     },
     "execution_count": 115,
     "metadata": {},
     "output_type": "execute_result"
    }
   ],
   "source": [
    "above_75_names_survived = titanic_df.loc[(np.logical_and(titanic_df[\"Age\"] > 75, titanic_df[\"Survived\"] ==1)), [\"Name\",\"Age\",\"Survived\"]]\n",
    "above_75_names"
   ]
  },
  {
   "cell_type": "markdown",
   "metadata": {},
   "source": [
    "## Dataframe object has a plot method for quick and easy plotting of data in a dataframe."
   ]
  },
  {
   "cell_type": "code",
   "execution_count": 149,
   "metadata": {},
   "outputs": [
    {
     "data": {
      "text/plain": [
       "['area',\n",
       " 'bar',\n",
       " 'barh',\n",
       " 'box',\n",
       " 'density',\n",
       " 'hexbin',\n",
       " 'hist',\n",
       " 'kde',\n",
       " 'line',\n",
       " 'pie',\n",
       " 'scatter']"
      ]
     },
     "execution_count": 149,
     "metadata": {},
     "output_type": "execute_result"
    }
   ],
   "source": [
    " # Printing the names of different plot types in plot() function of dataframe object\n",
    "[\n",
    "    method_name for method_name in dir(titanic_df.plot) if not method_name.startswith(\"_\")\n",
    "]\n"
   ]
  },
  {
   "cell_type": "code",
   "execution_count": 118,
   "metadata": {},
   "outputs": [
    {
     "data": {
      "text/plain": [
       "PassengerId      0\n",
       "Survived         0\n",
       "Pclass           0\n",
       "Name             0\n",
       "Sex              0\n",
       "Age            177\n",
       "SibSp            0\n",
       "Parch            0\n",
       "Ticket           0\n",
       "Fare             0\n",
       "Cabin          687\n",
       "Embarked         2\n",
       "dtype: int64"
      ]
     },
     "execution_count": 118,
     "metadata": {},
     "output_type": "execute_result"
    }
   ],
   "source": [
    "# Number of missing values in each column of the titanic dataset\n",
    "titanic_df.isnull().sum()"
   ]
  },
  {
   "cell_type": "markdown",
   "metadata": {},
   "source": [
    "## We can delete all rows or columns having null values using dropna() "
   ]
  },
  {
   "cell_type": "code",
   "execution_count": 119,
   "metadata": {},
   "outputs": [
    {
     "data": {
      "text/plain": [
       "(891, 12)"
      ]
     },
     "execution_count": 119,
     "metadata": {},
     "output_type": "execute_result"
    }
   ],
   "source": [
    "titanic_df=pd.read_csv('titanic.csv')\n",
    "titanic_df.shape\n"
   ]
  },
  {
   "cell_type": "code",
   "execution_count": 120,
   "metadata": {},
   "outputs": [
    {
     "data": {
      "text/plain": [
       "(183, 12)"
      ]
     },
     "execution_count": 120,
     "metadata": {},
     "output_type": "execute_result"
    }
   ],
   "source": [
    "#Delete the rows having null values\n",
    "titanic_df_nona = titanic_df.dropna()\n",
    "titanic_df_nona.shape"
   ]
  },
  {
   "cell_type": "code",
   "execution_count": 23,
   "metadata": {},
   "outputs": [
    {
     "data": {
      "text/plain": [
       "Index(['PassengerId', 'Survived', 'Pclass', 'Name', 'Sex', 'Age', 'SibSp',\n",
       "       'Parch', 'Ticket', 'Fare', 'Cabin', 'Embarked'],\n",
       "      dtype='object')"
      ]
     },
     "execution_count": 23,
     "metadata": {},
     "output_type": "execute_result"
    }
   ],
   "source": [
    "titanic_df_nona.columns"
   ]
  },
  {
   "cell_type": "code",
   "execution_count": 121,
   "metadata": {},
   "outputs": [
    {
     "data": {
      "text/plain": [
       "(891, 12)"
      ]
     },
     "execution_count": 121,
     "metadata": {},
     "output_type": "execute_result"
    }
   ],
   "source": [
    "#Delete the columns having null values\n",
    "titanic_df_nona_columns = titanic_df.dropna(axis='columns' , how = 'all')\n",
    "titanic_df_nona_columns.shape"
   ]
  },
  {
   "cell_type": "code",
   "execution_count": 123,
   "metadata": {},
   "outputs": [
    {
     "data": {
      "text/plain": [
       "female    82\n",
       "male      41\n",
       "Name: Sex, dtype: int64"
      ]
     },
     "execution_count": 123,
     "metadata": {},
     "output_type": "execute_result"
    }
   ],
   "source": [
    "# Number of survivals in each sex\n",
    "titanic_df_nona[titanic_df_nona.Survived == 1].Sex.value_counts(normalize=False)"
   ]
  },
  {
   "cell_type": "markdown",
   "metadata": {},
   "source": [
    "###  Number of men who survivd and did not survive"
   ]
  },
  {
   "cell_type": "code",
   "execution_count": 31,
   "metadata": {},
   "outputs": [
    {
     "data": {
      "text/plain": [
       "0    54\n",
       "1    41\n",
       "Name: Survived, dtype: int64"
      ]
     },
     "execution_count": 31,
     "metadata": {},
     "output_type": "execute_result"
    }
   ],
   "source": [
    "# How many males survived\n",
    "titanic_df_nona[titanic_df_nona.Sex == \"male\"].Survived.value_counts(normalize=False)"
   ]
  },
  {
   "cell_type": "markdown",
   "metadata": {},
   "source": [
    "## Groupby() - Split, apply, transform "
   ]
  },
  {
   "cell_type": "code",
   "execution_count": 35,
   "metadata": {},
   "outputs": [
    {
     "data": {
      "text/plain": [
       "Sex\n",
       "female    0.931818\n",
       "male      0.431579\n",
       "Name: Survived, dtype: float64"
      ]
     },
     "execution_count": 35,
     "metadata": {},
     "output_type": "execute_result"
    }
   ],
   "source": [
    "# Group the rows by value of Sex column,\n",
    "# compute the number of passesengers that survived in each group, \n",
    "# find the mean number of survived people in each group\n",
    "\n",
    "titanic_df_nona.groupby('Sex').Survived.mean()"
   ]
  },
  {
   "cell_type": "code",
   "execution_count": 37,
   "metadata": {},
   "outputs": [
    {
     "data": {
      "text/plain": [
       "Pclass\n",
       "1    0.670886\n",
       "2    0.800000\n",
       "3    0.500000\n",
       "Name: Survived, dtype: float64"
      ]
     },
     "execution_count": 37,
     "metadata": {},
     "output_type": "execute_result"
    }
   ],
   "source": [
    "titanic_df_nona.groupby('Pclass').Survived.mean()"
   ]
  },
  {
   "cell_type": "code",
   "execution_count": 33,
   "metadata": {},
   "outputs": [
    {
     "data": {
      "text/plain": [
       "<matplotlib.axes._subplots.AxesSubplot at 0x15974264388>"
      ]
     },
     "execution_count": 33,
     "metadata": {},
     "output_type": "execute_result"
    },
    {
     "data": {
      "image/png": "[encoded data removed]",
      "text/plain": [
       "<Figure size 432x288 with 1 Axes>"
      ]
     },
     "metadata": {
      "needs_background": "light"
     },
     "output_type": "display_data"
    }
   ],
   "source": [
    "titanic_df_nona.groupby('Sex').Survived.mean().plot(kind='barh')"
   ]
  },
  {
   "cell_type": "code",
   "execution_count": 45,
   "metadata": {
    "scrolled": true
   },
   "outputs": [
    {
     "data": {
      "text/html": [
       "<div>\n",
       "<style scoped>\n",
       "    .dataframe tbody tr th:only-of-type {\n",
       "        vertical-align: middle;\n",
       "    }\n",
       "\n",
       "    .dataframe tbody tr th {\n",
       "        vertical-align: top;\n",
       "    }\n",
       "\n",
       "    .dataframe thead th {\n",
       "        text-align: right;\n",
       "    }\n",
       "</style>\n",
       "<table border=\"1\" class=\"dataframe\">\n",
       "  <thead>\n",
       "    <tr style=\"text-align: right;\">\n",
       "      <th></th>\n",
       "      <th>count</th>\n",
       "      <th>mean</th>\n",
       "      <th>std</th>\n",
       "      <th>min</th>\n",
       "      <th>25%</th>\n",
       "      <th>50%</th>\n",
       "      <th>75%</th>\n",
       "      <th>max</th>\n",
       "    </tr>\n",
       "    <tr>\n",
       "      <th>Sex</th>\n",
       "      <th></th>\n",
       "      <th></th>\n",
       "      <th></th>\n",
       "      <th></th>\n",
       "      <th></th>\n",
       "      <th></th>\n",
       "      <th></th>\n",
       "      <th></th>\n",
       "    </tr>\n",
       "  </thead>\n",
       "  <tbody>\n",
       "    <tr>\n",
       "      <th>female</th>\n",
       "      <td>88.0</td>\n",
       "      <td>32.676136</td>\n",
       "      <td>14.240552</td>\n",
       "      <td>2.00</td>\n",
       "      <td>22.75</td>\n",
       "      <td>32.25</td>\n",
       "      <td>41.5</td>\n",
       "      <td>63.0</td>\n",
       "    </tr>\n",
       "    <tr>\n",
       "      <th>male</th>\n",
       "      <td>95.0</td>\n",
       "      <td>38.451789</td>\n",
       "      <td>16.429746</td>\n",
       "      <td>0.92</td>\n",
       "      <td>28.00</td>\n",
       "      <td>37.00</td>\n",
       "      <td>49.0</td>\n",
       "      <td>80.0</td>\n",
       "    </tr>\n",
       "  </tbody>\n",
       "</table>\n",
       "</div>"
      ],
      "text/plain": [
       "        count       mean        std   min    25%    50%   75%   max\n",
       "Sex                                                                \n",
       "female   88.0  32.676136  14.240552  2.00  22.75  32.25  41.5  63.0\n",
       "male     95.0  38.451789  16.429746  0.92  28.00  37.00  49.0  80.0"
      ]
     },
     "execution_count": 45,
     "metadata": {},
     "output_type": "execute_result"
    }
   ],
   "source": [
    "titanic_df_nona.groupby('Sex').Age.describe()"
   ]
  },
  {
   "cell_type": "code",
   "execution_count": 46,
   "metadata": {
    "scrolled": true
   },
   "outputs": [
    {
     "data": {
      "text/plain": [
       "<matplotlib.axes._subplots.AxesSubplot at 0x15974c13688>"
      ]
     },
     "execution_count": 46,
     "metadata": {},
     "output_type": "execute_result"
    },
    {
     "data": {
      "image/png": "[encoded data removed]",
      "text/plain": [
       "<Figure size 432x288 with 1 Axes>"
      ]
     },
     "metadata": {
      "needs_background": "light"
     },
     "output_type": "display_data"
    }
   ],
   "source": [
    "## histograms for age distribution in data\n",
    "titanic_df_nona.Age.plot(kind = 'hist')"
   ]
  },
  {
   "cell_type": "code",
   "execution_count": 47,
   "metadata": {
    "scrolled": true
   },
   "outputs": [
    {
     "data": {
      "text/plain": [
       "<matplotlib.axes._subplots.AxesSubplot at 0x15974cb9a48>"
      ]
     },
     "execution_count": 47,
     "metadata": {},
     "output_type": "execute_result"
    },
    {
     "data": {
      "image/png": "[encoded data removed]",
      "text/plain": [
       "<Figure size 432x288 with 1 Axes>"
      ]
     },
     "metadata": {
      "needs_background": "light"
     },
     "output_type": "display_data"
    }
   ],
   "source": [
    "titanic_df_nona.Age.value_counts().sort_index().plot()"
   ]
  },
  {
   "cell_type": "code",
   "execution_count": 50,
   "metadata": {},
   "outputs": [
    {
     "data": {
      "text/plain": [
       "array([[<matplotlib.axes._subplots.AxesSubplot object at 0x0000015974DFC148>,\n",
       "        <matplotlib.axes._subplots.AxesSubplot object at 0x0000015975FAA388>],\n",
       "       [<matplotlib.axes._subplots.AxesSubplot object at 0x0000015975F82C48>,\n",
       "        <matplotlib.axes._subplots.AxesSubplot object at 0x000001597600EE48>]],\n",
       "      dtype=object)"
      ]
     },
     "execution_count": 50,
     "metadata": {},
     "output_type": "execute_result"
    },
    {
     "data": {
      "image/png": "[encoded data removed]",
      "text/plain": [
       "<Figure size 432x288 with 4 Axes>"
      ]
     },
     "metadata": {
      "needs_background": "light"
     },
     "output_type": "display_data"
    }
   ],
   "source": [
    "titanic_df_nona.hist('Age', by = 'Pclass' )"
   ]
  },
  {
   "cell_type": "code",
   "execution_count": 125,
   "metadata": {},
   "outputs": [
    {
     "data": {
      "text/plain": [
       "(183, 2)"
      ]
     },
     "execution_count": 125,
     "metadata": {},
     "output_type": "execute_result"
    }
   ],
   "source": [
    "## Subsetting only two columns from titanic data\n",
    "age_sex = titanic_df_nona[['Sex', 'Age']]\n",
    "age_sex.shape"
   ]
  },
  {
   "cell_type": "code",
   "execution_count": 126,
   "metadata": {},
   "outputs": [
    {
     "name": "stdout",
     "output_type": "stream",
     "text": [
      "Count of passengers of all sexes :  Sex\n",
      "female    88\n",
      "male      95\n",
      "Name: Sex, dtype: int64\n",
      "\n",
      "Number of groups as per sexes :  2\n",
      "\n",
      " Female and Male Rows Numbers in dataframe:  {'female': Int64Index([  1,   3,  10,  11,  52,  66,  88, 123, 136, 151, 177, 194, 195,\n",
      "            205, 215, 218, 230, 251, 257, 268, 269, 275, 291, 297, 299, 307,\n",
      "            309, 310, 311, 318, 319, 325, 327, 329, 337, 341, 345, 356, 366,\n",
      "            369, 393, 394, 412, 435, 473, 486, 496, 498, 504, 516, 520, 523,\n",
      "            539, 540, 556, 558, 571, 577, 581, 585, 591, 609, 618, 627, 641,\n",
      "            689, 700, 710, 716, 717, 730, 742, 759, 763, 765, 772, 779, 781,\n",
      "            796, 809, 820, 823, 835, 853, 862, 871, 879, 887],\n",
      "           dtype='int64'), 'male': Int64Index([  6,  21,  23,  27,  54,  62,  75,  92,  96,  97, 102, 110, 118,\n",
      "            124, 137, 139, 148, 170, 174, 183, 193, 209, 224, 245, 248, 252,\n",
      "            262, 263, 273, 292, 305, 331, 332, 336, 339, 340, 370, 377, 390,\n",
      "            429, 430, 434, 438, 445, 449, 452, 453, 456, 460, 462, 484, 487,\n",
      "            492, 505, 512, 515, 536, 544, 550, 572, 583, 587, 599, 621, 625,\n",
      "            630, 632, 645, 647, 659, 662, 671, 679, 681, 690, 698, 699, 701,\n",
      "            707, 712, 715, 724, 737, 741, 745, 748, 751, 782, 789, 802, 806,\n",
      "            857, 867, 872, 889],\n",
      "           dtype='int64')}\n",
      "\n",
      " Size of each group :  Sex\n",
      "female    88\n",
      "male      95\n",
      "dtype: int64\n"
     ]
    }
   ],
   "source": [
    "age_sex_groups = age_sex.groupby(['Sex'])\n",
    "print(\"Count of passengers of all sexes : \", age_sex_groups['Sex'].count())\n",
    "print(\"\\nNumber of groups as per sexes : \", age_sex_groups.ngroups)\n",
    "print(\"\\n Female and Male Rows Numbers in dataframe: \" , age_sex_groups.groups)\n",
    "print(\"\\n Size of each group : \", age_sex_groups.size())\n"
   ]
  },
  {
   "cell_type": "code",
   "execution_count": 127,
   "metadata": {},
   "outputs": [
    {
     "data": {
      "text/plain": [
       "<matplotlib.axes._subplots.AxesSubplot at 0x2740d8dc7c8>"
      ]
     },
     "execution_count": 127,
     "metadata": {},
     "output_type": "execute_result"
    },
    {
     "data": {
      "image/png": "[encoded data removed]",
      "text/plain": [
       "<Figure size 432x288 with 1 Axes>"
      ]
     },
     "metadata": {
      "needs_background": "light"
     },
     "output_type": "display_data"
    }
   ],
   "source": [
    "# Plotting the mean age of both sexes in the group\n",
    "age_sex_groups['Age'].mean().plot(kind='bar')"
   ]
  },
  {
   "cell_type": "code",
   "execution_count": 128,
   "metadata": {},
   "outputs": [
    {
     "data": {
      "text/plain": [
       "<matplotlib.axes._subplots.AxesSubplot at 0x2740ede77c8>"
      ]
     },
     "execution_count": 128,
     "metadata": {},
     "output_type": "execute_result"
    },
    {
     "data": {
      "image/png": "[encoded data removed]",
      "text/plain": [
       "<Figure size 432x288 with 1 Axes>"
      ]
     },
     "metadata": {
      "needs_background": "light"
     },
     "output_type": "display_data"
    }
   ],
   "source": [
    "## Creating a subset of 3 columns\n",
    "sex_age_fare = titanic_df_nona.loc[:, ['Sex', 'Age', 'Fare']]\n",
    "# Grouping by multiple categories\n",
    "sex_age_fare.groupby(['Sex', 'Fare']).mean()\n",
    "sex_age_fare.groupby('Sex').mean().plot(kind='bar')"
   ]
  },
  {
   "cell_type": "code",
   "execution_count": 129,
   "metadata": {},
   "outputs": [
    {
     "name": "stdout",
     "output_type": "stream",
     "text": [
      "\n",
      " Preview First Entry of age_sex_group :\n",
      "           Age\n",
      "Sex         \n",
      "female  38.0\n",
      "male    54.0\n",
      "\n",
      " Preview Last Entry age_sex_group: \n",
      "          Age\n",
      "Sex         \n",
      "female  19.0\n",
      "male    26.0\n"
     ]
    }
   ],
   "source": [
    "print(\"\\n Preview First Entry of age_sex_group :\\n \", age_sex_groups.first())\n",
    "print(\"\\n Preview Last Entry age_sex_group: \\n\", age_sex_groups.last())"
   ]
  },
  {
   "cell_type": "code",
   "execution_count": 183,
   "metadata": {},
   "outputs": [
    {
     "name": "stdout",
     "output_type": "stream",
     "text": [
      "\n",
      " Female Group : \n",
      "       Age\n",
      "1    38.0\n",
      "2    26.0\n",
      "3    35.0\n",
      "8    27.0\n",
      "9    14.0\n",
      "..    ...\n",
      "879  56.0\n",
      "880  25.0\n",
      "882  22.0\n",
      "885  39.0\n",
      "887  19.0\n",
      "\n",
      "[261 rows x 1 columns]\n"
     ]
    }
   ],
   "source": [
    "print(\"\\n Ages of Females in the Group : \\n\", age_sex_groups.get_group('female'))"
   ]
  },
  {
   "cell_type": "markdown",
   "metadata": {},
   "source": [
    "\n",
    "The “group by” process: split-apply-combine -group by” is referring to a process involving one or more of the following steps:\n",
    "\n",
    "1. Splitting the data into groups. \n",
    "2. Applying a function to each group independently, \n",
    "3. Combining the results into a data structure.\n",
    "\n",
    "groupby() is widely used for the split step.\n",
    "\n",
    "In the apply step, we might wish to do one of the following:\n",
    " - Aggregation: compute a summary statistic for each group. for example, sum, mean, or count.\n",
    " - Transformation: perform some group-specific computations and return a like-indexed object. For example, standardize data within a group or replacing missing values within groups.\n",
    " - Filtration: discard some groups, according to a group-wise computation that evaluates True or False. "
   ]
  },
  {
   "cell_type": "code",
   "execution_count": 253,
   "metadata": {
    "scrolled": true
   },
   "outputs": [
    {
     "name": "stdout",
     "output_type": "stream",
     "text": [
      "Maximum ages of females and males :  Sex\n",
      "female    63.0\n",
      "male      80.0\n",
      "Name: Age, dtype: float64\n"
     ]
    },
    {
     "data": {
      "text/html": [
       "<div>\n",
       "<style scoped>\n",
       "    .dataframe tbody tr th:only-of-type {\n",
       "        vertical-align: middle;\n",
       "    }\n",
       "\n",
       "    .dataframe tbody tr th {\n",
       "        vertical-align: top;\n",
       "    }\n",
       "\n",
       "    .dataframe thead tr th {\n",
       "        text-align: left;\n",
       "    }\n",
       "\n",
       "    .dataframe thead tr:last-of-type th {\n",
       "        text-align: right;\n",
       "    }\n",
       "</style>\n",
       "<table border=\"1\" class=\"dataframe\">\n",
       "  <thead>\n",
       "    <tr>\n",
       "      <th></th>\n",
       "      <th colspan=\"5\" halign=\"left\">Age</th>\n",
       "    </tr>\n",
       "    <tr>\n",
       "      <th></th>\n",
       "      <th>max</th>\n",
       "      <th>min</th>\n",
       "      <th>count</th>\n",
       "      <th>mean</th>\n",
       "      <th>median</th>\n",
       "    </tr>\n",
       "    <tr>\n",
       "      <th>Sex</th>\n",
       "      <th></th>\n",
       "      <th></th>\n",
       "      <th></th>\n",
       "      <th></th>\n",
       "      <th></th>\n",
       "    </tr>\n",
       "  </thead>\n",
       "  <tbody>\n",
       "    <tr>\n",
       "      <th>female</th>\n",
       "      <td>63.0</td>\n",
       "      <td>2.00</td>\n",
       "      <td>88</td>\n",
       "      <td>32.676136</td>\n",
       "      <td>32.25</td>\n",
       "    </tr>\n",
       "    <tr>\n",
       "      <th>male</th>\n",
       "      <td>80.0</td>\n",
       "      <td>0.92</td>\n",
       "      <td>95</td>\n",
       "      <td>38.451789</td>\n",
       "      <td>37.00</td>\n",
       "    </tr>\n",
       "  </tbody>\n",
       "</table>\n",
       "</div>"
      ],
      "text/plain": [
       "         Age                              \n",
       "         max   min count       mean median\n",
       "Sex                                       \n",
       "female  63.0  2.00    88  32.676136  32.25\n",
       "male    80.0  0.92    95  38.451789  37.00"
      ]
     },
     "execution_count": 253,
     "metadata": {},
     "output_type": "execute_result"
    }
   ],
   "source": [
    "# Source Credit: https://towardsdatascience.com/all-pandas-groupby-you-should-know-for-grouping-data-and-performing-operations-2a8ec1327b5\n",
    "print(\"Maximum ages of females and males : \", age_sex_groups.Age.max())\n",
    "age_sex_groups.agg(['max','min','count','mean','median'])"
   ]
  },
  {
   "cell_type": "code",
   "execution_count": 132,
   "metadata": {},
   "outputs": [
    {
     "data": {
      "text/html": [
       "<div>\n",
       "<style scoped>\n",
       "    .dataframe tbody tr th:only-of-type {\n",
       "        vertical-align: middle;\n",
       "    }\n",
       "\n",
       "    .dataframe tbody tr th {\n",
       "        vertical-align: top;\n",
       "    }\n",
       "\n",
       "    .dataframe thead tr th {\n",
       "        text-align: left;\n",
       "    }\n",
       "\n",
       "    .dataframe thead tr:last-of-type th {\n",
       "        text-align: right;\n",
       "    }\n",
       "</style>\n",
       "<table border=\"1\" class=\"dataframe\">\n",
       "  <thead>\n",
       "    <tr>\n",
       "      <th></th>\n",
       "      <th colspan=\"2\" halign=\"left\">Age</th>\n",
       "    </tr>\n",
       "    <tr>\n",
       "      <th></th>\n",
       "      <th>mean</th>\n",
       "      <th>age_categories</th>\n",
       "    </tr>\n",
       "    <tr>\n",
       "      <th>Sex</th>\n",
       "      <th></th>\n",
       "      <th></th>\n",
       "    </tr>\n",
       "  </thead>\n",
       "  <tbody>\n",
       "    <tr>\n",
       "      <th>female</th>\n",
       "      <td>32.676136</td>\n",
       "      <td>Young</td>\n",
       "    </tr>\n",
       "    <tr>\n",
       "      <th>male</th>\n",
       "      <td>38.451789</td>\n",
       "      <td>Middle Age</td>\n",
       "    </tr>\n",
       "  </tbody>\n",
       "</table>\n",
       "</div>"
      ],
      "text/plain": [
       "              Age               \n",
       "             mean age_categories\n",
       "Sex                             \n",
       "female  32.676136          Young\n",
       "male    38.451789     Middle Age"
      ]
     },
     "execution_count": 132,
     "metadata": {},
     "output_type": "execute_result"
    }
   ],
   "source": [
    "# Source Credit : https://github.com/BindiChen/machine-learning/blob/master/data-analysis/032-pandas-groupby/pandas-groupby.ipynb\n",
    "# Apply a function to all groups\n",
    "def age_categories(x):\n",
    "    meanx=x.mean()\n",
    "    return \"Middle Age\" if meanx > 35 else \"Young\"\n",
    "\n",
    "age_sex_groups.agg(['mean', age_categories])"
   ]
  },
  {
   "cell_type": "code",
   "execution_count": 133,
   "metadata": {},
   "outputs": [
    {
     "data": {
      "text/plain": [
       "['agg',\n",
       " 'aggregate',\n",
       " 'all',\n",
       " 'any',\n",
       " 'apply',\n",
       " 'backfill',\n",
       " 'bfill',\n",
       " 'boxplot',\n",
       " 'corr',\n",
       " 'corrwith',\n",
       " 'count',\n",
       " 'cov',\n",
       " 'cumcount',\n",
       " 'cummax',\n",
       " 'cummin',\n",
       " 'cumprod',\n",
       " 'cumsum',\n",
       " 'describe',\n",
       " 'diff',\n",
       " 'expanding',\n",
       " 'ffill',\n",
       " 'fillna',\n",
       " 'filter',\n",
       " 'first',\n",
       " 'get_group',\n",
       " 'head',\n",
       " 'hist',\n",
       " 'idxmax',\n",
       " 'idxmin',\n",
       " 'last',\n",
       " 'mad',\n",
       " 'max',\n",
       " 'mean',\n",
       " 'median',\n",
       " 'min',\n",
       " 'ngroup',\n",
       " 'nth',\n",
       " 'nunique',\n",
       " 'ohlc',\n",
       " 'pad',\n",
       " 'pct_change',\n",
       " 'pipe',\n",
       " 'plot',\n",
       " 'prod',\n",
       " 'quantile',\n",
       " 'rank',\n",
       " 'resample',\n",
       " 'rolling',\n",
       " 'sem',\n",
       " 'shift',\n",
       " 'size',\n",
       " 'skew',\n",
       " 'std',\n",
       " 'sum',\n",
       " 'tail',\n",
       " 'take',\n",
       " 'transform',\n",
       " 'tshift',\n",
       " 'var']"
      ]
     },
     "execution_count": 133,
     "metadata": {},
     "output_type": "execute_result"
    }
   ],
   "source": [
    "methods = [method_name for method_name in dir(age_sex_groups) \n",
    "           if callable(getattr(age_sex_groups, method_name)) & ~method_name.startswith('_')]\n",
    "methods"
   ]
  },
  {
   "cell_type": "code",
   "execution_count": 134,
   "metadata": {},
   "outputs": [
    {
     "data": {
      "text/plain": [
       "1      0.373852\n",
       "3      0.163186\n",
       "6      0.946345\n",
       "10    -2.013696\n",
       "11     1.778292\n",
       "         ...   \n",
       "871    1.005850\n",
       "872   -0.331824\n",
       "879    1.637848\n",
       "887   -0.960366\n",
       "889   -0.757881\n",
       "Name: Age, Length: 183, dtype: float64"
      ]
     },
     "execution_count": 134,
     "metadata": {},
     "output_type": "execute_result"
    }
   ],
   "source": [
    "# Transforming data\n",
    "standardization = lambda x: (x - x.mean()) / x.std()\n",
    "titanic_df_nona.groupby('Sex').Age.transform(standardization)\n",
    "#titanic_df.head()"
   ]
  },
  {
   "cell_type": "code",
   "execution_count": 135,
   "metadata": {},
   "outputs": [
    {
     "data": {
      "text/plain": [
       "1      0.373852\n",
       "3      0.163186\n",
       "6      0.946345\n",
       "10    -2.013696\n",
       "11     1.778292\n",
       "         ...   \n",
       "871    1.005850\n",
       "872   -0.331824\n",
       "879    1.637848\n",
       "887   -0.960366\n",
       "889   -0.757881\n",
       "Name: Age, Length: 183, dtype: float64"
      ]
     },
     "execution_count": 135,
     "metadata": {},
     "output_type": "execute_result"
    }
   ],
   "source": [
    "titanic_df_nona.groupby('Sex').Age.apply(standardization)"
   ]
  },
  {
   "cell_type": "code",
   "execution_count": 136,
   "metadata": {},
   "outputs": [
    {
     "data": {
      "text/plain": [
       "Cabin\n",
       "A10    1\n",
       "A16    1\n",
       "A20    1\n",
       "A23    1\n",
       "A24    1\n",
       "      ..\n",
       "F2     3\n",
       "F33    3\n",
       "F4     2\n",
       "G6     4\n",
       "T      1\n",
       "Length: 133, dtype: int64"
      ]
     },
     "execution_count": 136,
     "metadata": {},
     "output_type": "execute_result"
    }
   ],
   "source": [
    "# Filtering\n",
    "titanic_df_nona.groupby('Cabin').size()"
   ]
  },
  {
   "cell_type": "code",
   "execution_count": 137,
   "metadata": {},
   "outputs": [
    {
     "data": {
      "text/html": [
       "<div>\n",
       "<style scoped>\n",
       "    .dataframe tbody tr th:only-of-type {\n",
       "        vertical-align: middle;\n",
       "    }\n",
       "\n",
       "    .dataframe tbody tr th {\n",
       "        vertical-align: top;\n",
       "    }\n",
       "\n",
       "    .dataframe thead th {\n",
       "        text-align: right;\n",
       "    }\n",
       "</style>\n",
       "<table border=\"1\" class=\"dataframe\">\n",
       "  <thead>\n",
       "    <tr style=\"text-align: right;\">\n",
       "      <th></th>\n",
       "      <th>PassengerId</th>\n",
       "      <th>Survived</th>\n",
       "      <th>Pclass</th>\n",
       "      <th>Name</th>\n",
       "      <th>Sex</th>\n",
       "      <th>Age</th>\n",
       "      <th>SibSp</th>\n",
       "      <th>Parch</th>\n",
       "      <th>Ticket</th>\n",
       "      <th>Fare</th>\n",
       "      <th>Cabin</th>\n",
       "      <th>Embarked</th>\n",
       "    </tr>\n",
       "  </thead>\n",
       "  <tbody>\n",
       "    <tr>\n",
       "      <th>10</th>\n",
       "      <td>11</td>\n",
       "      <td>1</td>\n",
       "      <td>3</td>\n",
       "      <td>Sandstrom, Miss. Marguerite Rut</td>\n",
       "      <td>female</td>\n",
       "      <td>4.00</td>\n",
       "      <td>1</td>\n",
       "      <td>1</td>\n",
       "      <td>PP 9549</td>\n",
       "      <td>16.7000</td>\n",
       "      <td>G6</td>\n",
       "      <td>S</td>\n",
       "    </tr>\n",
       "    <tr>\n",
       "      <th>27</th>\n",
       "      <td>28</td>\n",
       "      <td>0</td>\n",
       "      <td>1</td>\n",
       "      <td>Fortune, Mr. Charles Alexander</td>\n",
       "      <td>male</td>\n",
       "      <td>19.00</td>\n",
       "      <td>3</td>\n",
       "      <td>2</td>\n",
       "      <td>19950</td>\n",
       "      <td>263.0000</td>\n",
       "      <td>C23 C25 C27</td>\n",
       "      <td>S</td>\n",
       "    </tr>\n",
       "    <tr>\n",
       "      <th>66</th>\n",
       "      <td>67</td>\n",
       "      <td>1</td>\n",
       "      <td>2</td>\n",
       "      <td>Nye, Mrs. (Elizabeth Ramell)</td>\n",
       "      <td>female</td>\n",
       "      <td>29.00</td>\n",
       "      <td>0</td>\n",
       "      <td>0</td>\n",
       "      <td>C.A. 29395</td>\n",
       "      <td>10.5000</td>\n",
       "      <td>F33</td>\n",
       "      <td>S</td>\n",
       "    </tr>\n",
       "    <tr>\n",
       "      <th>88</th>\n",
       "      <td>89</td>\n",
       "      <td>1</td>\n",
       "      <td>1</td>\n",
       "      <td>Fortune, Miss. Mabel Helen</td>\n",
       "      <td>female</td>\n",
       "      <td>23.00</td>\n",
       "      <td>3</td>\n",
       "      <td>2</td>\n",
       "      <td>19950</td>\n",
       "      <td>263.0000</td>\n",
       "      <td>C23 C25 C27</td>\n",
       "      <td>S</td>\n",
       "    </tr>\n",
       "    <tr>\n",
       "      <th>148</th>\n",
       "      <td>149</td>\n",
       "      <td>0</td>\n",
       "      <td>2</td>\n",
       "      <td>Navratil, Mr. Michel (\"Louis M Hoffman\")</td>\n",
       "      <td>male</td>\n",
       "      <td>36.50</td>\n",
       "      <td>0</td>\n",
       "      <td>2</td>\n",
       "      <td>230080</td>\n",
       "      <td>26.0000</td>\n",
       "      <td>F2</td>\n",
       "      <td>S</td>\n",
       "    </tr>\n",
       "    <tr>\n",
       "      <th>193</th>\n",
       "      <td>194</td>\n",
       "      <td>1</td>\n",
       "      <td>2</td>\n",
       "      <td>Navratil, Master. Michel M</td>\n",
       "      <td>male</td>\n",
       "      <td>3.00</td>\n",
       "      <td>1</td>\n",
       "      <td>1</td>\n",
       "      <td>230080</td>\n",
       "      <td>26.0000</td>\n",
       "      <td>F2</td>\n",
       "      <td>S</td>\n",
       "    </tr>\n",
       "    <tr>\n",
       "      <th>205</th>\n",
       "      <td>206</td>\n",
       "      <td>0</td>\n",
       "      <td>3</td>\n",
       "      <td>Strom, Miss. Telma Matilda</td>\n",
       "      <td>female</td>\n",
       "      <td>2.00</td>\n",
       "      <td>0</td>\n",
       "      <td>1</td>\n",
       "      <td>347054</td>\n",
       "      <td>10.4625</td>\n",
       "      <td>G6</td>\n",
       "      <td>S</td>\n",
       "    </tr>\n",
       "    <tr>\n",
       "      <th>251</th>\n",
       "      <td>252</td>\n",
       "      <td>0</td>\n",
       "      <td>3</td>\n",
       "      <td>Strom, Mrs. Wilhelm (Elna Matilda Persson)</td>\n",
       "      <td>female</td>\n",
       "      <td>29.00</td>\n",
       "      <td>1</td>\n",
       "      <td>1</td>\n",
       "      <td>347054</td>\n",
       "      <td>10.4625</td>\n",
       "      <td>G6</td>\n",
       "      <td>S</td>\n",
       "    </tr>\n",
       "    <tr>\n",
       "      <th>292</th>\n",
       "      <td>293</td>\n",
       "      <td>0</td>\n",
       "      <td>2</td>\n",
       "      <td>Levy, Mr. Rene Jacques</td>\n",
       "      <td>male</td>\n",
       "      <td>36.00</td>\n",
       "      <td>0</td>\n",
       "      <td>0</td>\n",
       "      <td>SC/Paris 2163</td>\n",
       "      <td>12.8750</td>\n",
       "      <td>D</td>\n",
       "      <td>C</td>\n",
       "    </tr>\n",
       "    <tr>\n",
       "      <th>297</th>\n",
       "      <td>298</td>\n",
       "      <td>0</td>\n",
       "      <td>1</td>\n",
       "      <td>Allison, Miss. Helen Loraine</td>\n",
       "      <td>female</td>\n",
       "      <td>2.00</td>\n",
       "      <td>1</td>\n",
       "      <td>2</td>\n",
       "      <td>113781</td>\n",
       "      <td>151.5500</td>\n",
       "      <td>C22 C26</td>\n",
       "      <td>S</td>\n",
       "    </tr>\n",
       "    <tr>\n",
       "      <th>305</th>\n",
       "      <td>306</td>\n",
       "      <td>1</td>\n",
       "      <td>1</td>\n",
       "      <td>Allison, Master. Hudson Trevor</td>\n",
       "      <td>male</td>\n",
       "      <td>0.92</td>\n",
       "      <td>1</td>\n",
       "      <td>2</td>\n",
       "      <td>113781</td>\n",
       "      <td>151.5500</td>\n",
       "      <td>C22 C26</td>\n",
       "      <td>S</td>\n",
       "    </tr>\n",
       "    <tr>\n",
       "      <th>327</th>\n",
       "      <td>328</td>\n",
       "      <td>1</td>\n",
       "      <td>2</td>\n",
       "      <td>Ball, Mrs. (Ada E Hall)</td>\n",
       "      <td>female</td>\n",
       "      <td>36.00</td>\n",
       "      <td>0</td>\n",
       "      <td>0</td>\n",
       "      <td>28551</td>\n",
       "      <td>13.0000</td>\n",
       "      <td>D</td>\n",
       "      <td>S</td>\n",
       "    </tr>\n",
       "    <tr>\n",
       "      <th>340</th>\n",
       "      <td>341</td>\n",
       "      <td>1</td>\n",
       "      <td>2</td>\n",
       "      <td>Navratil, Master. Edmond Roger</td>\n",
       "      <td>male</td>\n",
       "      <td>2.00</td>\n",
       "      <td>1</td>\n",
       "      <td>1</td>\n",
       "      <td>230080</td>\n",
       "      <td>26.0000</td>\n",
       "      <td>F2</td>\n",
       "      <td>S</td>\n",
       "    </tr>\n",
       "    <tr>\n",
       "      <th>341</th>\n",
       "      <td>342</td>\n",
       "      <td>1</td>\n",
       "      <td>1</td>\n",
       "      <td>Fortune, Miss. Alice Elizabeth</td>\n",
       "      <td>female</td>\n",
       "      <td>24.00</td>\n",
       "      <td>3</td>\n",
       "      <td>2</td>\n",
       "      <td>19950</td>\n",
       "      <td>263.0000</td>\n",
       "      <td>C23 C25 C27</td>\n",
       "      <td>S</td>\n",
       "    </tr>\n",
       "    <tr>\n",
       "      <th>345</th>\n",
       "      <td>346</td>\n",
       "      <td>1</td>\n",
       "      <td>2</td>\n",
       "      <td>Brown, Miss. Amelia \"Mildred\"</td>\n",
       "      <td>female</td>\n",
       "      <td>24.00</td>\n",
       "      <td>0</td>\n",
       "      <td>0</td>\n",
       "      <td>248733</td>\n",
       "      <td>13.0000</td>\n",
       "      <td>F33</td>\n",
       "      <td>S</td>\n",
       "    </tr>\n",
       "    <tr>\n",
       "      <th>390</th>\n",
       "      <td>391</td>\n",
       "      <td>1</td>\n",
       "      <td>1</td>\n",
       "      <td>Carter, Mr. William Ernest</td>\n",
       "      <td>male</td>\n",
       "      <td>36.00</td>\n",
       "      <td>1</td>\n",
       "      <td>2</td>\n",
       "      <td>113760</td>\n",
       "      <td>120.0000</td>\n",
       "      <td>B96 B98</td>\n",
       "      <td>S</td>\n",
       "    </tr>\n",
       "    <tr>\n",
       "      <th>394</th>\n",
       "      <td>395</td>\n",
       "      <td>1</td>\n",
       "      <td>3</td>\n",
       "      <td>Sandstrom, Mrs. Hjalmar (Agnes Charlotta Bengt...</td>\n",
       "      <td>female</td>\n",
       "      <td>24.00</td>\n",
       "      <td>0</td>\n",
       "      <td>2</td>\n",
       "      <td>PP 9549</td>\n",
       "      <td>16.7000</td>\n",
       "      <td>G6</td>\n",
       "      <td>S</td>\n",
       "    </tr>\n",
       "    <tr>\n",
       "      <th>435</th>\n",
       "      <td>436</td>\n",
       "      <td>1</td>\n",
       "      <td>1</td>\n",
       "      <td>Carter, Miss. Lucile Polk</td>\n",
       "      <td>female</td>\n",
       "      <td>14.00</td>\n",
       "      <td>1</td>\n",
       "      <td>2</td>\n",
       "      <td>113760</td>\n",
       "      <td>120.0000</td>\n",
       "      <td>B96 B98</td>\n",
       "      <td>S</td>\n",
       "    </tr>\n",
       "    <tr>\n",
       "      <th>438</th>\n",
       "      <td>439</td>\n",
       "      <td>0</td>\n",
       "      <td>1</td>\n",
       "      <td>Fortune, Mr. Mark</td>\n",
       "      <td>male</td>\n",
       "      <td>64.00</td>\n",
       "      <td>1</td>\n",
       "      <td>4</td>\n",
       "      <td>19950</td>\n",
       "      <td>263.0000</td>\n",
       "      <td>C23 C25 C27</td>\n",
       "      <td>S</td>\n",
       "    </tr>\n",
       "    <tr>\n",
       "      <th>473</th>\n",
       "      <td>474</td>\n",
       "      <td>1</td>\n",
       "      <td>2</td>\n",
       "      <td>Jerwan, Mrs. Amin S (Marie Marthe Thuillard)</td>\n",
       "      <td>female</td>\n",
       "      <td>23.00</td>\n",
       "      <td>0</td>\n",
       "      <td>0</td>\n",
       "      <td>SC/AH Basle 541</td>\n",
       "      <td>13.7917</td>\n",
       "      <td>D</td>\n",
       "      <td>C</td>\n",
       "    </tr>\n",
       "    <tr>\n",
       "      <th>498</th>\n",
       "      <td>499</td>\n",
       "      <td>0</td>\n",
       "      <td>1</td>\n",
       "      <td>Allison, Mrs. Hudson J C (Bessie Waldo Daniels)</td>\n",
       "      <td>female</td>\n",
       "      <td>25.00</td>\n",
       "      <td>1</td>\n",
       "      <td>2</td>\n",
       "      <td>113781</td>\n",
       "      <td>151.5500</td>\n",
       "      <td>C22 C26</td>\n",
       "      <td>S</td>\n",
       "    </tr>\n",
       "    <tr>\n",
       "      <th>516</th>\n",
       "      <td>517</td>\n",
       "      <td>1</td>\n",
       "      <td>2</td>\n",
       "      <td>Lemore, Mrs. (Amelia Milley)</td>\n",
       "      <td>female</td>\n",
       "      <td>34.00</td>\n",
       "      <td>0</td>\n",
       "      <td>0</td>\n",
       "      <td>C.A. 34260</td>\n",
       "      <td>10.5000</td>\n",
       "      <td>F33</td>\n",
       "      <td>S</td>\n",
       "    </tr>\n",
       "    <tr>\n",
       "      <th>763</th>\n",
       "      <td>764</td>\n",
       "      <td>1</td>\n",
       "      <td>1</td>\n",
       "      <td>Carter, Mrs. William Ernest (Lucile Polk)</td>\n",
       "      <td>female</td>\n",
       "      <td>36.00</td>\n",
       "      <td>1</td>\n",
       "      <td>2</td>\n",
       "      <td>113760</td>\n",
       "      <td>120.0000</td>\n",
       "      <td>B96 B98</td>\n",
       "      <td>S</td>\n",
       "    </tr>\n",
       "    <tr>\n",
       "      <th>802</th>\n",
       "      <td>803</td>\n",
       "      <td>1</td>\n",
       "      <td>1</td>\n",
       "      <td>Carter, Master. William Thornton II</td>\n",
       "      <td>male</td>\n",
       "      <td>11.00</td>\n",
       "      <td>1</td>\n",
       "      <td>2</td>\n",
       "      <td>113760</td>\n",
       "      <td>120.0000</td>\n",
       "      <td>B96 B98</td>\n",
       "      <td>S</td>\n",
       "    </tr>\n",
       "  </tbody>\n",
       "</table>\n",
       "</div>"
      ],
      "text/plain": [
       "     PassengerId  Survived  Pclass  \\\n",
       "10            11         1       3   \n",
       "27            28         0       1   \n",
       "66            67         1       2   \n",
       "88            89         1       1   \n",
       "148          149         0       2   \n",
       "193          194         1       2   \n",
       "205          206         0       3   \n",
       "251          252         0       3   \n",
       "292          293         0       2   \n",
       "297          298         0       1   \n",
       "305          306         1       1   \n",
       "327          328         1       2   \n",
       "340          341         1       2   \n",
       "341          342         1       1   \n",
       "345          346         1       2   \n",
       "390          391         1       1   \n",
       "394          395         1       3   \n",
       "435          436         1       1   \n",
       "438          439         0       1   \n",
       "473          474         1       2   \n",
       "498          499         0       1   \n",
       "516          517         1       2   \n",
       "763          764         1       1   \n",
       "802          803         1       1   \n",
       "\n",
       "                                                  Name     Sex    Age  SibSp  \\\n",
       "10                     Sandstrom, Miss. Marguerite Rut  female   4.00      1   \n",
       "27                      Fortune, Mr. Charles Alexander    male  19.00      3   \n",
       "66                        Nye, Mrs. (Elizabeth Ramell)  female  29.00      0   \n",
       "88                          Fortune, Miss. Mabel Helen  female  23.00      3   \n",
       "148           Navratil, Mr. Michel (\"Louis M Hoffman\")    male  36.50      0   \n",
       "193                         Navratil, Master. Michel M    male   3.00      1   \n",
       "205                         Strom, Miss. Telma Matilda  female   2.00      0   \n",
       "251         Strom, Mrs. Wilhelm (Elna Matilda Persson)  female  29.00      1   \n",
       "292                             Levy, Mr. Rene Jacques    male  36.00      0   \n",
       "297                       Allison, Miss. Helen Loraine  female   2.00      1   \n",
       "305                     Allison, Master. Hudson Trevor    male   0.92      1   \n",
       "327                            Ball, Mrs. (Ada E Hall)  female  36.00      0   \n",
       "340                     Navratil, Master. Edmond Roger    male   2.00      1   \n",
       "341                     Fortune, Miss. Alice Elizabeth  female  24.00      3   \n",
       "345                      Brown, Miss. Amelia \"Mildred\"  female  24.00      0   \n",
       "390                         Carter, Mr. William Ernest    male  36.00      1   \n",
       "394  Sandstrom, Mrs. Hjalmar (Agnes Charlotta Bengt...  female  24.00      0   \n",
       "435                          Carter, Miss. Lucile Polk  female  14.00      1   \n",
       "438                                  Fortune, Mr. Mark    male  64.00      1   \n",
       "473       Jerwan, Mrs. Amin S (Marie Marthe Thuillard)  female  23.00      0   \n",
       "498    Allison, Mrs. Hudson J C (Bessie Waldo Daniels)  female  25.00      1   \n",
       "516                       Lemore, Mrs. (Amelia Milley)  female  34.00      0   \n",
       "763          Carter, Mrs. William Ernest (Lucile Polk)  female  36.00      1   \n",
       "802                Carter, Master. William Thornton II    male  11.00      1   \n",
       "\n",
       "     Parch           Ticket      Fare        Cabin Embarked  \n",
       "10       1          PP 9549   16.7000           G6        S  \n",
       "27       2            19950  263.0000  C23 C25 C27        S  \n",
       "66       0       C.A. 29395   10.5000          F33        S  \n",
       "88       2            19950  263.0000  C23 C25 C27        S  \n",
       "148      2           230080   26.0000           F2        S  \n",
       "193      1           230080   26.0000           F2        S  \n",
       "205      1           347054   10.4625           G6        S  \n",
       "251      1           347054   10.4625           G6        S  \n",
       "292      0    SC/Paris 2163   12.8750            D        C  \n",
       "297      2           113781  151.5500      C22 C26        S  \n",
       "305      2           113781  151.5500      C22 C26        S  \n",
       "327      0            28551   13.0000            D        S  \n",
       "340      1           230080   26.0000           F2        S  \n",
       "341      2            19950  263.0000  C23 C25 C27        S  \n",
       "345      0           248733   13.0000          F33        S  \n",
       "390      2           113760  120.0000      B96 B98        S  \n",
       "394      2          PP 9549   16.7000           G6        S  \n",
       "435      2           113760  120.0000      B96 B98        S  \n",
       "438      4            19950  263.0000  C23 C25 C27        S  \n",
       "473      0  SC/AH Basle 541   13.7917            D        C  \n",
       "498      2           113781  151.5500      C22 C26        S  \n",
       "516      0       C.A. 34260   10.5000          F33        S  \n",
       "763      2           113760  120.0000      B96 B98        S  \n",
       "802      2           113760  120.0000      B96 B98        S  "
      ]
     },
     "execution_count": 137,
     "metadata": {},
     "output_type": "execute_result"
    }
   ],
   "source": [
    "# filter data to return all passengers that lived in a cabin has ≥ 4 people.\n",
    "titanic_df_nona.groupby('Cabin').filter(lambda x: len(x) >= 3)"
   ]
  },
  {
   "cell_type": "markdown",
   "metadata": {
    "id": "CAyUWip5MNAL"
   },
   "source": [
    "# Case Study\n",
    "###  This case study is heavily inspired by the data analysis case study from NVIDIA Deep Learning Institute's Course \"Fundamentals of Accelerated Data Science with Rapids\". \n",
    "\n",
    "## https://www.nvidia.com/en-in/training/instructor-led-workshops/#"
   ]
  },
  {
   "cell_type": "code",
   "execution_count": 145,
   "metadata": {},
   "outputs": [],
   "source": [
    "import pandas as pd\n",
    "import numpy as np\n",
    "pop_df = pd.read_csv(\"population.csv\")\n",
    "hospitals_df = pd.read_csv(\"hospitals.csv\")"
   ]
  },
  {
   "cell_type": "code",
   "execution_count": 146,
   "metadata": {},
   "outputs": [
    {
     "data": {
      "text/plain": [
       "Index(['Name', 'Age', 'Gender', 'City', 'Latitude', 'Longitude'], dtype='object')"
      ]
     },
     "execution_count": 146,
     "metadata": {},
     "output_type": "execute_result"
    }
   ],
   "source": [
    "pop_df.columns"
   ]
  },
  {
   "cell_type": "code",
   "execution_count": 147,
   "metadata": {},
   "outputs": [
    {
     "name": "stdout",
     "output_type": "stream",
     "text": [
      "Wall time: 2.85 ms\n",
      "The number of Bangalore Residents is :  193\n"
     ]
    }
   ],
   "source": [
    "# Find the number of residents of Bangalore\n",
    "%time pop_bangalore = pop_df.loc[pop_df['City'] == 'Bangalore']\n",
    "print(\"The number of Bangalore Residents is : \",  f'{pop_bangalore.shape[0]}')"
   ]
  },
  {
   "cell_type": "code",
   "execution_count": 148,
   "metadata": {},
   "outputs": [
    {
     "data": {
      "text/html": [
       "<div>\n",
       "<style scoped>\n",
       "    .dataframe tbody tr th:only-of-type {\n",
       "        vertical-align: middle;\n",
       "    }\n",
       "\n",
       "    .dataframe tbody tr th {\n",
       "        vertical-align: top;\n",
       "    }\n",
       "\n",
       "    .dataframe thead th {\n",
       "        text-align: right;\n",
       "    }\n",
       "</style>\n",
       "<table border=\"1\" class=\"dataframe\">\n",
       "  <thead>\n",
       "    <tr style=\"text-align: right;\">\n",
       "      <th></th>\n",
       "      <th>Name</th>\n",
       "      <th>Age</th>\n",
       "      <th>Gender</th>\n",
       "      <th>City</th>\n",
       "      <th>Latitude</th>\n",
       "      <th>Longitude</th>\n",
       "    </tr>\n",
       "  </thead>\n",
       "  <tbody>\n",
       "    <tr>\n",
       "      <th>0</th>\n",
       "      <td>abid</td>\n",
       "      <td>70.0</td>\n",
       "      <td>F</td>\n",
       "      <td>Delhi</td>\n",
       "      <td>28.679079</td>\n",
       "      <td>77.06971</td>\n",
       "    </tr>\n",
       "    <tr>\n",
       "      <th>1</th>\n",
       "      <td>Aabida</td>\n",
       "      <td>54.0</td>\n",
       "      <td>M</td>\n",
       "      <td>Delhi</td>\n",
       "      <td>28.679079</td>\n",
       "      <td>77.06971</td>\n",
       "    </tr>\n",
       "    <tr>\n",
       "      <th>2</th>\n",
       "      <td>Achal</td>\n",
       "      <td>65.0</td>\n",
       "      <td>M</td>\n",
       "      <td>Delhi</td>\n",
       "      <td>28.679079</td>\n",
       "      <td>77.06971</td>\n",
       "    </tr>\n",
       "    <tr>\n",
       "      <th>3</th>\n",
       "      <td>aadesh</td>\n",
       "      <td>76.0</td>\n",
       "      <td>M</td>\n",
       "      <td>Delhi</td>\n",
       "      <td>28.679079</td>\n",
       "      <td>77.06971</td>\n",
       "    </tr>\n",
       "    <tr>\n",
       "      <th>4</th>\n",
       "      <td>aadil</td>\n",
       "      <td>34.0</td>\n",
       "      <td>M</td>\n",
       "      <td>Delhi</td>\n",
       "      <td>28.679079</td>\n",
       "      <td>77.06971</td>\n",
       "    </tr>\n",
       "  </tbody>\n",
       "</table>\n",
       "</div>"
      ],
      "text/plain": [
       "     Name   Age Gender   City   Latitude  Longitude\n",
       "0    abid  70.0      F  Delhi  28.679079   77.06971\n",
       "1  Aabida  54.0      M  Delhi  28.679079   77.06971\n",
       "2   Achal  65.0      M  Delhi  28.679079   77.06971\n",
       "3  aadesh  76.0      M  Delhi  28.679079   77.06971\n",
       "4   aadil  34.0      M  Delhi  28.679079   77.06971"
      ]
     },
     "execution_count": 148,
     "metadata": {},
     "output_type": "execute_result"
    }
   ],
   "source": [
    "# Change the datatype of age column from int to float\n",
    "pop_df['Age'] = pop_df['Age'].astype('float32')\n",
    "pop_df.head()"
   ]
  },
  {
   "cell_type": "code",
   "execution_count": 149,
   "metadata": {},
   "outputs": [
    {
     "data": {
      "text/plain": [
       "48.4954948425293"
      ]
     },
     "execution_count": 149,
     "metadata": {},
     "output_type": "execute_result"
    }
   ],
   "source": [
    "# Find the average Age\n",
    "pop_df['Age'].mean()"
   ]
  },
  {
   "cell_type": "code",
   "execution_count": 150,
   "metadata": {},
   "outputs": [
    {
     "data": {
      "text/html": [
       "<div>\n",
       "<style scoped>\n",
       "    .dataframe tbody tr th:only-of-type {\n",
       "        vertical-align: middle;\n",
       "    }\n",
       "\n",
       "    .dataframe tbody tr th {\n",
       "        vertical-align: top;\n",
       "    }\n",
       "\n",
       "    .dataframe thead th {\n",
       "        text-align: right;\n",
       "    }\n",
       "</style>\n",
       "<table border=\"1\" class=\"dataframe\">\n",
       "  <thead>\n",
       "    <tr style=\"text-align: right;\">\n",
       "      <th></th>\n",
       "      <th>Name</th>\n",
       "      <th>Age</th>\n",
       "      <th>Gender</th>\n",
       "      <th>City</th>\n",
       "      <th>Latitude</th>\n",
       "      <th>Longitude</th>\n",
       "    </tr>\n",
       "  </thead>\n",
       "  <tbody>\n",
       "    <tr>\n",
       "      <th>0</th>\n",
       "      <td>Abid</td>\n",
       "      <td>70.0</td>\n",
       "      <td>F</td>\n",
       "      <td>Delhi</td>\n",
       "      <td>28.679079</td>\n",
       "      <td>77.06971</td>\n",
       "    </tr>\n",
       "    <tr>\n",
       "      <th>1</th>\n",
       "      <td>Aabida</td>\n",
       "      <td>54.0</td>\n",
       "      <td>M</td>\n",
       "      <td>Delhi</td>\n",
       "      <td>28.679079</td>\n",
       "      <td>77.06971</td>\n",
       "    </tr>\n",
       "    <tr>\n",
       "      <th>2</th>\n",
       "      <td>Achal</td>\n",
       "      <td>65.0</td>\n",
       "      <td>M</td>\n",
       "      <td>Delhi</td>\n",
       "      <td>28.679079</td>\n",
       "      <td>77.06971</td>\n",
       "    </tr>\n",
       "    <tr>\n",
       "      <th>3</th>\n",
       "      <td>Aadesh</td>\n",
       "      <td>76.0</td>\n",
       "      <td>M</td>\n",
       "      <td>Delhi</td>\n",
       "      <td>28.679079</td>\n",
       "      <td>77.06971</td>\n",
       "    </tr>\n",
       "    <tr>\n",
       "      <th>4</th>\n",
       "      <td>Aadil</td>\n",
       "      <td>34.0</td>\n",
       "      <td>M</td>\n",
       "      <td>Delhi</td>\n",
       "      <td>28.679079</td>\n",
       "      <td>77.06971</td>\n",
       "    </tr>\n",
       "  </tbody>\n",
       "</table>\n",
       "</div>"
      ],
      "text/plain": [
       "     Name   Age Gender   City   Latitude  Longitude\n",
       "0    Abid  70.0      F  Delhi  28.679079   77.06971\n",
       "1  Aabida  54.0      M  Delhi  28.679079   77.06971\n",
       "2   Achal  65.0      M  Delhi  28.679079   77.06971\n",
       "3  Aadesh  76.0      M  Delhi  28.679079   77.06971\n",
       "4   Aadil  34.0      M  Delhi  28.679079   77.06971"
      ]
     },
     "execution_count": 150,
     "metadata": {},
     "output_type": "execute_result"
    }
   ],
   "source": [
    "#Convert all names to title case\n",
    "pop_df['Name'] = pop_df['Name'].str.title()\n",
    "pop_df.head()"
   ]
  },
  {
   "cell_type": "code",
   "execution_count": 151,
   "metadata": {},
   "outputs": [
    {
     "data": {
      "text/html": [
       "<div>\n",
       "<style scoped>\n",
       "    .dataframe tbody tr th:only-of-type {\n",
       "        vertical-align: middle;\n",
       "    }\n",
       "\n",
       "    .dataframe tbody tr th {\n",
       "        vertical-align: top;\n",
       "    }\n",
       "\n",
       "    .dataframe thead th {\n",
       "        text-align: right;\n",
       "    }\n",
       "</style>\n",
       "<table border=\"1\" class=\"dataframe\">\n",
       "  <thead>\n",
       "    <tr style=\"text-align: right;\">\n",
       "      <th></th>\n",
       "      <th>Name</th>\n",
       "      <th>Age</th>\n",
       "      <th>Gender</th>\n",
       "      <th>City</th>\n",
       "      <th>Latitude</th>\n",
       "      <th>Longitude</th>\n",
       "    </tr>\n",
       "  </thead>\n",
       "  <tbody>\n",
       "    <tr>\n",
       "      <th>2</th>\n",
       "      <td>Achal</td>\n",
       "      <td>65.0</td>\n",
       "      <td>M</td>\n",
       "      <td>Delhi</td>\n",
       "      <td>28.679079</td>\n",
       "      <td>77.06971</td>\n",
       "    </tr>\n",
       "    <tr>\n",
       "      <th>3</th>\n",
       "      <td>Aadesh</td>\n",
       "      <td>76.0</td>\n",
       "      <td>M</td>\n",
       "      <td>Delhi</td>\n",
       "      <td>28.679079</td>\n",
       "      <td>77.06971</td>\n",
       "    </tr>\n",
       "    <tr>\n",
       "      <th>4</th>\n",
       "      <td>Aadil</td>\n",
       "      <td>34.0</td>\n",
       "      <td>M</td>\n",
       "      <td>Delhi</td>\n",
       "      <td>28.679079</td>\n",
       "      <td>77.06971</td>\n",
       "    </tr>\n",
       "    <tr>\n",
       "      <th>5</th>\n",
       "      <td>Aadish</td>\n",
       "      <td>23.0</td>\n",
       "      <td>M</td>\n",
       "      <td>Delhi</td>\n",
       "      <td>28.679079</td>\n",
       "      <td>77.06971</td>\n",
       "    </tr>\n",
       "  </tbody>\n",
       "</table>\n",
       "</div>"
      ],
      "text/plain": [
       "     Name   Age Gender   City   Latitude  Longitude\n",
       "2   Achal  65.0      M  Delhi  28.679079   77.06971\n",
       "3  Aadesh  76.0      M  Delhi  28.679079   77.06971\n",
       "4   Aadil  34.0      M  Delhi  28.679079   77.06971\n",
       "5  Aadish  23.0      M  Delhi  28.679079   77.06971"
      ]
     },
     "execution_count": 151,
     "metadata": {},
     "output_type": "execute_result"
    }
   ],
   "source": [
    "# Select specific rows from dataframe\n",
    "pop_df.loc[2:5]"
   ]
  },
  {
   "cell_type": "code",
   "execution_count": 152,
   "metadata": {},
   "outputs": [
    {
     "data": {
      "text/html": [
       "<div>\n",
       "<style scoped>\n",
       "    .dataframe tbody tr th:only-of-type {\n",
       "        vertical-align: middle;\n",
       "    }\n",
       "\n",
       "    .dataframe tbody tr th {\n",
       "        vertical-align: top;\n",
       "    }\n",
       "\n",
       "    .dataframe thead th {\n",
       "        text-align: right;\n",
       "    }\n",
       "</style>\n",
       "<table border=\"1\" class=\"dataframe\">\n",
       "  <thead>\n",
       "    <tr style=\"text-align: right;\">\n",
       "      <th></th>\n",
       "      <th>Name</th>\n",
       "      <th>Age</th>\n",
       "      <th>Gender</th>\n",
       "      <th>City</th>\n",
       "      <th>Latitude</th>\n",
       "      <th>Longitude</th>\n",
       "    </tr>\n",
       "  </thead>\n",
       "  <tbody>\n",
       "    <tr>\n",
       "      <th>2</th>\n",
       "      <td>Achal</td>\n",
       "      <td>65.0</td>\n",
       "      <td>M</td>\n",
       "      <td>Delhi</td>\n",
       "      <td>28.679079</td>\n",
       "      <td>77.06971</td>\n",
       "    </tr>\n",
       "    <tr>\n",
       "      <th>3</th>\n",
       "      <td>Aadesh</td>\n",
       "      <td>76.0</td>\n",
       "      <td>M</td>\n",
       "      <td>Delhi</td>\n",
       "      <td>28.679079</td>\n",
       "      <td>77.06971</td>\n",
       "    </tr>\n",
       "    <tr>\n",
       "      <th>4</th>\n",
       "      <td>Aadil</td>\n",
       "      <td>34.0</td>\n",
       "      <td>M</td>\n",
       "      <td>Delhi</td>\n",
       "      <td>28.679079</td>\n",
       "      <td>77.06971</td>\n",
       "    </tr>\n",
       "  </tbody>\n",
       "</table>\n",
       "</div>"
      ],
      "text/plain": [
       "     Name   Age Gender   City   Latitude  Longitude\n",
       "2   Achal  65.0      M  Delhi  28.679079   77.06971\n",
       "3  Aadesh  76.0      M  Delhi  28.679079   77.06971\n",
       "4   Aadil  34.0      M  Delhi  28.679079   77.06971"
      ]
     },
     "execution_count": 152,
     "metadata": {},
     "output_type": "execute_result"
    }
   ],
   "source": [
    "# Select specific rows from dataframe\n",
    "pop_df.iloc[2:5]"
   ]
  },
  {
   "cell_type": "code",
   "execution_count": 153,
   "metadata": {},
   "outputs": [
    {
     "data": {
      "text/html": [
       "<div>\n",
       "<style scoped>\n",
       "    .dataframe tbody tr th:only-of-type {\n",
       "        vertical-align: middle;\n",
       "    }\n",
       "\n",
       "    .dataframe tbody tr th {\n",
       "        vertical-align: top;\n",
       "    }\n",
       "\n",
       "    .dataframe thead th {\n",
       "        text-align: right;\n",
       "    }\n",
       "</style>\n",
       "<table border=\"1\" class=\"dataframe\">\n",
       "  <thead>\n",
       "    <tr style=\"text-align: right;\">\n",
       "      <th></th>\n",
       "      <th>Name</th>\n",
       "      <th>Age</th>\n",
       "      <th>Gender</th>\n",
       "      <th>City</th>\n",
       "      <th>Latitude</th>\n",
       "      <th>Longitude</th>\n",
       "    </tr>\n",
       "  </thead>\n",
       "  <tbody>\n",
       "    <tr>\n",
       "      <th>948</th>\n",
       "      <td>Yadram</td>\n",
       "      <td>69.0</td>\n",
       "      <td>F</td>\n",
       "      <td>Nasik</td>\n",
       "      <td>19.9975</td>\n",
       "      <td>73.7898</td>\n",
       "    </tr>\n",
       "    <tr>\n",
       "      <th>949</th>\n",
       "      <td>Yadvir</td>\n",
       "      <td>65.0</td>\n",
       "      <td>M</td>\n",
       "      <td>Nasik</td>\n",
       "      <td>19.9975</td>\n",
       "      <td>73.7898</td>\n",
       "    </tr>\n",
       "    <tr>\n",
       "      <th>950</th>\n",
       "      <td>Yaksh</td>\n",
       "      <td>26.0</td>\n",
       "      <td>M</td>\n",
       "      <td>Nasik</td>\n",
       "      <td>19.9975</td>\n",
       "      <td>73.7898</td>\n",
       "    </tr>\n",
       "    <tr>\n",
       "      <th>951</th>\n",
       "      <td>Yaman</td>\n",
       "      <td>15.0</td>\n",
       "      <td>M</td>\n",
       "      <td>Nasik</td>\n",
       "      <td>19.9975</td>\n",
       "      <td>73.7898</td>\n",
       "    </tr>\n",
       "    <tr>\n",
       "      <th>952</th>\n",
       "      <td>Yameen</td>\n",
       "      <td>18.0</td>\n",
       "      <td>M</td>\n",
       "      <td>Nasik</td>\n",
       "      <td>19.9975</td>\n",
       "      <td>73.7898</td>\n",
       "    </tr>\n",
       "    <tr>\n",
       "      <th>953</th>\n",
       "      <td>Yamin</td>\n",
       "      <td>90.0</td>\n",
       "      <td>M</td>\n",
       "      <td>Nasik</td>\n",
       "      <td>19.9975</td>\n",
       "      <td>73.7898</td>\n",
       "    </tr>\n",
       "    <tr>\n",
       "      <th>954</th>\n",
       "      <td>Yamini</td>\n",
       "      <td>24.0</td>\n",
       "      <td>M</td>\n",
       "      <td>Ahmedabad</td>\n",
       "      <td>23.0225</td>\n",
       "      <td>72.5714</td>\n",
       "    </tr>\n",
       "    <tr>\n",
       "      <th>955</th>\n",
       "      <td>Yamuna</td>\n",
       "      <td>98.0</td>\n",
       "      <td>F</td>\n",
       "      <td>Ahmedabad</td>\n",
       "      <td>23.0225</td>\n",
       "      <td>72.5714</td>\n",
       "    </tr>\n",
       "    <tr>\n",
       "      <th>956</th>\n",
       "      <td>Yaqoob</td>\n",
       "      <td>83.0</td>\n",
       "      <td>M</td>\n",
       "      <td>Ahmedabad</td>\n",
       "      <td>23.0225</td>\n",
       "      <td>72.5714</td>\n",
       "    </tr>\n",
       "    <tr>\n",
       "      <th>957</th>\n",
       "      <td>Yaqub</td>\n",
       "      <td>48.0</td>\n",
       "      <td>M</td>\n",
       "      <td>Ahmedabad</td>\n",
       "      <td>23.0225</td>\n",
       "      <td>72.5714</td>\n",
       "    </tr>\n",
       "    <tr>\n",
       "      <th>958</th>\n",
       "      <td>Yasar</td>\n",
       "      <td>58.0</td>\n",
       "      <td>F</td>\n",
       "      <td>Ahmedabad</td>\n",
       "      <td>23.0225</td>\n",
       "      <td>72.5714</td>\n",
       "    </tr>\n",
       "    <tr>\n",
       "      <th>959</th>\n",
       "      <td>Yash</td>\n",
       "      <td>86.0</td>\n",
       "      <td>M</td>\n",
       "      <td>Ahmedabad</td>\n",
       "      <td>23.0225</td>\n",
       "      <td>72.5714</td>\n",
       "    </tr>\n",
       "    <tr>\n",
       "      <th>960</th>\n",
       "      <td>Yashbir</td>\n",
       "      <td>8.0</td>\n",
       "      <td>M</td>\n",
       "      <td>Ahmedabad</td>\n",
       "      <td>23.0225</td>\n",
       "      <td>72.5714</td>\n",
       "    </tr>\n",
       "    <tr>\n",
       "      <th>961</th>\n",
       "      <td>Yashdhra</td>\n",
       "      <td>57.0</td>\n",
       "      <td>M</td>\n",
       "      <td>Ahmedabad</td>\n",
       "      <td>23.0225</td>\n",
       "      <td>72.5714</td>\n",
       "    </tr>\n",
       "    <tr>\n",
       "      <th>962</th>\n",
       "      <td>Yashika</td>\n",
       "      <td>72.0</td>\n",
       "      <td>F</td>\n",
       "      <td>Ahmedabad</td>\n",
       "      <td>23.0225</td>\n",
       "      <td>72.5714</td>\n",
       "    </tr>\n",
       "    <tr>\n",
       "      <th>963</th>\n",
       "      <td>Yashin</td>\n",
       "      <td>81.0</td>\n",
       "      <td>M</td>\n",
       "      <td>Ahmedabad</td>\n",
       "      <td>23.0225</td>\n",
       "      <td>72.5714</td>\n",
       "    </tr>\n",
       "    <tr>\n",
       "      <th>964</th>\n",
       "      <td>Yashmin</td>\n",
       "      <td>6.0</td>\n",
       "      <td>M</td>\n",
       "      <td>Hyderabad</td>\n",
       "      <td>17.3850</td>\n",
       "      <td>78.4867</td>\n",
       "    </tr>\n",
       "    <tr>\n",
       "      <th>965</th>\n",
       "      <td>Yashoda</td>\n",
       "      <td>97.0</td>\n",
       "      <td>F</td>\n",
       "      <td>Hyderabad</td>\n",
       "      <td>17.3850</td>\n",
       "      <td>78.4867</td>\n",
       "    </tr>\n",
       "    <tr>\n",
       "      <th>966</th>\n",
       "      <td>Yashodha</td>\n",
       "      <td>47.0</td>\n",
       "      <td>M</td>\n",
       "      <td>Hyderabad</td>\n",
       "      <td>17.3850</td>\n",
       "      <td>78.4867</td>\n",
       "    </tr>\n",
       "    <tr>\n",
       "      <th>967</th>\n",
       "      <td>Yashpal</td>\n",
       "      <td>89.0</td>\n",
       "      <td>M</td>\n",
       "      <td>Hyderabad</td>\n",
       "      <td>17.3850</td>\n",
       "      <td>78.4867</td>\n",
       "    </tr>\n",
       "    <tr>\n",
       "      <th>968</th>\n",
       "      <td>Yashsvi</td>\n",
       "      <td>68.0</td>\n",
       "      <td>M</td>\n",
       "      <td>Hyderabad</td>\n",
       "      <td>17.3850</td>\n",
       "      <td>78.4867</td>\n",
       "    </tr>\n",
       "    <tr>\n",
       "      <th>969</th>\n",
       "      <td>Yashwant</td>\n",
       "      <td>80.0</td>\n",
       "      <td>F</td>\n",
       "      <td>Hyderabad</td>\n",
       "      <td>17.3850</td>\n",
       "      <td>78.4867</td>\n",
       "    </tr>\n",
       "    <tr>\n",
       "      <th>970</th>\n",
       "      <td>Yasodha</td>\n",
       "      <td>12.0</td>\n",
       "      <td>F</td>\n",
       "      <td>Hyderabad</td>\n",
       "      <td>17.3850</td>\n",
       "      <td>78.4867</td>\n",
       "    </tr>\n",
       "    <tr>\n",
       "      <th>971</th>\n",
       "      <td>Yaswani</td>\n",
       "      <td>50.0</td>\n",
       "      <td>M</td>\n",
       "      <td>Hyderabad</td>\n",
       "      <td>17.3850</td>\n",
       "      <td>78.4867</td>\n",
       "    </tr>\n",
       "    <tr>\n",
       "      <th>972</th>\n",
       "      <td>Yatharth</td>\n",
       "      <td>57.0</td>\n",
       "      <td>M</td>\n",
       "      <td>Hyderabad</td>\n",
       "      <td>17.3850</td>\n",
       "      <td>78.4867</td>\n",
       "    </tr>\n",
       "    <tr>\n",
       "      <th>973</th>\n",
       "      <td>Yatin</td>\n",
       "      <td>14.0</td>\n",
       "      <td>F</td>\n",
       "      <td>Hyderabad</td>\n",
       "      <td>17.3850</td>\n",
       "      <td>78.4867</td>\n",
       "    </tr>\n",
       "    <tr>\n",
       "      <th>974</th>\n",
       "      <td>Yesh</td>\n",
       "      <td>39.0</td>\n",
       "      <td>M</td>\n",
       "      <td>Hyderabad</td>\n",
       "      <td>17.3850</td>\n",
       "      <td>78.4867</td>\n",
       "    </tr>\n",
       "    <tr>\n",
       "      <th>975</th>\n",
       "      <td>Yogendra</td>\n",
       "      <td>19.0</td>\n",
       "      <td>F</td>\n",
       "      <td>Hyderabad</td>\n",
       "      <td>17.3850</td>\n",
       "      <td>78.4867</td>\n",
       "    </tr>\n",
       "    <tr>\n",
       "      <th>976</th>\n",
       "      <td>Yogesh</td>\n",
       "      <td>24.0</td>\n",
       "      <td>F</td>\n",
       "      <td>Hyderabad</td>\n",
       "      <td>17.3850</td>\n",
       "      <td>78.4867</td>\n",
       "    </tr>\n",
       "    <tr>\n",
       "      <th>977</th>\n",
       "      <td>Yogeshwar</td>\n",
       "      <td>52.0</td>\n",
       "      <td>F</td>\n",
       "      <td>Hyderabad</td>\n",
       "      <td>17.3850</td>\n",
       "      <td>78.4867</td>\n",
       "    </tr>\n",
       "    <tr>\n",
       "      <th>978</th>\n",
       "      <td>Yogeshwari</td>\n",
       "      <td>84.0</td>\n",
       "      <td>M</td>\n",
       "      <td>Hyderabad</td>\n",
       "      <td>17.3850</td>\n",
       "      <td>78.4867</td>\n",
       "    </tr>\n",
       "    <tr>\n",
       "      <th>979</th>\n",
       "      <td>Yoginder</td>\n",
       "      <td>31.0</td>\n",
       "      <td>M</td>\n",
       "      <td>Hyderabad</td>\n",
       "      <td>17.3850</td>\n",
       "      <td>78.4867</td>\n",
       "    </tr>\n",
       "    <tr>\n",
       "      <th>980</th>\n",
       "      <td>Yogita</td>\n",
       "      <td>29.0</td>\n",
       "      <td>F</td>\n",
       "      <td>Hyderabad</td>\n",
       "      <td>17.3850</td>\n",
       "      <td>78.4867</td>\n",
       "    </tr>\n",
       "    <tr>\n",
       "      <th>981</th>\n",
       "      <td>Yognder</td>\n",
       "      <td>40.0</td>\n",
       "      <td>M</td>\n",
       "      <td>Hyderabad</td>\n",
       "      <td>17.3850</td>\n",
       "      <td>78.4867</td>\n",
       "    </tr>\n",
       "    <tr>\n",
       "      <th>982</th>\n",
       "      <td>Yograj</td>\n",
       "      <td>31.0</td>\n",
       "      <td>F</td>\n",
       "      <td>Hyderabad</td>\n",
       "      <td>17.3850</td>\n",
       "      <td>78.4867</td>\n",
       "    </tr>\n",
       "    <tr>\n",
       "      <th>983</th>\n",
       "      <td>Yoshoda</td>\n",
       "      <td>45.0</td>\n",
       "      <td>F</td>\n",
       "      <td>Hyderabad</td>\n",
       "      <td>17.3850</td>\n",
       "      <td>78.4867</td>\n",
       "    </tr>\n",
       "    <tr>\n",
       "      <th>984</th>\n",
       "      <td>Youraj</td>\n",
       "      <td>49.0</td>\n",
       "      <td>M</td>\n",
       "      <td>Hyderabad</td>\n",
       "      <td>17.3850</td>\n",
       "      <td>78.4867</td>\n",
       "    </tr>\n",
       "    <tr>\n",
       "      <th>985</th>\n",
       "      <td>Yudhbir</td>\n",
       "      <td>78.0</td>\n",
       "      <td>M</td>\n",
       "      <td>Hyderabad</td>\n",
       "      <td>17.3850</td>\n",
       "      <td>78.4867</td>\n",
       "    </tr>\n",
       "    <tr>\n",
       "      <th>986</th>\n",
       "      <td>Yukilal</td>\n",
       "      <td>38.0</td>\n",
       "      <td>M</td>\n",
       "      <td>Hyderabad</td>\n",
       "      <td>17.3850</td>\n",
       "      <td>78.4867</td>\n",
       "    </tr>\n",
       "    <tr>\n",
       "      <th>987</th>\n",
       "      <td>Yuveraj</td>\n",
       "      <td>76.0</td>\n",
       "      <td>M</td>\n",
       "      <td>Hyderabad</td>\n",
       "      <td>17.3850</td>\n",
       "      <td>78.4867</td>\n",
       "    </tr>\n",
       "    <tr>\n",
       "      <th>988</th>\n",
       "      <td>Yuvraj</td>\n",
       "      <td>88.0</td>\n",
       "      <td>M</td>\n",
       "      <td>Hyderabad</td>\n",
       "      <td>17.3850</td>\n",
       "      <td>78.4867</td>\n",
       "    </tr>\n",
       "  </tbody>\n",
       "</table>\n",
       "</div>"
      ],
      "text/plain": [
       "           Name   Age Gender       City  Latitude  Longitude\n",
       "948      Yadram  69.0      F      Nasik   19.9975    73.7898\n",
       "949      Yadvir  65.0      M      Nasik   19.9975    73.7898\n",
       "950       Yaksh  26.0      M      Nasik   19.9975    73.7898\n",
       "951       Yaman  15.0      M      Nasik   19.9975    73.7898\n",
       "952      Yameen  18.0      M      Nasik   19.9975    73.7898\n",
       "953       Yamin  90.0      M      Nasik   19.9975    73.7898\n",
       "954      Yamini  24.0      M  Ahmedabad   23.0225    72.5714\n",
       "955      Yamuna  98.0      F  Ahmedabad   23.0225    72.5714\n",
       "956      Yaqoob  83.0      M  Ahmedabad   23.0225    72.5714\n",
       "957       Yaqub  48.0      M  Ahmedabad   23.0225    72.5714\n",
       "958       Yasar  58.0      F  Ahmedabad   23.0225    72.5714\n",
       "959        Yash  86.0      M  Ahmedabad   23.0225    72.5714\n",
       "960     Yashbir   8.0      M  Ahmedabad   23.0225    72.5714\n",
       "961    Yashdhra  57.0      M  Ahmedabad   23.0225    72.5714\n",
       "962     Yashika  72.0      F  Ahmedabad   23.0225    72.5714\n",
       "963      Yashin  81.0      M  Ahmedabad   23.0225    72.5714\n",
       "964     Yashmin   6.0      M  Hyderabad   17.3850    78.4867\n",
       "965     Yashoda  97.0      F  Hyderabad   17.3850    78.4867\n",
       "966    Yashodha  47.0      M  Hyderabad   17.3850    78.4867\n",
       "967     Yashpal  89.0      M  Hyderabad   17.3850    78.4867\n",
       "968     Yashsvi  68.0      M  Hyderabad   17.3850    78.4867\n",
       "969    Yashwant  80.0      F  Hyderabad   17.3850    78.4867\n",
       "970     Yasodha  12.0      F  Hyderabad   17.3850    78.4867\n",
       "971     Yaswani  50.0      M  Hyderabad   17.3850    78.4867\n",
       "972    Yatharth  57.0      M  Hyderabad   17.3850    78.4867\n",
       "973       Yatin  14.0      F  Hyderabad   17.3850    78.4867\n",
       "974        Yesh  39.0      M  Hyderabad   17.3850    78.4867\n",
       "975    Yogendra  19.0      F  Hyderabad   17.3850    78.4867\n",
       "976      Yogesh  24.0      F  Hyderabad   17.3850    78.4867\n",
       "977   Yogeshwar  52.0      F  Hyderabad   17.3850    78.4867\n",
       "978  Yogeshwari  84.0      M  Hyderabad   17.3850    78.4867\n",
       "979    Yoginder  31.0      M  Hyderabad   17.3850    78.4867\n",
       "980      Yogita  29.0      F  Hyderabad   17.3850    78.4867\n",
       "981     Yognder  40.0      M  Hyderabad   17.3850    78.4867\n",
       "982      Yograj  31.0      F  Hyderabad   17.3850    78.4867\n",
       "983     Yoshoda  45.0      F  Hyderabad   17.3850    78.4867\n",
       "984      Youraj  49.0      M  Hyderabad   17.3850    78.4867\n",
       "985     Yudhbir  78.0      M  Hyderabad   17.3850    78.4867\n",
       "986     Yukilal  38.0      M  Hyderabad   17.3850    78.4867\n",
       "987     Yuveraj  76.0      M  Hyderabad   17.3850    78.4867\n",
       "988      Yuvraj  88.0      M  Hyderabad   17.3850    78.4867"
      ]
     },
     "execution_count": 153,
     "metadata": {},
     "output_type": "execute_result"
    }
   ],
   "source": [
    "# Select the rows such that name starts with 'Y'\n",
    "pop_df.loc[pop_df['Name'].str.startswith('Y')]"
   ]
  },
  {
   "cell_type": "code",
   "execution_count": 154,
   "metadata": {},
   "outputs": [
    {
     "data": {
      "text/html": [
       "<div>\n",
       "<style scoped>\n",
       "    .dataframe tbody tr th:only-of-type {\n",
       "        vertical-align: middle;\n",
       "    }\n",
       "\n",
       "    .dataframe tbody tr th {\n",
       "        vertical-align: top;\n",
       "    }\n",
       "\n",
       "    .dataframe thead th {\n",
       "        text-align: right;\n",
       "    }\n",
       "</style>\n",
       "<table border=\"1\" class=\"dataframe\">\n",
       "  <thead>\n",
       "    <tr style=\"text-align: right;\">\n",
       "      <th></th>\n",
       "      <th>Name</th>\n",
       "      <th>Age</th>\n",
       "      <th>Gender</th>\n",
       "      <th>City</th>\n",
       "      <th>Latitude</th>\n",
       "      <th>Longitude</th>\n",
       "    </tr>\n",
       "  </thead>\n",
       "  <tbody>\n",
       "    <tr>\n",
       "      <th>982</th>\n",
       "      <td>Yograj</td>\n",
       "      <td>31.0</td>\n",
       "      <td>F</td>\n",
       "      <td>Hyderabad</td>\n",
       "      <td>17.385</td>\n",
       "      <td>78.4867</td>\n",
       "    </tr>\n",
       "    <tr>\n",
       "      <th>984</th>\n",
       "      <td>Youraj</td>\n",
       "      <td>49.0</td>\n",
       "      <td>M</td>\n",
       "      <td>Hyderabad</td>\n",
       "      <td>17.385</td>\n",
       "      <td>78.4867</td>\n",
       "    </tr>\n",
       "    <tr>\n",
       "      <th>987</th>\n",
       "      <td>Yuveraj</td>\n",
       "      <td>76.0</td>\n",
       "      <td>M</td>\n",
       "      <td>Hyderabad</td>\n",
       "      <td>17.385</td>\n",
       "      <td>78.4867</td>\n",
       "    </tr>\n",
       "    <tr>\n",
       "      <th>988</th>\n",
       "      <td>Yuvraj</td>\n",
       "      <td>88.0</td>\n",
       "      <td>M</td>\n",
       "      <td>Hyderabad</td>\n",
       "      <td>17.385</td>\n",
       "      <td>78.4867</td>\n",
       "    </tr>\n",
       "  </tbody>\n",
       "</table>\n",
       "</div>"
      ],
      "text/plain": [
       "        Name   Age Gender       City  Latitude  Longitude\n",
       "982   Yograj  31.0      F  Hyderabad    17.385    78.4867\n",
       "984   Youraj  49.0      M  Hyderabad    17.385    78.4867\n",
       "987  Yuveraj  76.0      M  Hyderabad    17.385    78.4867\n",
       "988   Yuvraj  88.0      M  Hyderabad    17.385    78.4867"
      ]
     },
     "execution_count": 154,
     "metadata": {},
     "output_type": "execute_result"
    }
   ],
   "source": [
    "# Select the rows such that name starts with Y and ends with j\n",
    "pop_df.loc[np.logical_and(pop_df['Name'].str.startswith('Y'), pop_df['Name'].str.endswith('j'))]"
   ]
  },
  {
   "cell_type": "code",
   "execution_count": 155,
   "metadata": {},
   "outputs": [
    {
     "data": {
      "text/plain": [
       "12.9716"
      ]
     },
     "execution_count": 155,
     "metadata": {},
     "output_type": "execute_result"
    }
   ],
   "source": [
    "# Find the latitude of Bangalore\n",
    "bangalore_residents = pop_df.loc[pop_df['City']=='Bangalore']\n",
    "bangalore_latitude = bangalore_residents['Latitude'].max()\n",
    "bangalore_latitude"
   ]
  },
  {
   "cell_type": "code",
   "execution_count": 156,
   "metadata": {},
   "outputs": [
    {
     "data": {
      "text/plain": [
       "array(['Delhi', 'Kolkatta', 'Chennai', 'Kanpur', 'Noida', 'Palampur',\n",
       "       'Guahati', 'Lucknow', 'Dehradun', 'Jammu', 'Udaipur', 'Surat',\n",
       "       'Ujjain', 'Pune', 'Cuttack', 'Kargil', 'Ladhakh', 'Srinagar',\n",
       "       'Raipur', 'Gurgaon', 'Jaipur', 'Amritsar', 'Ahmedabad', 'Ranchi',\n",
       "       'Nasik', 'Hyderabad'], dtype=object)"
      ]
     },
     "execution_count": 156,
     "metadata": {},
     "output_type": "execute_result"
    }
   ],
   "source": [
    "# Find the cities that are to north of Bangalore\n",
    "northofbangalore = pop_df.loc[pop_df['Latitude']>bangalore_latitude]\n",
    "northofbangalore['City'].unique()"
   ]
  },
  {
   "cell_type": "code",
   "execution_count": 157,
   "metadata": {},
   "outputs": [
    {
     "data": {
      "text/plain": [
       "array(['Coimbatore', 'Kochi', 'Mysore', 'Madurai'], dtype=object)"
      ]
     },
     "execution_count": 157,
     "metadata": {},
     "output_type": "execute_result"
    }
   ],
   "source": [
    "# Find the cities that are to south of Bangalore\n",
    "southofbangalore = pop_df.loc[pop_df['Latitude']<bangalore_latitude]\n",
    "southofbangalore['City'].unique()"
   ]
  },
  {
   "cell_type": "code",
   "execution_count": 158,
   "metadata": {},
   "outputs": [
    {
     "data": {
      "text/plain": [
       "998     Zanmi\n",
       "997    Zamile\n",
       "996    Zameer\n",
       "995     Zakir\n",
       "994    Zainab\n",
       "Name: Name, dtype: object"
      ]
     },
     "execution_count": 158,
     "metadata": {},
     "output_type": "execute_result"
    }
   ],
   "source": [
    "# Sort the names in reverse typographic order\n",
    "names_df = pop_df['Name'].sort_values(ascending=False)\n",
    "names_df.head()"
   ]
  },
  {
   "cell_type": "code",
   "execution_count": 159,
   "metadata": {},
   "outputs": [
    {
     "data": {
      "text/html": [
       "<div>\n",
       "<style scoped>\n",
       "    .dataframe tbody tr th:only-of-type {\n",
       "        vertical-align: middle;\n",
       "    }\n",
       "\n",
       "    .dataframe tbody tr th {\n",
       "        vertical-align: top;\n",
       "    }\n",
       "\n",
       "    .dataframe thead th {\n",
       "        text-align: right;\n",
       "    }\n",
       "</style>\n",
       "<table border=\"1\" class=\"dataframe\">\n",
       "  <thead>\n",
       "    <tr style=\"text-align: right;\">\n",
       "      <th></th>\n",
       "      <th>Age</th>\n",
       "    </tr>\n",
       "    <tr>\n",
       "      <th>City</th>\n",
       "      <th></th>\n",
       "    </tr>\n",
       "  </thead>\n",
       "  <tbody>\n",
       "    <tr>\n",
       "      <th>Ahmedabad</th>\n",
       "      <td>53.058823</td>\n",
       "    </tr>\n",
       "    <tr>\n",
       "      <th>Amritsar</th>\n",
       "      <td>49.636364</td>\n",
       "    </tr>\n",
       "    <tr>\n",
       "      <th>Bangalore</th>\n",
       "      <td>51.160622</td>\n",
       "    </tr>\n",
       "    <tr>\n",
       "      <th>Chennai</th>\n",
       "      <td>52.051949</td>\n",
       "    </tr>\n",
       "    <tr>\n",
       "      <th>Coimbatore</th>\n",
       "      <td>45.333332</td>\n",
       "    </tr>\n",
       "  </tbody>\n",
       "</table>\n",
       "</div>"
      ],
      "text/plain": [
       "                  Age\n",
       "City                 \n",
       "Ahmedabad   53.058823\n",
       "Amritsar    49.636364\n",
       "Bangalore   51.160622\n",
       "Chennai     52.051949\n",
       "Coimbatore  45.333332"
      ]
     },
     "execution_count": 159,
     "metadata": {},
     "output_type": "execute_result"
    }
   ],
   "source": [
    "# Find the mean age group of the residents of each city\n",
    "city_age_df = pop_df[['City' , 'Age']].groupby(['City'])\n",
    "average_ages = city_age_df.mean()\n",
    "average_ages[:5]"
   ]
  },
  {
   "cell_type": "code",
   "execution_count": 165,
   "metadata": {},
   "outputs": [
    {
     "name": "stdout",
     "output_type": "stream",
     "text": [
      "         Name   Age       City\n",
      "913    Uganta  22.0  Ahmedabad\n",
      "914      Ugma  23.0  Ahmedabad\n",
      "915     Ujama   3.0  Ahmedabad\n",
      "916    Ujamma  94.0  Ahmedabad\n",
      "917      Ujir  42.0  Ahmedabad\n",
      "918    Ujjair  56.0  Ahmedabad\n",
      "919   Ujjawal  47.0  Ahmedabad\n",
      "954    Yamini  24.0  Ahmedabad\n",
      "955    Yamuna  98.0  Ahmedabad\n",
      "956    Yaqoob  83.0  Ahmedabad\n",
      "957     Yaqub  48.0  Ahmedabad\n",
      "958     Yasar  58.0  Ahmedabad\n",
      "959      Yash  86.0  Ahmedabad\n",
      "960   Yashbir   8.0  Ahmedabad\n",
      "961  Yashdhra  57.0  Ahmedabad\n",
      "962   Yashika  72.0  Ahmedabad\n",
      "963    Yashin  81.0  Ahmedabad\n",
      "         Name   Age      City\n",
      "902      Udai  79.0  Amritsar\n",
      "903  Udaiveer   2.0  Amritsar\n",
      "904     Udaiy  96.0  Amritsar\n",
      "905      Udal  12.0  Amritsar\n",
      "906      Uday  55.0  Amritsar\n",
      "907     Udesh  13.0  Amritsar\n",
      "908     Udham  13.0  Amritsar\n",
      "909       Udi  84.0  Amritsar\n",
      "910      Udit  88.0  Amritsar\n",
      "911     Udita  59.0  Amritsar\n",
      "912     Udmai  45.0  Amritsar\n",
      "         Name   Age       City\n",
      "386     Genda  74.0  Bangalore\n",
      "387     Gendi  26.0  Bangalore\n",
      "388     Gendu  12.0  Bangalore\n",
      "389  Gensingh  39.0  Bangalore\n",
      "390      Ghan   8.0  Bangalore\n",
      "..        ...   ...        ...\n",
      "750     Rafal  99.0  Bangalore\n",
      "751     Rafat  86.0  Bangalore\n",
      "752  Rafeddin  73.0  Bangalore\n",
      "753      Rafi  37.0  Bangalore\n",
      "754     Rafiq  32.0  Bangalore\n",
      "\n",
      "[193 rows x 3 columns]\n",
      "            Name   Age     City\n",
      "80        Balbir  32.0  Chennai\n",
      "81       Balbiri  20.0  Chennai\n",
      "82      Balchand  35.0  Chennai\n",
      "83        Baldev  47.0  Chennai\n",
      "84     Baleshwar  59.0  Chennai\n",
      "..           ...   ...      ...\n",
      "152    Chhedilal  25.0  Chennai\n",
      "153       Chhidu  98.0  Chennai\n",
      "154  Chhinderpal  66.0  Chennai\n",
      "155      Chhitar  87.0  Chennai\n",
      "156    Chhotelal  90.0  Chennai\n",
      "\n",
      "[77 rows x 3 columns]\n",
      "          Name   Age        City\n",
      "463      Indal  51.0  Coimbatore\n",
      "464     Indara  54.0  Coimbatore\n",
      "465      Inder  57.0  Coimbatore\n",
      "466  Inderjeet  85.0  Coimbatore\n",
      "467   Inderjit   2.0  Coimbatore\n",
      "468  Indernath  26.0  Coimbatore\n",
      "469  Inderpaal  13.0  Coimbatore\n",
      "470   Inderpal   6.0  Coimbatore\n",
      "471  Indervesh  47.0  Coimbatore\n",
      "472     Indira  17.0  Coimbatore\n",
      "473      Indra  49.0  Coimbatore\n",
      "474     Indraj  33.0  Coimbatore\n",
      "475    Indresh  80.0  Coimbatore\n",
      "476   Indrvati  16.0  Coimbatore\n",
      "477      Indta  19.0  Coimbatore\n",
      "478       Indu  40.0  Coimbatore\n",
      "479     Injmam  16.0  Coimbatore\n",
      "830     Sanjit  71.0  Coimbatore\n",
      "831     Sanjiv  33.0  Coimbatore\n",
      "832     Sanjna  88.0  Coimbatore\n",
      "833   Sanjogta  25.0  Coimbatore\n",
      "834     Sanjoh  38.0  Coimbatore\n",
      "890      Tunda  80.0  Coimbatore\n",
      "891   Tundiram  77.0  Coimbatore\n",
      "892      Tunni  71.0  Coimbatore\n",
      "893    Turveny  36.0  Coimbatore\n",
      "894     Tushal  94.0  Coimbatore\n",
      "            Name    Age     City\n",
      "610      Laukush   71.0  Cuttack\n",
      "611          Lav   55.0  Cuttack\n",
      "612       Lavali   68.0  Cuttack\n",
      "613         Lave   30.0  Cuttack\n",
      "614         Lavi   22.0  Cuttack\n",
      "615       Lavish   35.0  Cuttack\n",
      "616      Lavkush   16.0  Cuttack\n",
      "617        Lavli   31.0  Cuttack\n",
      "618     Lavpreet   48.0  Cuttack\n",
      "619       Lavtar   81.0  Cuttack\n",
      "620        Lawli   34.0  Cuttack\n",
      "621     Lawrence   85.0  Cuttack\n",
      "622       Laxami   81.0  Cuttack\n",
      "623       Laxita   20.0  Cuttack\n",
      "624       Laxman   93.0  Cuttack\n",
      "625    Laxmanram   58.0  Cuttack\n",
      "626     Laxmeena    4.0  Cuttack\n",
      "627        Laxmi   72.0  Cuttack\n",
      "628    Laxmikant   25.0  Cuttack\n",
      "629  Laxminarain   90.0  Cuttack\n",
      "630        Layba  100.0  Cuttack\n",
      "631       Layman   68.0  Cuttack\n",
      "632        Leela   31.0  Cuttack\n",
      "633    Leelawati   19.0  Cuttack\n",
      "634        Leelu   75.0  Cuttack\n",
      "635        Leena   30.0  Cuttack\n",
      "636        Lehru   42.0  Cuttack\n",
      "          Name   Age      City\n",
      "516  Jaijairam  54.0  Dehradun\n",
      "517      Jakir  66.0  Dehradun\n",
      "518   Jalsingh  21.0  Dehradun\n",
      "519     Jalwad  70.0  Dehradun\n",
      "520     Jamaal   4.0  Dehradun\n",
      "521      Jamad  33.0  Dehradun\n",
      "522    Jamadar  62.0  Dehradun\n",
      "523      Jamal  39.0  Dehradun\n",
      "524      Jamee  93.0  Dehradun\n",
      "525    Jameela  17.0  Dehradun\n",
      "526     Jameer  14.0  Dehradun\n",
      "527      Jamil  95.0  Dehradun\n",
      "528     Jamila  57.0  Dehradun\n",
      "529      Jamir  42.0  Dehradun\n",
      "530      Jamna  85.0  Dehradun\n",
      "531     Jamnaa  13.0  Dehradun\n",
      "           Name   Age   City\n",
      "0          Abid  70.0  Delhi\n",
      "1        Aabida  54.0  Delhi\n",
      "2         Achal  65.0  Delhi\n",
      "3        Aadesh  76.0  Delhi\n",
      "4         Aadil  34.0  Delhi\n",
      "..          ...   ...    ...\n",
      "877  Trlokchand  48.0  Delhi\n",
      "878        Tuba  64.0  Delhi\n",
      "879      Tufail  24.0  Delhi\n",
      "880       Tufel   8.0  Delhi\n",
      "881        Tuka  97.0  Delhi\n",
      "\n",
      "[112 rows x 3 columns]\n",
      "          Name   Age     City\n",
      "288     Farhin  75.0  Guahati\n",
      "289      Farid  33.0  Guahati\n",
      "290     Farida  87.0  Guahati\n",
      "291     Farina  11.0  Guahati\n",
      "292    Farjana   6.0  Guahati\n",
      "293    Farjand  28.0  Guahati\n",
      "294   Farjanul  19.0  Guahati\n",
      "295      Farku  87.0  Guahati\n",
      "296    Farmaan  42.0  Guahati\n",
      "297     Farman  42.0  Guahati\n",
      "298   Farmeena  69.0  Guahati\n",
      "299      Faroj  10.0  Guahati\n",
      "300     Farukh  14.0  Guahati\n",
      "301    Farzana  28.0  Guahati\n",
      "302     Fasrun  90.0  Guahati\n",
      "303      Fateh   3.0  Guahati\n",
      "304     Father  32.0  Guahati\n",
      "305     Fatima  25.0  Guahati\n",
      "306      Fatma  77.0  Guahati\n",
      "307     Fauina  60.0  Guahati\n",
      "308    Faujdar  28.0  Guahati\n",
      "309      Fauji  13.0  Guahati\n",
      "310    Fazaley  49.0  Guahati\n",
      "311      Fazaz  83.0  Guahati\n",
      "312      Fazia  88.0  Guahati\n",
      "313      Fazin  87.0  Guahati\n",
      "314    Fazulla  50.0  Guahati\n",
      "315   Feflibai  15.0  Guahati\n",
      "316    Felicia   2.0  Guahati\n",
      "317       Feru  38.0  Guahati\n",
      "318   Fhaishal  73.0  Guahati\n",
      "319    Fharman   1.0  Guahati\n",
      "320       Fida  53.0  Guahati\n",
      "321       Fija  40.0  Guahati\n",
      "322    Firakat  74.0  Guahati\n",
      "323    Firasat  28.0  Guahati\n",
      "324    Firdosh  77.0  Guahati\n",
      "325    Firdous  41.0  Guahati\n",
      "326     Firida  59.0  Guahati\n",
      "327      Firoj  95.0  Guahati\n",
      "328     Firoja  20.0  Guahati\n",
      "329      Firoz  15.0  Guahati\n",
      "330     Firoza  18.0  Guahati\n",
      "331      Firtu  76.0  Guahati\n",
      "332     Fitrat  18.0  Guahati\n",
      "333      Fiyaz  21.0  Guahati\n",
      "334       Fiza  22.0  Guahati\n",
      "335       Fool  64.0  Guahati\n",
      "336      Foola  38.0  Guahati\n",
      "337  Fooljhnah  60.0  Guahati\n",
      "338   Foolmaya  29.0  Guahati\n",
      "339   Foolwati  51.0  Guahati\n",
      "340        For  84.0  Guahati\n",
      "          Name   Age     City\n",
      "819     Saniya  38.0  Gurgaon\n",
      "820     Sanjai  37.0  Gurgaon\n",
      "821     Sanjan  55.0  Gurgaon\n",
      "822    Sanjana  19.0  Gurgaon\n",
      "823     Sanjay  49.0  Gurgaon\n",
      "824    Sanjeet   6.0  Gurgaon\n",
      "825   Sanjeeta  87.0  Gurgaon\n",
      "826    Sanjeev  27.0  Gurgaon\n",
      "827  Sanjeevan  80.0  Gurgaon\n",
      "828     Sanjey  21.0  Gurgaon\n",
      "829    Sanjida  20.0  Gurgaon\n",
      "           Name   Age       City\n",
      "964     Yashmin   6.0  Hyderabad\n",
      "965     Yashoda  97.0  Hyderabad\n",
      "966    Yashodha  47.0  Hyderabad\n",
      "967     Yashpal  89.0  Hyderabad\n",
      "968     Yashsvi  68.0  Hyderabad\n",
      "969    Yashwant  80.0  Hyderabad\n",
      "970     Yasodha  12.0  Hyderabad\n",
      "971     Yaswani  50.0  Hyderabad\n",
      "972    Yatharth  57.0  Hyderabad\n",
      "973       Yatin  14.0  Hyderabad\n",
      "974        Yesh  39.0  Hyderabad\n",
      "975    Yogendra  19.0  Hyderabad\n",
      "976      Yogesh  24.0  Hyderabad\n",
      "977   Yogeshwar  52.0  Hyderabad\n",
      "978  Yogeshwari  84.0  Hyderabad\n",
      "979    Yoginder  31.0  Hyderabad\n",
      "980      Yogita  29.0  Hyderabad\n",
      "981     Yognder  40.0  Hyderabad\n",
      "982      Yograj  31.0  Hyderabad\n",
      "983     Yoshoda  45.0  Hyderabad\n",
      "984      Youraj  49.0  Hyderabad\n",
      "985     Yudhbir  78.0  Hyderabad\n",
      "986     Yukilal  38.0  Hyderabad\n",
      "987     Yuveraj  76.0  Hyderabad\n",
      "988      Yuvraj  88.0  Hyderabad\n",
      "989       Zafar  18.0  Hyderabad\n",
      "990      Zaheer  24.0  Hyderabad\n",
      "991       Zahid  33.0  Hyderabad\n",
      "992       Zahir   8.0  Hyderabad\n",
      "993      Zahira  98.0  Hyderabad\n",
      "994      Zainab  98.0  Hyderabad\n",
      "995       Zakir  89.0  Hyderabad\n",
      "996      Zameer  42.0  Hyderabad\n",
      "997      Zamile  70.0  Hyderabad\n",
      "998       Zanmi  70.0  Hyderabad\n",
      "          Name   Age    City\n",
      "835      Sanju  31.0  Jaipur\n",
      "836     Sanjya  15.0  Jaipur\n",
      "837     Sankar  23.0  Jaipur\n",
      "838  Sankarlal  55.0  Jaipur\n",
      "839      Sanna  20.0  Jaipur\n",
      "840      Sanni  73.0  Jaipur\n",
      "841      Sanno  17.0  Jaipur\n",
      "842      Sanny  82.0  Jaipur\n",
      "          Name   Age   City\n",
      "532  Jamrujaha  68.0  Jammu\n",
      "533    Jamshed  10.0  Jammu\n",
      "534     Jamuna  52.0  Jammu\n",
      "535      Janak  78.0  Jammu\n",
      "536     Janaki  86.0  Jammu\n",
      "537      Janam  71.0  Jammu\n",
      "538   Janardam   7.0  Jammu\n",
      "539     Janesh  21.0  Jammu\n",
      "540  Janeshwar   3.0  Jammu\n",
      "541       Jang  94.0  Jammu\n",
      "542       Jani  37.0  Jammu\n",
      "543      Janid  56.0  Jammu\n",
      "           Name   Age    City\n",
      "157      Chhoti  28.0  Kanpur\n",
      "158      Chhotu  64.0  Kanpur\n",
      "159  Chhotudevi  55.0  Kanpur\n",
      "160      Chiddu  46.0  Kanpur\n",
      "161      Chinki  63.0  Kanpur\n",
      "162      Chinku  24.0  Kanpur\n",
      "163      Chinta  90.0  Kanpur\n",
      "164     Chintan  17.0  Kanpur\n",
      "165      Chintu  67.0  Kanpur\n",
      "166       Chinu  87.0  Kanpur\n",
      "167      Chirag  93.0  Kanpur\n",
      "168       Deepa  95.0  Kanpur\n",
      "169     Deepaak  34.0  Kanpur\n",
      "170      Deepak   9.0  Kanpur\n",
      "171     Deepali  40.0  Kanpur\n",
      "172      Deepan  20.0  Kanpur\n",
      "173   Deepanker  61.0  Kanpur\n",
      "174   Deepanshi   3.0  Kanpur\n",
      "175   Deepanshu  26.0  Kanpur\n",
      "176    Deepansu  35.0  Kanpur\n",
      "177    Deepanti  32.0  Kanpur\n",
      "178   Deepchand  32.0  Kanpur\n",
      "          Name   Age    City\n",
      "637    Lekhraj  24.0  Kargil\n",
      "638    Mahadev  46.0  Kargil\n",
      "639   Mahadevi  54.0  Kargil\n",
      "640      Mahak   5.0  Kargil\n",
      "641    Mahammd  86.0  Kargil\n",
      "642  Mahasingh  25.0  Kargil\n",
      "643   Mahaveer  21.0  Kargil\n",
      "644    Mahavir  82.0  Kargil\n",
      "645     Mahbir  13.0  Kargil\n",
      "646    Mahboob  16.0  Kargil\n",
      "647     Mahbub  80.0  Kargil\n",
      "648   Mahendar  18.0  Kargil\n",
      "649   Mahender  15.0  Kargil\n",
      "650   Mahendra  27.0  Kargil\n",
      "651     Mahesh  24.0  Kargil\n",
      "652   Maheshar  96.0  Kargil\n",
      "653    Mahfooj  29.0  Kargil\n",
      "           Name   Age   City\n",
      "480       Injum  27.0  Kochi\n",
      "481       Jagan  29.0  Kochi\n",
      "482       Jagat  83.0  Kochi\n",
      "483      Jagbir  47.0  Kochi\n",
      "484    Jagdamba  43.0  Kochi\n",
      "485  Jagdambika  55.0  Kochi\n",
      "486     Jagdeep  98.0  Kochi\n",
      "487    Jagdeesh  18.0  Kochi\n",
      "488     Jagdesh  46.0  Kochi\n",
      "489    Jagdiesh  20.0  Kochi\n",
      "         Name    Age      City\n",
      "44      Aarif   58.0  Kolkatta\n",
      "45     Aarifa   78.0  Kolkatta\n",
      "46    Aarifun   21.0  Kolkatta\n",
      "47      Aarju    6.0  Kolkatta\n",
      "48      Aarti    3.0  Kolkatta\n",
      "49    Baburam    6.0  Kolkatta\n",
      "50  Badrinath  100.0  Kolkatta\n",
      "51  Badrealam   81.0  Kolkatta\n",
      "52      Badri   61.0  Kolkatta\n",
      "53      Badru   86.0  Kolkatta\n",
      "54     Bagwan   96.0  Kolkatta\n",
      "55    Bahadur   71.0  Kolkatta\n",
      "56    Bahalen   88.0  Kolkatta\n",
      "57     Bahart  100.0  Kolkatta\n",
      "58      Bahnu   54.0  Kolkatta\n",
      "59     Bahrat   51.0  Kolkatta\n",
      "60    Bahwana   65.0  Kolkatta\n",
      "61    Baichan   33.0  Kolkatta\n",
      "62   Baidnath    1.0  Kolkatta\n",
      "63   Baijnath   66.0  Kolkatta\n",
      "64      Baita   34.0  Kolkatta\n",
      "65   Bajinder   52.0  Kolkatta\n",
      "66    Bajrang   22.0  Kolkatta\n",
      "67   Bajrangi   95.0  Kolkatta\n",
      "68    Bajulal   43.0  Kolkatta\n",
      "69       Bake   41.0  Kolkatta\n",
      "70  Bakhtvaar   76.0  Kolkatta\n",
      "71     Bakila   60.0  Kolkatta\n",
      "72      Baksi   63.0  Kolkatta\n",
      "73        Bal   15.0  Kolkatta\n",
      "74       Bala   59.0  Kolkatta\n",
      "75      Balak   98.0  Kolkatta\n",
      "76    Balalia   14.0  Kolkatta\n",
      "77      Balam   13.0  Kolkatta\n",
      "78    Balaram   31.0  Kolkatta\n",
      "79    Balbeer   24.0  Kolkatta\n",
      "          Name   Age     City\n",
      "654    Mahfooz   9.0  Ladhakh\n",
      "655     Mahfuj  52.0  Ladhakh\n",
      "656       Mahi  14.0  Ladhakh\n",
      "657     Mahima  51.0  Ladhakh\n",
      "658   Mahinder  19.0  Ladhakh\n",
      "659   Mahindra  60.0  Ladhakh\n",
      "660  Mahinudin  57.0  Ladhakh\n",
      "661    Mahipal  35.0  Ladhakh\n",
      "662    Mahjabi  60.0  Ladhakh\n",
      "663     Mahkar  49.0  Ladhakh\n",
      "664   Mahlikka  33.0  Ladhakh\n",
      "665     Mahmun  38.0  Ladhakh\n",
      "666   Mahnatha   9.0  Ladhakh\n",
      "667      Najar   8.0  Ladhakh\n",
      "668     Najara  54.0  Ladhakh\n",
      "669   Najarana  80.0  Ladhakh\n",
      "670      Najni  64.0  Ladhakh\n",
      "671       Najo  80.0  Ladhakh\n",
      "672     Omwati  16.0  Ladhakh\n",
      "673        One  80.0  Ladhakh\n",
      "674    Onginye   9.0  Ladhakh\n",
      "675    Opendar  78.0  Ladhakh\n",
      "676      Osier  27.0  Ladhakh\n",
      "677     Ovaish  47.0  Ladhakh\n",
      "678    Pabitra  58.0  Ladhakh\n",
      "           Name   Age     City\n",
      "341     Foranta  68.0  Lucknow\n",
      "342     Foranti  28.0  Lucknow\n",
      "343      Fornta  60.0  Lucknow\n",
      "344     Forshan  38.0  Lucknow\n",
      "345       Fozia  65.0  Lucknow\n",
      "346      Gandhi   6.0  Lucknow\n",
      "347      Ganesh  75.0  Lucknow\n",
      "348     Ganeshi  76.0  Lucknow\n",
      "349      Ganesi  12.0  Lucknow\n",
      "350       Ganga   9.0  Lucknow\n",
      "351   Gangadhar  52.0  Lucknow\n",
      "352   Gangajali  53.0  Lucknow\n",
      "353    Gangaram  66.0  Lucknow\n",
      "354       Gango  72.0  Lucknow\n",
      "355      Ganita  83.0  Lucknow\n",
      "356      Ganpat  49.0  Lucknow\n",
      "357     Ganpati   3.0  Lucknow\n",
      "358   Ganpatram  84.0  Lucknow\n",
      "359   Gantantra  77.0  Lucknow\n",
      "360       Gappu   8.0  Lucknow\n",
      "361       Gargi  83.0  Lucknow\n",
      "362       Garib  45.0  Lucknow\n",
      "363      Garima  44.0  Lucknow\n",
      "364       Garsh  29.0  Lucknow\n",
      "365     Garupal  32.0  Lucknow\n",
      "366        Garv   9.0  Lucknow\n",
      "367       Gattu  94.0  Lucknow\n",
      "368       Gaura   1.0  Lucknow\n",
      "369      Gaurav  41.0  Lucknow\n",
      "370   Gauravgil  47.0  Lucknow\n",
      "371       Gauri  57.0  Lucknow\n",
      "372      Gautam  99.0  Lucknow\n",
      "373      Gawali  83.0  Lucknow\n",
      "374       Gawri  77.0  Lucknow\n",
      "375     Gayatri  54.0  Lucknow\n",
      "376     Gaytree  85.0  Lucknow\n",
      "377      Gaytri   2.0  Lucknow\n",
      "378    Geernish  66.0  Lucknow\n",
      "379       Geesa  83.0  Lucknow\n",
      "380        Geet  51.0  Lucknow\n",
      "381       Geeta  19.0  Lucknow\n",
      "382  Geetanjali  59.0  Lucknow\n",
      "383     Geetika  16.0  Lucknow\n",
      "384       Geetu  58.0  Lucknow\n",
      "385         Gen  67.0  Lucknow\n",
      "        Name   Age     City\n",
      "784   Rajbir  69.0  Madurai\n",
      "785  Rajbiri  48.0  Madurai\n",
      "786   Rajdev  41.0  Madurai\n",
      "787   Rajdut   4.0  Madurai\n",
      "788  Rajeena  36.0  Madurai\n",
      "789   Rajeet   3.0  Madurai\n",
      "790   Rajeev  99.0  Madurai\n",
      "        Name   Age    City\n",
      "590  Khushbu  55.0  Mysore\n",
      "591   Khushi  30.0  Mysore\n",
      "592   Laliya  93.0  Mysore\n",
      "593    Lallu  69.0  Mysore\n",
      "594  Lalmuni  50.0  Mysore\n",
      "595   Laltes  70.0  Mysore\n",
      "596   Laltha  75.0  Mysore\n",
      "597   Laltia   7.0  Mysore\n",
      "598     Lalu  44.0  Mysore\n",
      "599  Lalutha  47.0  Mysore\n",
      "600   Lamani  78.0  Mysore\n",
      "601   Lambhu  63.0  Mysore\n",
      "                Name   Age   City\n",
      "940  Warnakulasuriya  76.0  Nasik\n",
      "941           Waseem  69.0  Nasik\n",
      "942            Wasim  11.0  Nasik\n",
      "943       Wasimuddin   1.0  Nasik\n",
      "944            Wazid  61.0  Nasik\n",
      "945            Wazir  42.0  Nasik\n",
      "946          Wiliyam  57.0  Nasik\n",
      "947          Wilkish  96.0  Nasik\n",
      "948           Yadram  69.0  Nasik\n",
      "949           Yadvir  65.0  Nasik\n",
      "950            Yaksh  26.0  Nasik\n",
      "951            Yaman  15.0  Nasik\n",
      "952           Yameen  18.0  Nasik\n",
      "953            Yamin  90.0  Nasik\n",
      "            Name   Age   City\n",
      "179    Deepender  85.0  Noida\n",
      "180        Deepi  49.0  Noida\n",
      "181      Deepika  76.0  Noida\n",
      "182       Deepka  64.0  Noida\n",
      "183     Deepmala  15.0  Noida\n",
      "184  Deepnarayan  25.0  Noida\n",
      "185   Deepshikha  14.0  Noida\n",
      "186       Deepti   7.0  Noida\n",
      "187        Deepu  39.0  Noida\n",
      "188    Deepvhand  76.0  Noida\n",
      "189       Deeraj   8.0  Noida\n",
      "190    Deerendra   3.0  Noida\n",
      "191       Deewan   9.0  Noida\n",
      "192        Deeya  14.0  Noida\n",
      "193       Denesh   4.0  Noida\n",
      "194         Deni   1.0  Noida\n",
      "195         Deou  37.0  Noida\n",
      "196       Depali  96.0  Noida\n",
      "197     Depander  24.0  Noida\n",
      "198         Desh  65.0  Noida\n",
      "199      Deshraj  19.0  Noida\n",
      "200          Dev  92.0  Noida\n",
      "201         Deva   1.0  Noida\n",
      "202     Devanand  55.0  Noida\n",
      "203      Devanti  91.0  Noida\n",
      "204    Devasheeh  67.0  Noida\n",
      "205    Devashish  97.0  Noida\n",
      "206     Devasish  75.0  Noida\n",
      "207     Devdhari   4.0  Noida\n",
      "208     Devender  20.0  Noida\n",
      "209      Devendr  35.0  Noida\n",
      "210     Devendra  87.0  Noida\n",
      "211     Devendri  30.0  Noida\n",
      "212       Devesh  63.0  Noida\n",
      "213         Devi   7.0  Noida\n",
      "214        Devid  66.0  Noida\n",
      "215     Devideen  23.0  Noida\n",
      "216        Devik   2.0  Noida\n",
      "217       Devika  33.0  Noida\n",
      "218      Devilal  30.0  Noida\n",
      "219     Devinder  66.0  Noida\n",
      "220      Devkali  18.0  Noida\n",
      "221        Devki  11.0  Noida\n",
      "222      Devkran  41.0  Noida\n",
      "223        Devli  25.0  Noida\n",
      "224       Devpal  21.0  Noida\n",
      "225       Devraj  62.0  Noida\n",
      "226        Devya  21.0  Noida\n",
      "           Name   Age      City\n",
      "227     Devyani  98.0  Palampur\n",
      "228       Deyji  22.0  Palampur\n",
      "229  Dhakhadevi  51.0  Palampur\n",
      "230   Dhalchand  27.0  Palampur\n",
      "231       Edris  73.0  Palampur\n",
      "..          ...   ...       ...\n",
      "283     Farhana  83.0  Palampur\n",
      "284   Farhanaaz  14.0  Palampur\n",
      "285    Farhanaz  52.0  Palampur\n",
      "286     Farheen  44.0  Palampur\n",
      "287      Farhib  23.0  Palampur\n",
      "\n",
      "[61 rows x 3 columns]\n",
      "          Name   Age  City\n",
      "602      Lasar  69.0  Pune\n",
      "603     Lashma  33.0  Pune\n",
      "604  Laskshita  67.0  Pune\n",
      "605       Lata  84.0  Pune\n",
      "606     Lateef  33.0  Pune\n",
      "607     Latesh  60.0  Pune\n",
      "608     Latoor  51.0  Pune\n",
      "609      Latur  51.0  Pune\n",
      "         Name   Age    City\n",
      "805   Sandiya  84.0  Raipur\n",
      "806    Sandna  34.0  Raipur\n",
      "807    Sandya  75.0  Raipur\n",
      "808    Saneha  31.0  Raipur\n",
      "809  Sangeena  11.0  Raipur\n",
      "810   Sangeet  24.0  Raipur\n",
      "811  Sangeeta  41.0  Raipur\n",
      "812   Sangeta  37.0  Raipur\n",
      "813    Sangit  28.0  Raipur\n",
      "814   Sangita   8.0  Raipur\n",
      "815   Sangram  67.0  Raipur\n",
      "816     Sanha  91.0  Raipur\n",
      "817     Sania   2.0  Raipur\n",
      "818    Sanita  42.0  Raipur\n",
      "           Name    Age    City\n",
      "920      Ujjwal    6.0  Ranchi\n",
      "921         Uma   51.0  Ranchi\n",
      "922     Umakant   72.0  Ranchi\n",
      "923     Umanath    5.0  Ranchi\n",
      "924       Umang   10.0  Ranchi\n",
      "925        Umar   81.0  Ranchi\n",
      "926   Umardaraz   13.0  Ranchi\n",
      "927    Umardeen  100.0  Ranchi\n",
      "928   Umasankar   65.0  Ranchi\n",
      "929  Umashankar   38.0  Ranchi\n",
      "930  Umashanker   35.0  Ranchi\n",
      "931        Umda   20.0  Ranchi\n",
      "932       Umedi    2.0  Ranchi\n",
      "933       Umesh   48.0  Ranchi\n",
      "934      Umesha   57.0  Ranchi\n",
      "935     Vaibhav   46.0  Ranchi\n",
      "936        Vaid   21.0  Ranchi\n",
      "937    Vaijanti   17.0  Ranchi\n",
      "938    Vaishali   54.0  Ranchi\n",
      "939   Vaishanvi   77.0  Ranchi\n",
      "          Name   Age      City\n",
      "791     Rajend  12.0  Srinagar\n",
      "792   Rajendar  28.0  Srinagar\n",
      "793   Rajender  37.0  Srinagar\n",
      "794  Rajenderi  65.0  Srinagar\n",
      "795   Rajendra  31.0  Srinagar\n",
      "796     Rajesh  39.0  Srinagar\n",
      "797   Rajeshvr  52.0  Srinagar\n",
      "798  Rajeshwar  90.0  Srinagar\n",
      "799    Sandeep  38.0  Srinagar\n",
      "800   Sandeepa  74.0  Srinagar\n",
      "801     Sandha  46.0  Srinagar\n",
      "802   Sandhaya  23.0  Srinagar\n",
      "803    Sandhya   6.0  Srinagar\n",
      "804     Sandip  57.0  Srinagar\n",
      "          Name   Age   City\n",
      "553      Janwi   7.0  Surat\n",
      "554    Japneet  27.0  Surat\n",
      "555     Jaquir  92.0  Surat\n",
      "556      Jyoti  34.0  Surat\n",
      "557   Jyotsana  61.0  Surat\n",
      "558      Jyoty  18.0  Surat\n",
      "559    Kaamini  56.0  Surat\n",
      "560      Kaari  98.0  Surat\n",
      "561     Kaarti  59.0  Surat\n",
      "562      Kabal  86.0  Surat\n",
      "563      Kabid  38.0  Surat\n",
      "882  Tulcharam  12.0  Surat\n",
      "883      Tulki  16.0  Surat\n",
      "884      Tulsa  74.0  Surat\n",
      "885     Tulsha  77.0  Surat\n",
      "886     Tulshi  84.0  Surat\n",
      "887      Tulsi   1.0  Surat\n",
      "888   Tulsiram  11.0  Surat\n",
      "889      Tumpa  51.0  Surat\n",
      "895     Tushar  87.0  Surat\n",
      "896    Twenkle  84.0  Surat\n",
      "897    Twinkal  70.0  Surat\n",
      "898    Twinkil  40.0  Surat\n",
      "899    Twinkle  47.0  Surat\n",
      "900      Tyara  72.0  Surat\n",
      "901        Uda  51.0  Surat\n",
      "          Name   Age     City\n",
      "544      Janki  34.0  Udaipur\n",
      "545   Jankidas  81.0  Udaipur\n",
      "546    Jankraj  67.0  Udaipur\n",
      "547    Janmesh  64.0  Udaipur\n",
      "548     Jannat  86.0  Udaipur\n",
      "549      Janta  40.0  Udaipur\n",
      "550  Jantarpal  97.0  Udaipur\n",
      "551     Januka  55.0  Udaipur\n",
      "552      Janvi   1.0  Udaipur\n",
      "           Name   Age    City\n",
      "564       Kabir  53.0  Ujjain\n",
      "565       Kabul  98.0  Ujjain\n",
      "566      Kachan  75.0  Ujjain\n",
      "567      Kachri  23.0  Ujjain\n",
      "568       Kadir  29.0  Ujjain\n",
      "569        Kadu  90.0  Ujjain\n",
      "570       Kafia  80.0  Ujjain\n",
      "571     Kailesh  29.0  Ujjain\n",
      "572     Kaishav  34.0  Ujjain\n",
      "573       Kajal  66.0  Ujjain\n",
      "574  Kajamuddih  26.0  Ujjain\n",
      "575       Kajar  28.0  Ujjain\n"
     ]
    }
   ],
   "source": [
    "# Find the Youngest Names in Each City\n",
    "name_age_city_df = pop_df[['Name' , 'Age' , 'City']].groupby(['City'])\n",
    "for key, item in name_age_city_df:\n",
    "    print(name_age_city_df.get_group(key))"
   ]
  },
  {
   "cell_type": "code",
   "execution_count": 80,
   "metadata": {},
   "outputs": [
    {
     "data": {
      "text/html": [
       "<div>\n",
       "<style scoped>\n",
       "    .dataframe tbody tr th:only-of-type {\n",
       "        vertical-align: middle;\n",
       "    }\n",
       "\n",
       "    .dataframe tbody tr th {\n",
       "        vertical-align: top;\n",
       "    }\n",
       "\n",
       "    .dataframe thead tr th {\n",
       "        text-align: left;\n",
       "    }\n",
       "\n",
       "    .dataframe thead tr:last-of-type th {\n",
       "        text-align: right;\n",
       "    }\n",
       "</style>\n",
       "<table border=\"1\" class=\"dataframe\">\n",
       "  <thead>\n",
       "    <tr>\n",
       "      <th></th>\n",
       "      <th colspan=\"8\" halign=\"left\">Age</th>\n",
       "    </tr>\n",
       "    <tr>\n",
       "      <th></th>\n",
       "      <th>count</th>\n",
       "      <th>mean</th>\n",
       "      <th>std</th>\n",
       "      <th>min</th>\n",
       "      <th>25%</th>\n",
       "      <th>50%</th>\n",
       "      <th>75%</th>\n",
       "      <th>max</th>\n",
       "    </tr>\n",
       "    <tr>\n",
       "      <th>City</th>\n",
       "      <th></th>\n",
       "      <th></th>\n",
       "      <th></th>\n",
       "      <th></th>\n",
       "      <th></th>\n",
       "      <th></th>\n",
       "      <th></th>\n",
       "      <th></th>\n",
       "    </tr>\n",
       "  </thead>\n",
       "  <tbody>\n",
       "    <tr>\n",
       "      <th>Ahmedabad</th>\n",
       "      <td>17.0</td>\n",
       "      <td>53.058823</td>\n",
       "      <td>29.894547</td>\n",
       "      <td>3.0</td>\n",
       "      <td>24.00</td>\n",
       "      <td>56.0</td>\n",
       "      <td>81.00</td>\n",
       "      <td>98.0</td>\n",
       "    </tr>\n",
       "    <tr>\n",
       "      <th>Amritsar</th>\n",
       "      <td>11.0</td>\n",
       "      <td>49.636364</td>\n",
       "      <td>34.889175</td>\n",
       "      <td>2.0</td>\n",
       "      <td>13.00</td>\n",
       "      <td>55.0</td>\n",
       "      <td>81.50</td>\n",
       "      <td>96.0</td>\n",
       "    </tr>\n",
       "    <tr>\n",
       "      <th>Bangalore</th>\n",
       "      <td>193.0</td>\n",
       "      <td>51.160622</td>\n",
       "      <td>29.086258</td>\n",
       "      <td>3.0</td>\n",
       "      <td>24.00</td>\n",
       "      <td>51.0</td>\n",
       "      <td>77.00</td>\n",
       "      <td>100.0</td>\n",
       "    </tr>\n",
       "    <tr>\n",
       "      <th>Chennai</th>\n",
       "      <td>77.0</td>\n",
       "      <td>52.051949</td>\n",
       "      <td>25.457855</td>\n",
       "      <td>1.0</td>\n",
       "      <td>32.00</td>\n",
       "      <td>49.0</td>\n",
       "      <td>70.00</td>\n",
       "      <td>100.0</td>\n",
       "    </tr>\n",
       "    <tr>\n",
       "      <th>Coimbatore</th>\n",
       "      <td>27.0</td>\n",
       "      <td>45.333332</td>\n",
       "      <td>27.522018</td>\n",
       "      <td>2.0</td>\n",
       "      <td>22.00</td>\n",
       "      <td>40.0</td>\n",
       "      <td>71.00</td>\n",
       "      <td>94.0</td>\n",
       "    </tr>\n",
       "    <tr>\n",
       "      <th>Cuttack</th>\n",
       "      <td>27.0</td>\n",
       "      <td>51.259258</td>\n",
       "      <td>27.702530</td>\n",
       "      <td>4.0</td>\n",
       "      <td>30.00</td>\n",
       "      <td>48.0</td>\n",
       "      <td>73.50</td>\n",
       "      <td>100.0</td>\n",
       "    </tr>\n",
       "    <tr>\n",
       "      <th>Dehradun</th>\n",
       "      <td>16.0</td>\n",
       "      <td>47.812500</td>\n",
       "      <td>29.521109</td>\n",
       "      <td>4.0</td>\n",
       "      <td>20.00</td>\n",
       "      <td>48.0</td>\n",
       "      <td>67.00</td>\n",
       "      <td>95.0</td>\n",
       "    </tr>\n",
       "    <tr>\n",
       "      <th>Delhi</th>\n",
       "      <td>112.0</td>\n",
       "      <td>49.464287</td>\n",
       "      <td>28.119093</td>\n",
       "      <td>1.0</td>\n",
       "      <td>23.75</td>\n",
       "      <td>49.5</td>\n",
       "      <td>70.00</td>\n",
       "      <td>100.0</td>\n",
       "    </tr>\n",
       "    <tr>\n",
       "      <th>Guahati</th>\n",
       "      <td>53.0</td>\n",
       "      <td>44.301888</td>\n",
       "      <td>28.163387</td>\n",
       "      <td>1.0</td>\n",
       "      <td>20.00</td>\n",
       "      <td>40.0</td>\n",
       "      <td>73.00</td>\n",
       "      <td>95.0</td>\n",
       "    </tr>\n",
       "    <tr>\n",
       "      <th>Gurgaon</th>\n",
       "      <td>11.0</td>\n",
       "      <td>39.909092</td>\n",
       "      <td>25.797110</td>\n",
       "      <td>6.0</td>\n",
       "      <td>20.50</td>\n",
       "      <td>37.0</td>\n",
       "      <td>52.00</td>\n",
       "      <td>87.0</td>\n",
       "    </tr>\n",
       "    <tr>\n",
       "      <th>Hyderabad</th>\n",
       "      <td>35.0</td>\n",
       "      <td>51.228573</td>\n",
       "      <td>28.510149</td>\n",
       "      <td>6.0</td>\n",
       "      <td>30.00</td>\n",
       "      <td>47.0</td>\n",
       "      <td>77.00</td>\n",
       "      <td>98.0</td>\n",
       "    </tr>\n",
       "    <tr>\n",
       "      <th>Jaipur</th>\n",
       "      <td>8.0</td>\n",
       "      <td>39.500000</td>\n",
       "      <td>26.726124</td>\n",
       "      <td>15.0</td>\n",
       "      <td>19.25</td>\n",
       "      <td>27.0</td>\n",
       "      <td>59.50</td>\n",
       "      <td>82.0</td>\n",
       "    </tr>\n",
       "    <tr>\n",
       "      <th>Jammu</th>\n",
       "      <td>12.0</td>\n",
       "      <td>48.583332</td>\n",
       "      <td>32.284130</td>\n",
       "      <td>3.0</td>\n",
       "      <td>18.25</td>\n",
       "      <td>54.0</td>\n",
       "      <td>72.75</td>\n",
       "      <td>94.0</td>\n",
       "    </tr>\n",
       "    <tr>\n",
       "      <th>Kanpur</th>\n",
       "      <td>22.0</td>\n",
       "      <td>46.409092</td>\n",
       "      <td>27.791159</td>\n",
       "      <td>3.0</td>\n",
       "      <td>26.50</td>\n",
       "      <td>37.5</td>\n",
       "      <td>63.75</td>\n",
       "      <td>95.0</td>\n",
       "    </tr>\n",
       "    <tr>\n",
       "      <th>Kargil</th>\n",
       "      <td>17.0</td>\n",
       "      <td>38.882355</td>\n",
       "      <td>29.425505</td>\n",
       "      <td>5.0</td>\n",
       "      <td>18.00</td>\n",
       "      <td>25.0</td>\n",
       "      <td>54.00</td>\n",
       "      <td>96.0</td>\n",
       "    </tr>\n",
       "    <tr>\n",
       "      <th>Kochi</th>\n",
       "      <td>10.0</td>\n",
       "      <td>46.599998</td>\n",
       "      <td>26.395287</td>\n",
       "      <td>18.0</td>\n",
       "      <td>27.50</td>\n",
       "      <td>44.5</td>\n",
       "      <td>53.00</td>\n",
       "      <td>98.0</td>\n",
       "    </tr>\n",
       "    <tr>\n",
       "      <th>Kolkatta</th>\n",
       "      <td>36.0</td>\n",
       "      <td>51.805557</td>\n",
       "      <td>31.018721</td>\n",
       "      <td>1.0</td>\n",
       "      <td>23.50</td>\n",
       "      <td>56.0</td>\n",
       "      <td>76.50</td>\n",
       "      <td>100.0</td>\n",
       "    </tr>\n",
       "    <tr>\n",
       "      <th>Ladhakh</th>\n",
       "      <td>25.0</td>\n",
       "      <td>43.480000</td>\n",
       "      <td>24.467869</td>\n",
       "      <td>8.0</td>\n",
       "      <td>19.00</td>\n",
       "      <td>49.0</td>\n",
       "      <td>60.00</td>\n",
       "      <td>80.0</td>\n",
       "    </tr>\n",
       "    <tr>\n",
       "      <th>Lucknow</th>\n",
       "      <td>45.0</td>\n",
       "      <td>50.777779</td>\n",
       "      <td>28.222240</td>\n",
       "      <td>1.0</td>\n",
       "      <td>29.00</td>\n",
       "      <td>54.0</td>\n",
       "      <td>75.00</td>\n",
       "      <td>99.0</td>\n",
       "    </tr>\n",
       "    <tr>\n",
       "      <th>Madurai</th>\n",
       "      <td>7.0</td>\n",
       "      <td>42.857143</td>\n",
       "      <td>34.182980</td>\n",
       "      <td>3.0</td>\n",
       "      <td>20.00</td>\n",
       "      <td>41.0</td>\n",
       "      <td>58.50</td>\n",
       "      <td>99.0</td>\n",
       "    </tr>\n",
       "    <tr>\n",
       "      <th>Mysore</th>\n",
       "      <td>12.0</td>\n",
       "      <td>56.750000</td>\n",
       "      <td>23.277475</td>\n",
       "      <td>7.0</td>\n",
       "      <td>46.25</td>\n",
       "      <td>59.0</td>\n",
       "      <td>71.25</td>\n",
       "      <td>93.0</td>\n",
       "    </tr>\n",
       "    <tr>\n",
       "      <th>Nasik</th>\n",
       "      <td>14.0</td>\n",
       "      <td>49.714287</td>\n",
       "      <td>30.783184</td>\n",
       "      <td>1.0</td>\n",
       "      <td>20.00</td>\n",
       "      <td>59.0</td>\n",
       "      <td>69.00</td>\n",
       "      <td>96.0</td>\n",
       "    </tr>\n",
       "    <tr>\n",
       "      <th>Noida</th>\n",
       "      <td>48.0</td>\n",
       "      <td>39.020832</td>\n",
       "      <td>30.265135</td>\n",
       "      <td>1.0</td>\n",
       "      <td>14.00</td>\n",
       "      <td>30.0</td>\n",
       "      <td>65.25</td>\n",
       "      <td>97.0</td>\n",
       "    </tr>\n",
       "    <tr>\n",
       "      <th>Palampur</th>\n",
       "      <td>61.0</td>\n",
       "      <td>46.590164</td>\n",
       "      <td>29.187538</td>\n",
       "      <td>1.0</td>\n",
       "      <td>22.00</td>\n",
       "      <td>49.0</td>\n",
       "      <td>64.00</td>\n",
       "      <td>98.0</td>\n",
       "    </tr>\n",
       "    <tr>\n",
       "      <th>Pune</th>\n",
       "      <td>8.0</td>\n",
       "      <td>56.000000</td>\n",
       "      <td>17.720045</td>\n",
       "      <td>33.0</td>\n",
       "      <td>46.50</td>\n",
       "      <td>55.5</td>\n",
       "      <td>67.50</td>\n",
       "      <td>84.0</td>\n",
       "    </tr>\n",
       "    <tr>\n",
       "      <th>Raipur</th>\n",
       "      <td>14.0</td>\n",
       "      <td>41.071430</td>\n",
       "      <td>28.168352</td>\n",
       "      <td>2.0</td>\n",
       "      <td>25.00</td>\n",
       "      <td>35.5</td>\n",
       "      <td>60.75</td>\n",
       "      <td>91.0</td>\n",
       "    </tr>\n",
       "    <tr>\n",
       "      <th>Ranchi</th>\n",
       "      <td>20.0</td>\n",
       "      <td>40.900002</td>\n",
       "      <td>28.802229</td>\n",
       "      <td>2.0</td>\n",
       "      <td>16.00</td>\n",
       "      <td>42.0</td>\n",
       "      <td>59.00</td>\n",
       "      <td>100.0</td>\n",
       "    </tr>\n",
       "    <tr>\n",
       "      <th>Srinagar</th>\n",
       "      <td>14.0</td>\n",
       "      <td>42.714287</td>\n",
       "      <td>23.394375</td>\n",
       "      <td>6.0</td>\n",
       "      <td>28.75</td>\n",
       "      <td>38.5</td>\n",
       "      <td>55.75</td>\n",
       "      <td>90.0</td>\n",
       "    </tr>\n",
       "    <tr>\n",
       "      <th>Surat</th>\n",
       "      <td>26.0</td>\n",
       "      <td>52.038460</td>\n",
       "      <td>29.528942</td>\n",
       "      <td>1.0</td>\n",
       "      <td>28.75</td>\n",
       "      <td>53.5</td>\n",
       "      <td>76.25</td>\n",
       "      <td>98.0</td>\n",
       "    </tr>\n",
       "    <tr>\n",
       "      <th>Udaipur</th>\n",
       "      <td>9.0</td>\n",
       "      <td>58.333332</td>\n",
       "      <td>29.807716</td>\n",
       "      <td>1.0</td>\n",
       "      <td>40.00</td>\n",
       "      <td>64.0</td>\n",
       "      <td>81.00</td>\n",
       "      <td>97.0</td>\n",
       "    </tr>\n",
       "    <tr>\n",
       "      <th>Ujjain</th>\n",
       "      <td>12.0</td>\n",
       "      <td>52.583332</td>\n",
       "      <td>27.864799</td>\n",
       "      <td>23.0</td>\n",
       "      <td>28.75</td>\n",
       "      <td>43.5</td>\n",
       "      <td>76.25</td>\n",
       "      <td>98.0</td>\n",
       "    </tr>\n",
       "  </tbody>\n",
       "</table>\n",
       "</div>"
      ],
      "text/plain": [
       "              Age                                                       \n",
       "            count       mean        std   min    25%   50%    75%    max\n",
       "City                                                                    \n",
       "Ahmedabad    17.0  53.058823  29.894547   3.0  24.00  56.0  81.00   98.0\n",
       "Amritsar     11.0  49.636364  34.889175   2.0  13.00  55.0  81.50   96.0\n",
       "Bangalore   193.0  51.160622  29.086258   3.0  24.00  51.0  77.00  100.0\n",
       "Chennai      77.0  52.051949  25.457855   1.0  32.00  49.0  70.00  100.0\n",
       "Coimbatore   27.0  45.333332  27.522018   2.0  22.00  40.0  71.00   94.0\n",
       "Cuttack      27.0  51.259258  27.702530   4.0  30.00  48.0  73.50  100.0\n",
       "Dehradun     16.0  47.812500  29.521109   4.0  20.00  48.0  67.00   95.0\n",
       "Delhi       112.0  49.464287  28.119093   1.0  23.75  49.5  70.00  100.0\n",
       "Guahati      53.0  44.301888  28.163387   1.0  20.00  40.0  73.00   95.0\n",
       "Gurgaon      11.0  39.909092  25.797110   6.0  20.50  37.0  52.00   87.0\n",
       "Hyderabad    35.0  51.228573  28.510149   6.0  30.00  47.0  77.00   98.0\n",
       "Jaipur        8.0  39.500000  26.726124  15.0  19.25  27.0  59.50   82.0\n",
       "Jammu        12.0  48.583332  32.284130   3.0  18.25  54.0  72.75   94.0\n",
       "Kanpur       22.0  46.409092  27.791159   3.0  26.50  37.5  63.75   95.0\n",
       "Kargil       17.0  38.882355  29.425505   5.0  18.00  25.0  54.00   96.0\n",
       "Kochi        10.0  46.599998  26.395287  18.0  27.50  44.5  53.00   98.0\n",
       "Kolkatta     36.0  51.805557  31.018721   1.0  23.50  56.0  76.50  100.0\n",
       "Ladhakh      25.0  43.480000  24.467869   8.0  19.00  49.0  60.00   80.0\n",
       "Lucknow      45.0  50.777779  28.222240   1.0  29.00  54.0  75.00   99.0\n",
       "Madurai       7.0  42.857143  34.182980   3.0  20.00  41.0  58.50   99.0\n",
       "Mysore       12.0  56.750000  23.277475   7.0  46.25  59.0  71.25   93.0\n",
       "Nasik        14.0  49.714287  30.783184   1.0  20.00  59.0  69.00   96.0\n",
       "Noida        48.0  39.020832  30.265135   1.0  14.00  30.0  65.25   97.0\n",
       "Palampur     61.0  46.590164  29.187538   1.0  22.00  49.0  64.00   98.0\n",
       "Pune          8.0  56.000000  17.720045  33.0  46.50  55.5  67.50   84.0\n",
       "Raipur       14.0  41.071430  28.168352   2.0  25.00  35.5  60.75   91.0\n",
       "Ranchi       20.0  40.900002  28.802229   2.0  16.00  42.0  59.00  100.0\n",
       "Srinagar     14.0  42.714287  23.394375   6.0  28.75  38.5  55.75   90.0\n",
       "Surat        26.0  52.038460  29.528942   1.0  28.75  53.5  76.25   98.0\n",
       "Udaipur       9.0  58.333332  29.807716   1.0  40.00  64.0  81.00   97.0\n",
       "Ujjain       12.0  52.583332  27.864799  23.0  28.75  43.5  76.25   98.0"
      ]
     },
     "execution_count": 80,
     "metadata": {},
     "output_type": "execute_result"
    }
   ],
   "source": [
    "name_age_city_df.describe()"
   ]
  },
  {
   "cell_type": "code",
   "execution_count": 167,
   "metadata": {},
   "outputs": [
    {
     "name": "stdout",
     "output_type": "stream",
     "text": [
      "\n",
      "\n",
      "City Wise Mean Ages in Ascending Order:  \n",
      "\n",
      "             mean_age  count\n",
      "City                        \n",
      "Kargil      38.882355     17\n",
      "Noida       39.020832     48\n",
      "Jaipur      39.500000      8\n",
      "Gurgaon     39.909092     11\n",
      "Ranchi      40.900002     20\n",
      "Raipur      41.071430     14\n",
      "Srinagar    42.714287     14\n",
      "Madurai     42.857143      7\n",
      "Ladhakh     43.480000     25\n",
      "Guahati     44.301888     53\n",
      "Coimbatore  45.333332     27\n",
      "Kanpur      46.409092     22\n",
      "Palampur    46.590164     61\n",
      "Kochi       46.599998     10\n",
      "Dehradun    47.812500     16\n",
      "Jammu       48.583332     12\n",
      "Delhi       49.464287    112\n",
      "Amritsar    49.636364     11\n",
      "Nasik       49.714287     14\n",
      "Lucknow     50.777779     45\n",
      "Bangalore   51.160622    193\n",
      "Hyderabad   51.228573     35\n",
      "Cuttack     51.259258     27\n",
      "Kolkatta    51.805557     36\n",
      "Surat       52.038460     26\n",
      "Chennai     52.051949     77\n",
      "Ujjain      52.583332     12\n",
      "Ahmedabad   53.058823     17\n",
      "Pune        56.000000      8\n",
      "Mysore      56.750000     12\n",
      "Udaipur     58.333332      9\n",
      "\n",
      "\n",
      "Top 3 Cities with Youngest Population:  \n",
      "\n",
      "         mean_age  count\n",
      "City                    \n",
      "Kargil  38.882355     17\n",
      "Noida   39.020832     48\n",
      "Jaipur  39.500000      8\n"
     ]
    }
   ],
   "source": [
    "name_ages = name_age_city_df['Age'].mean()\n",
    "name_counts = name_age_city_df['Age'].count()\n",
    "\n",
    "\n",
    "ages_counts = pd.DataFrame()\n",
    "ages_counts['mean_age'] = name_ages\n",
    "ages_counts['count'] = name_counts\n",
    "\n",
    "ages_counts = ages_counts.sort_values('mean_age')\n",
    "print(\"\\n\\nCity Wise Mean Ages in Ascending Order:  \\n\")\n",
    "print(ages_counts)\n",
    "\n",
    "print(\"\\n\\nTop 3 Cities with Youngest Population:  \\n\")\n",
    "print(ages_counts[:3])"
   ]
  },
  {
   "cell_type": "code",
   "execution_count": 162,
   "metadata": {},
   "outputs": [
    {
     "data": {
      "text/html": [
       "<div>\n",
       "<style scoped>\n",
       "    .dataframe tbody tr th:only-of-type {\n",
       "        vertical-align: middle;\n",
       "    }\n",
       "\n",
       "    .dataframe tbody tr th {\n",
       "        vertical-align: top;\n",
       "    }\n",
       "\n",
       "    .dataframe thead th {\n",
       "        text-align: right;\n",
       "    }\n",
       "</style>\n",
       "<table border=\"1\" class=\"dataframe\">\n",
       "  <thead>\n",
       "    <tr style=\"text-align: right;\">\n",
       "      <th></th>\n",
       "      <th>nodeid</th>\n",
       "      <th>lat</th>\n",
       "      <th>long</th>\n",
       "    </tr>\n",
       "  </thead>\n",
       "  <tbody>\n",
       "    <tr>\n",
       "      <th>0</th>\n",
       "      <td>23A</td>\n",
       "      <td>28.679079</td>\n",
       "      <td>77.06971</td>\n",
       "    </tr>\n",
       "    <tr>\n",
       "      <th>1</th>\n",
       "      <td>34F</td>\n",
       "      <td>13.082700</td>\n",
       "      <td>80.27070</td>\n",
       "    </tr>\n",
       "    <tr>\n",
       "      <th>2</th>\n",
       "      <td>45FG</td>\n",
       "      <td>13.082700</td>\n",
       "      <td>80.27070</td>\n",
       "    </tr>\n",
       "    <tr>\n",
       "      <th>3</th>\n",
       "      <td>65D</td>\n",
       "      <td>22.570000</td>\n",
       "      <td>88.36390</td>\n",
       "    </tr>\n",
       "    <tr>\n",
       "      <th>4</th>\n",
       "      <td>36GF</td>\n",
       "      <td>28.679079</td>\n",
       "      <td>77.06971</td>\n",
       "    </tr>\n",
       "  </tbody>\n",
       "</table>\n",
       "</div>"
      ],
      "text/plain": [
       "  nodeid        lat      long\n",
       "0    23A  28.679079  77.06971\n",
       "1    34F  13.082700  80.27070\n",
       "2   45FG  13.082700  80.27070\n",
       "3    65D  22.570000  88.36390\n",
       "4   36GF  28.679079  77.06971"
      ]
     },
     "execution_count": 162,
     "metadata": {},
     "output_type": "execute_result"
    }
   ],
   "source": [
    "import networkx as nx\n",
    "road_nodes = pd.read_csv(\"roadnodes.csv\")\n",
    "road_nodes.head()"
   ]
  },
  {
   "cell_type": "code",
   "execution_count": 163,
   "metadata": {},
   "outputs": [
    {
     "data": {
      "text/html": [
       "<div>\n",
       "<style scoped>\n",
       "    .dataframe tbody tr th:only-of-type {\n",
       "        vertical-align: middle;\n",
       "    }\n",
       "\n",
       "    .dataframe tbody tr th {\n",
       "        vertical-align: top;\n",
       "    }\n",
       "\n",
       "    .dataframe thead th {\n",
       "        text-align: right;\n",
       "    }\n",
       "</style>\n",
       "<table border=\"1\" class=\"dataframe\">\n",
       "  <thead>\n",
       "    <tr style=\"text-align: right;\">\n",
       "      <th></th>\n",
       "      <th>sourcenode</th>\n",
       "      <th>dstnode</th>\n",
       "      <th>length</th>\n",
       "    </tr>\n",
       "  </thead>\n",
       "  <tbody>\n",
       "    <tr>\n",
       "      <th>0</th>\n",
       "      <td>23A</td>\n",
       "      <td>34F</td>\n",
       "      <td>12000</td>\n",
       "    </tr>\n",
       "    <tr>\n",
       "      <th>1</th>\n",
       "      <td>45FG</td>\n",
       "      <td>65D</td>\n",
       "      <td>2333</td>\n",
       "    </tr>\n",
       "    <tr>\n",
       "      <th>2</th>\n",
       "      <td>65D</td>\n",
       "      <td>36GF</td>\n",
       "      <td>23525</td>\n",
       "    </tr>\n",
       "    <tr>\n",
       "      <th>3</th>\n",
       "      <td>90FD</td>\n",
       "      <td>55GF</td>\n",
       "      <td>4565</td>\n",
       "    </tr>\n",
       "    <tr>\n",
       "      <th>4</th>\n",
       "      <td>89UY</td>\n",
       "      <td>55GF</td>\n",
       "      <td>45678</td>\n",
       "    </tr>\n",
       "  </tbody>\n",
       "</table>\n",
       "</div>"
      ],
      "text/plain": [
       "  sourcenode dstnode  length\n",
       "0        23A     34F   12000\n",
       "1       45FG     65D    2333\n",
       "2        65D    36GF   23525\n",
       "3       90FD    55GF    4565\n",
       "4       89UY    55GF   45678"
      ]
     },
     "execution_count": 163,
     "metadata": {},
     "output_type": "execute_result"
    }
   ],
   "source": [
    "road_edges = pd.read_csv(\"roadedges.csv\")\n",
    "road_edges.head()"
   ]
  },
  {
   "cell_type": "code",
   "execution_count": 168,
   "metadata": {},
   "outputs": [
    {
     "name": "stdout",
     "output_type": "stream",
     "text": [
      "7 edges, 10 nodes\n"
     ]
    }
   ],
   "source": [
    "print(f'{road_edges.shape[0]} edges, {road_nodes.shape[0]} nodes')"
   ]
  },
  {
   "cell_type": "code",
   "execution_count": 169,
   "metadata": {},
   "outputs": [
    {
     "name": "stdout",
     "output_type": "stream",
     "text": [
      "\n",
      "\n",
      " Number of nodes in the graph : \n",
      " 10\n",
      "\n",
      "\n",
      " Number of edges in the graph : \n",
      " 7\n",
      "\n",
      "\n",
      " Degree of the Graph : \n",
      " [('23A', 1), ('34F', 1), ('45FG', 1), ('65D', 3), ('36GF', 1), ('90FD', 1), ('55GF', 2), ('89UY', 2), ('33IK', 1), ('78HJ', 1)]\n"
     ]
    }
   ],
   "source": [
    "road_graph = nx.convert_matrix.from_pandas_edgelist(road_edges, source='sourcenode', target='dstnode', edge_attr='length')\n",
    "print(\"\\n\\n Number of nodes in the graph : \\n\", road_graph.number_of_nodes())\n",
    "print(\"\\n\\n Number of edges in the graph : \\n\", road_graph.number_of_edges())\n",
    "print(\"\\n\\n Degree of the Graph : \\n\", road_graph.degree())"
   ]
  },
  {
   "cell_type": "code",
   "execution_count": 170,
   "metadata": {},
   "outputs": [
    {
     "data": {
      "image/png": "[encoded data removed]",
      "text/plain": [
       "<Figure size 432x288 with 1 Axes>"
      ]
     },
     "metadata": {},
     "output_type": "display_data"
    }
   ],
   "source": [
    "import matplotlib.pyplot as plt\n",
    "nx.draw(road_graph, with_labels = True)\n",
    "plt.savefig(\"road_graph.png\")"
   ]
  },
  {
   "cell_type": "code",
   "execution_count": 171,
   "metadata": {},
   "outputs": [
    {
     "name": "stdout",
     "output_type": "stream",
     "text": [
      "Wall time: 0 ns\n"
     ]
    },
    {
     "data": {
      "text/html": [
       "<div>\n",
       "<style scoped>\n",
       "    .dataframe tbody tr th:only-of-type {\n",
       "        vertical-align: middle;\n",
       "    }\n",
       "\n",
       "    .dataframe tbody tr th {\n",
       "        vertical-align: top;\n",
       "    }\n",
       "\n",
       "    .dataframe thead th {\n",
       "        text-align: right;\n",
       "    }\n",
       "</style>\n",
       "<table border=\"1\" class=\"dataframe\">\n",
       "  <thead>\n",
       "    <tr style=\"text-align: right;\">\n",
       "      <th></th>\n",
       "      <th>lat</th>\n",
       "      <th>long</th>\n",
       "    </tr>\n",
       "    <tr>\n",
       "      <th>nodeid</th>\n",
       "      <th></th>\n",
       "      <th></th>\n",
       "    </tr>\n",
       "  </thead>\n",
       "  <tbody>\n",
       "    <tr>\n",
       "      <th>23A</th>\n",
       "      <td>28.679079</td>\n",
       "      <td>77.06971</td>\n",
       "    </tr>\n",
       "    <tr>\n",
       "      <th>33IK</th>\n",
       "      <td>28.535500</td>\n",
       "      <td>77.39100</td>\n",
       "    </tr>\n",
       "    <tr>\n",
       "      <th>34F</th>\n",
       "      <td>13.082700</td>\n",
       "      <td>80.27070</td>\n",
       "    </tr>\n",
       "    <tr>\n",
       "      <th>36GF</th>\n",
       "      <td>28.679079</td>\n",
       "      <td>77.06971</td>\n",
       "    </tr>\n",
       "    <tr>\n",
       "      <th>45FG</th>\n",
       "      <td>13.082700</td>\n",
       "      <td>80.27070</td>\n",
       "    </tr>\n",
       "  </tbody>\n",
       "</table>\n",
       "</div>"
      ],
      "text/plain": [
       "              lat      long\n",
       "nodeid                     \n",
       "23A     28.679079  77.06971\n",
       "33IK    28.535500  77.39100\n",
       "34F     13.082700  80.27070\n",
       "36GF    28.679079  77.06971\n",
       "45FG    13.082700  80.27070"
      ]
     },
     "execution_count": 171,
     "metadata": {},
     "output_type": "execute_result"
    }
   ],
   "source": [
    "road_nodes = road_nodes.set_index('nodeid', drop=True)\n",
    "%time road_nodes = road_nodes.sort_index()\n",
    "road_nodes.head()"
   ]
  },
  {
   "cell_type": "code",
   "execution_count": 172,
   "metadata": {},
   "outputs": [
    {
     "data": {
      "text/html": [
       "<div>\n",
       "<style scoped>\n",
       "    .dataframe tbody tr th:only-of-type {\n",
       "        vertical-align: middle;\n",
       "    }\n",
       "\n",
       "    .dataframe tbody tr th {\n",
       "        vertical-align: top;\n",
       "    }\n",
       "\n",
       "    .dataframe thead th {\n",
       "        text-align: right;\n",
       "    }\n",
       "</style>\n",
       "<table border=\"1\" class=\"dataframe\">\n",
       "  <thead>\n",
       "    <tr style=\"text-align: right;\">\n",
       "      <th></th>\n",
       "      <th>Hospital Name</th>\n",
       "      <th>Hospital ID</th>\n",
       "      <th>City</th>\n",
       "      <th>Latitude</th>\n",
       "      <th>Longitude</th>\n",
       "    </tr>\n",
       "  </thead>\n",
       "  <tbody>\n",
       "    <tr>\n",
       "      <th>0</th>\n",
       "      <td>ABC</td>\n",
       "      <td>7132</td>\n",
       "      <td>Delhi</td>\n",
       "      <td>28.679079</td>\n",
       "      <td>77.06971</td>\n",
       "    </tr>\n",
       "    <tr>\n",
       "      <th>1</th>\n",
       "      <td>DEF</td>\n",
       "      <td>7574</td>\n",
       "      <td>Delhi</td>\n",
       "      <td>28.679079</td>\n",
       "      <td>77.06971</td>\n",
       "    </tr>\n",
       "    <tr>\n",
       "      <th>2</th>\n",
       "      <td>GHI</td>\n",
       "      <td>8471</td>\n",
       "      <td>Delhi</td>\n",
       "      <td>28.679079</td>\n",
       "      <td>77.06971</td>\n",
       "    </tr>\n",
       "    <tr>\n",
       "      <th>3</th>\n",
       "      <td>JKL</td>\n",
       "      <td>4877</td>\n",
       "      <td>Delhi</td>\n",
       "      <td>28.679079</td>\n",
       "      <td>77.06971</td>\n",
       "    </tr>\n",
       "    <tr>\n",
       "      <th>4</th>\n",
       "      <td>MNO</td>\n",
       "      <td>4454</td>\n",
       "      <td>Kolkatta</td>\n",
       "      <td>22.570000</td>\n",
       "      <td>88.36390</td>\n",
       "    </tr>\n",
       "  </tbody>\n",
       "</table>\n",
       "</div>"
      ],
      "text/plain": [
       "  Hospital Name  Hospital ID      City   Latitude  Longitude\n",
       "0           ABC         7132     Delhi  28.679079   77.06971\n",
       "1           DEF         7574     Delhi  28.679079   77.06971\n",
       "2           GHI         8471     Delhi  28.679079   77.06971\n",
       "3           JKL         4877     Delhi  28.679079   77.06971\n",
       "4           MNO         4454  Kolkatta  22.570000   88.36390"
      ]
     },
     "execution_count": 172,
     "metadata": {},
     "output_type": "execute_result"
    }
   ],
   "source": [
    "hospitals_df = pd.read_csv(\"hospitals.csv\")\n",
    "hospitals_df.head()"
   ]
  },
  {
   "cell_type": "code",
   "execution_count": 173,
   "metadata": {},
   "outputs": [
    {
     "name": "stdout",
     "output_type": "stream",
     "text": [
      "\n",
      "\n",
      "Count of Hospitals per City is : \n",
      " City\n",
      "Ahmedabad     2\n",
      "Amritsar      2\n",
      "Bangalore     3\n",
      "Chennai       5\n",
      "Coimbatore    7\n",
      "Cuttack       4\n",
      "Dehradun      2\n",
      "Delhi         4\n",
      "Guahati       5\n",
      "Gurgaon       2\n",
      "Hyderabad     2\n",
      "Jaipur        2\n",
      "Jammu         3\n",
      "Kanpur        5\n",
      "Kargil        5\n",
      "Kochi         4\n",
      "Kolkatta      3\n",
      "Ladhakh       4\n",
      "Lucknow       3\n",
      "Mysore        2\n",
      "Nasik         2\n",
      "Noida         4\n",
      "Palampur      1\n",
      "Pune          3\n",
      "Raipur        3\n",
      "Ranchi        2\n",
      "Srinagar      3\n",
      "Surat         5\n",
      "Udaipur       4\n",
      "Ujjain        3\n",
      "Name: Hospital Name, dtype: int64\n"
     ]
    }
   ],
   "source": [
    "# Find the number of hospitals per city\n",
    "hospitals_per_city = hospitals_df[['Hospital Name','Hospital ID','City']].groupby(['City'])\n",
    "hospitals_per_city_count = hospitals_per_city['Hospital Name'].count()\n",
    "print(\"\\n\\nCount of Hospitals per City is : \\n\", hospitals_per_city_count)"
   ]
  },
  {
   "cell_type": "code",
   "execution_count": 175,
   "metadata": {},
   "outputs": [
    {
     "data": {
      "text/html": [
       "<div>\n",
       "<style scoped>\n",
       "    .dataframe tbody tr th:only-of-type {\n",
       "        vertical-align: middle;\n",
       "    }\n",
       "\n",
       "    .dataframe tbody tr th {\n",
       "        vertical-align: top;\n",
       "    }\n",
       "\n",
       "    .dataframe thead th {\n",
       "        text-align: right;\n",
       "    }\n",
       "</style>\n",
       "<table border=\"1\" class=\"dataframe\">\n",
       "  <thead>\n",
       "    <tr style=\"text-align: right;\">\n",
       "      <th></th>\n",
       "      <th>Name</th>\n",
       "      <th>Age</th>\n",
       "      <th>Gender</th>\n",
       "      <th>City</th>\n",
       "      <th>Hospital Name</th>\n",
       "      <th>Hospital ID</th>\n",
       "    </tr>\n",
       "  </thead>\n",
       "  <tbody>\n",
       "    <tr>\n",
       "      <th>0</th>\n",
       "      <td>Abid</td>\n",
       "      <td>70.0</td>\n",
       "      <td>F</td>\n",
       "      <td>Delhi</td>\n",
       "      <td>ABC</td>\n",
       "      <td>7132</td>\n",
       "    </tr>\n",
       "    <tr>\n",
       "      <th>1</th>\n",
       "      <td>Abid</td>\n",
       "      <td>70.0</td>\n",
       "      <td>F</td>\n",
       "      <td>Delhi</td>\n",
       "      <td>DEF</td>\n",
       "      <td>7574</td>\n",
       "    </tr>\n",
       "    <tr>\n",
       "      <th>2</th>\n",
       "      <td>Abid</td>\n",
       "      <td>70.0</td>\n",
       "      <td>F</td>\n",
       "      <td>Delhi</td>\n",
       "      <td>GHI</td>\n",
       "      <td>8471</td>\n",
       "    </tr>\n",
       "    <tr>\n",
       "      <th>3</th>\n",
       "      <td>Abid</td>\n",
       "      <td>70.0</td>\n",
       "      <td>F</td>\n",
       "      <td>Delhi</td>\n",
       "      <td>JKL</td>\n",
       "      <td>4877</td>\n",
       "    </tr>\n",
       "    <tr>\n",
       "      <th>4</th>\n",
       "      <td>Aabida</td>\n",
       "      <td>54.0</td>\n",
       "      <td>M</td>\n",
       "      <td>Delhi</td>\n",
       "      <td>ABC</td>\n",
       "      <td>7132</td>\n",
       "    </tr>\n",
       "    <tr>\n",
       "      <th>...</th>\n",
       "      <td>...</td>\n",
       "      <td>...</td>\n",
       "      <td>...</td>\n",
       "      <td>...</td>\n",
       "      <td>...</td>\n",
       "      <td>...</td>\n",
       "    </tr>\n",
       "    <tr>\n",
       "      <th>3434</th>\n",
       "      <td>Zameer</td>\n",
       "      <td>42.0</td>\n",
       "      <td>F</td>\n",
       "      <td>Hyderabad</td>\n",
       "      <td>DWS</td>\n",
       "      <td>8944</td>\n",
       "    </tr>\n",
       "    <tr>\n",
       "      <th>3435</th>\n",
       "      <td>Zamile</td>\n",
       "      <td>70.0</td>\n",
       "      <td>M</td>\n",
       "      <td>Hyderabad</td>\n",
       "      <td>FGV</td>\n",
       "      <td>5232</td>\n",
       "    </tr>\n",
       "    <tr>\n",
       "      <th>3436</th>\n",
       "      <td>Zamile</td>\n",
       "      <td>70.0</td>\n",
       "      <td>M</td>\n",
       "      <td>Hyderabad</td>\n",
       "      <td>DWS</td>\n",
       "      <td>8944</td>\n",
       "    </tr>\n",
       "    <tr>\n",
       "      <th>3437</th>\n",
       "      <td>Zanmi</td>\n",
       "      <td>70.0</td>\n",
       "      <td>M</td>\n",
       "      <td>Hyderabad</td>\n",
       "      <td>FGV</td>\n",
       "      <td>5232</td>\n",
       "    </tr>\n",
       "    <tr>\n",
       "      <th>3438</th>\n",
       "      <td>Zanmi</td>\n",
       "      <td>70.0</td>\n",
       "      <td>M</td>\n",
       "      <td>Hyderabad</td>\n",
       "      <td>DWS</td>\n",
       "      <td>8944</td>\n",
       "    </tr>\n",
       "  </tbody>\n",
       "</table>\n",
       "<p>3439 rows × 6 columns</p>\n",
       "</div>"
      ],
      "text/plain": [
       "        Name   Age Gender       City Hospital Name  Hospital ID\n",
       "0       Abid  70.0      F      Delhi           ABC         7132\n",
       "1       Abid  70.0      F      Delhi           DEF         7574\n",
       "2       Abid  70.0      F      Delhi           GHI         8471\n",
       "3       Abid  70.0      F      Delhi           JKL         4877\n",
       "4     Aabida  54.0      M      Delhi           ABC         7132\n",
       "...      ...   ...    ...        ...           ...          ...\n",
       "3434  Zameer  42.0      F  Hyderabad           DWS         8944\n",
       "3435  Zamile  70.0      M  Hyderabad           FGV         5232\n",
       "3436  Zamile  70.0      M  Hyderabad           DWS         8944\n",
       "3437   Zanmi  70.0      M  Hyderabad           FGV         5232\n",
       "3438   Zanmi  70.0      M  Hyderabad           DWS         8944\n",
       "\n",
       "[3439 rows x 6 columns]"
      ]
     },
     "execution_count": 175,
     "metadata": {},
     "output_type": "execute_result"
    }
   ],
   "source": [
    "# MErge the population data and hospitals data\n",
    "hospitals_population_df = pd.merge(pop_df[['Name', 'Age', 'Gender', 'City']], hospitals_df[['Hospital Name', 'Hospital ID', 'City']], how = \"inner\", on = 'City',suffixes=(\"_pop\", \"_hospitals\"))\n",
    "hospitals_population_df"
   ]
  },
  {
   "cell_type": "code",
   "execution_count": 176,
   "metadata": {},
   "outputs": [
    {
     "data": {
      "text/html": [
       "<div>\n",
       "<style scoped>\n",
       "    .dataframe tbody tr th:only-of-type {\n",
       "        vertical-align: middle;\n",
       "    }\n",
       "\n",
       "    .dataframe tbody tr th {\n",
       "        vertical-align: top;\n",
       "    }\n",
       "\n",
       "    .dataframe thead th {\n",
       "        text-align: right;\n",
       "    }\n",
       "</style>\n",
       "<table border=\"1\" class=\"dataframe\">\n",
       "  <thead>\n",
       "    <tr style=\"text-align: right;\">\n",
       "      <th></th>\n",
       "      <th>Name</th>\n",
       "    </tr>\n",
       "    <tr>\n",
       "      <th>Hospital Name</th>\n",
       "      <th></th>\n",
       "    </tr>\n",
       "  </thead>\n",
       "  <tbody>\n",
       "    <tr>\n",
       "      <th>AB</th>\n",
       "      <td>77</td>\n",
       "    </tr>\n",
       "    <tr>\n",
       "      <th>ABA</th>\n",
       "      <td>10</td>\n",
       "    </tr>\n",
       "    <tr>\n",
       "      <th>ABB</th>\n",
       "      <td>16</td>\n",
       "    </tr>\n",
       "    <tr>\n",
       "      <th>ABC</th>\n",
       "      <td>112</td>\n",
       "    </tr>\n",
       "    <tr>\n",
       "      <th>ABCD</th>\n",
       "      <td>53</td>\n",
       "    </tr>\n",
       "    <tr>\n",
       "      <th>...</th>\n",
       "      <td>...</td>\n",
       "    </tr>\n",
       "    <tr>\n",
       "      <th>WXYZ</th>\n",
       "      <td>27</td>\n",
       "    </tr>\n",
       "    <tr>\n",
       "      <th>XAB</th>\n",
       "      <td>17</td>\n",
       "    </tr>\n",
       "    <tr>\n",
       "      <th>YZ</th>\n",
       "      <td>138</td>\n",
       "    </tr>\n",
       "    <tr>\n",
       "      <th>YZAB</th>\n",
       "      <td>45</td>\n",
       "    </tr>\n",
       "    <tr>\n",
       "      <th>ZAB</th>\n",
       "      <td>17</td>\n",
       "    </tr>\n",
       "  </tbody>\n",
       "</table>\n",
       "<p>98 rows × 1 columns</p>\n",
       "</div>"
      ],
      "text/plain": [
       "               Name\n",
       "Hospital Name      \n",
       "AB               77\n",
       "ABA              10\n",
       "ABB              16\n",
       "ABC             112\n",
       "ABCD             53\n",
       "...             ...\n",
       "WXYZ             27\n",
       "XAB              17\n",
       "YZ              138\n",
       "YZAB             45\n",
       "ZAB              17\n",
       "\n",
       "[98 rows x 1 columns]"
      ]
     },
     "execution_count": 176,
     "metadata": {},
     "output_type": "execute_result"
    }
   ],
   "source": [
    "# Patients per hospital\n",
    "hospitals_by_city_df = hospitals_population_df[['Name', 'Hospital Name','City']].groupby(['Hospital Name'])\n",
    "hospitals_by_city_df[['Name']].count()"
   ]
  },
  {
   "cell_type": "markdown",
   "metadata": {},
   "source": [
    "for key, item in hospitals_by_city_df:\n",
    "    print(hospitals_by_city_df.get_group(key))"
   ]
  }
 ],
 "metadata": {
  "colab": {
   "collapsed_sections": [],
   "name": "Data Analysis with Pandas and Numpy.ipynb",
   "provenance": []
  },
  "kernelspec": {
   "display_name": "Python 3",
   "language": "python",
   "name": "python3"
  },
  "language_info": {
   "codemirror_mode": {
    "name": "ipython",
    "version": 3
   },
   "file_extension": ".py",
   "mimetype": "text/x-python",
   "name": "python",
   "nbconvert_exporter": "python",
   "pygments_lexer": "ipython3",
   "version": "3.7.6"
  }
 },
 "nbformat": 4,
 "nbformat_minor": 1
}
